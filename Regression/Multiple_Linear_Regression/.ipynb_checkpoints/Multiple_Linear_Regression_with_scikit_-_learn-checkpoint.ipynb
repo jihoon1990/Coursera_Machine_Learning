{
 "cells": [
  {
   "cell_type": "markdown",
   "metadata": {},
   "source": [
    "# Multiple Linear Regression with scikit - learn"
   ]
  },
  {
   "cell_type": "markdown",
   "metadata": {},
   "source": [
    "## Import Module"
   ]
  },
  {
   "cell_type": "code",
   "execution_count": 1,
   "metadata": {
    "collapsed": true
   },
   "outputs": [],
   "source": [
    "import pandas as pd\n",
    "import numpy as np\n",
    "from sklearn import linear_model\n",
    "from math import log"
   ]
  },
  {
   "cell_type": "markdown",
   "metadata": {},
   "source": [
    "## Import Data Type"
   ]
  },
  {
   "cell_type": "code",
   "execution_count": 2,
   "metadata": {
    "collapsed": true
   },
   "outputs": [],
   "source": [
    "dtype_dict = {'bathrooms':float, 'waterfront':int, \n",
    "              'sqft_above':int, 'sqft_living15':float, \n",
    "              'grade':int, 'yr_renovated':int, 'price':float, \n",
    "              'bedrooms':float, 'zipcode':str, 'long':float, \n",
    "              'sqft_lot15':float, 'sqft_living':float, \n",
    "              'floors':str, 'condition':int, 'lat':float, \n",
    "              'date':str, 'sqft_basement':int, 'yr_built':int, \n",
    "              'id':str, 'sqft_lot':int, 'view':int}"
   ]
  },
  {
   "cell_type": "markdown",
   "metadata": {},
   "source": [
    "## Load Data from CSV Files"
   ]
  },
  {
   "cell_type": "code",
   "execution_count": 3,
   "metadata": {
    "collapsed": true
   },
   "outputs": [],
   "source": [
    "sales = pd.read_csv(\"kc_house_data.csv\", dtype = dtype_dict)"
   ]
  },
  {
   "cell_type": "markdown",
   "metadata": {},
   "source": [
    "## Split Data into Training and Testing"
   ]
  },
  {
   "cell_type": "code",
   "execution_count": 4,
   "metadata": {
    "collapsed": true
   },
   "outputs": [],
   "source": [
    "train_data = pd.read_csv(\"kc_house_train_data.csv\", dtype = dtype_dict)\n",
    "test_data = pd.read_csv(\"kc_house_test_data.csv\", dtype = dtype_dict)"
   ]
  },
  {
   "cell_type": "markdown",
   "metadata": {},
   "source": [
    "## Creating New Features"
   ]
  },
  {
   "cell_type": "code",
   "execution_count": 5,
   "metadata": {
    "collapsed": true
   },
   "outputs": [],
   "source": [
    "# 4 new features\n",
    "# * bedrooms_squared = bedrooms * bedrooms\n",
    "# * bed_bath_rooms = bedrooms * bathrooms\n",
    "# * log_sqft_living = log(sqft_living)\n",
    "# * lat_plus_long = lat + long\n",
    "\n",
    "train_data['bedrooms_squared'] = train_data['bedrooms'].apply(lambda x: x**2)\n",
    "test_data['bedrooms_squared'] = test_data['bedrooms'].apply(lambda x: x**2)\n",
    "\n",
    "train_data['bed_bath_rooms'] = train_data['bedrooms'] * train_data['bathrooms']\n",
    "test_data['bed_bath_rooms'] = test_data['bedrooms'] * test_data['bathrooms']\n",
    "\n",
    "train_data['log_sqft_living'] = train_data['sqft_living'].apply(lambda x: log(x))\n",
    "test_data['log_sqft_living'] = test_data['sqft_living'].apply(lambda x: log(x))\n",
    "\n",
    "train_data['lat_plus_long'] = train_data['lat'] + train_data['long']\n",
    "test_data['lat_plus_long'] = test_data['lat'] + test_data['long']"
   ]
  },
  {
   "cell_type": "markdown",
   "metadata": {},
   "source": [
    "Let's explore new features in `train_data`"
   ]
  },
  {
   "cell_type": "code",
   "execution_count": 6,
   "metadata": {},
   "outputs": [
    {
     "data": {
      "text/html": [
       "<div>\n",
       "<table border=\"1\" class=\"dataframe\">\n",
       "  <thead>\n",
       "    <tr style=\"text-align: right;\">\n",
       "      <th></th>\n",
       "      <th>bedrooms</th>\n",
       "      <th>bathrooms</th>\n",
       "      <th>lat</th>\n",
       "      <th>long</th>\n",
       "      <th>bedrooms_squared</th>\n",
       "      <th>bed_bath_rooms</th>\n",
       "      <th>log_sqft_living</th>\n",
       "      <th>lat_plus_long</th>\n",
       "    </tr>\n",
       "  </thead>\n",
       "  <tbody>\n",
       "    <tr>\n",
       "      <th>0</th>\n",
       "      <td>3.0</td>\n",
       "      <td>1.00</td>\n",
       "      <td>47.5112</td>\n",
       "      <td>-122.257</td>\n",
       "      <td>9.0</td>\n",
       "      <td>3.00</td>\n",
       "      <td>7.073270</td>\n",
       "      <td>-74.7458</td>\n",
       "    </tr>\n",
       "    <tr>\n",
       "      <th>1</th>\n",
       "      <td>3.0</td>\n",
       "      <td>2.25</td>\n",
       "      <td>47.7210</td>\n",
       "      <td>-122.319</td>\n",
       "      <td>9.0</td>\n",
       "      <td>6.75</td>\n",
       "      <td>7.851661</td>\n",
       "      <td>-74.5980</td>\n",
       "    </tr>\n",
       "    <tr>\n",
       "      <th>2</th>\n",
       "      <td>2.0</td>\n",
       "      <td>1.00</td>\n",
       "      <td>47.7379</td>\n",
       "      <td>-122.233</td>\n",
       "      <td>4.0</td>\n",
       "      <td>2.00</td>\n",
       "      <td>6.646391</td>\n",
       "      <td>-74.4951</td>\n",
       "    </tr>\n",
       "    <tr>\n",
       "      <th>3</th>\n",
       "      <td>4.0</td>\n",
       "      <td>3.00</td>\n",
       "      <td>47.5208</td>\n",
       "      <td>-122.393</td>\n",
       "      <td>16.0</td>\n",
       "      <td>12.00</td>\n",
       "      <td>7.580700</td>\n",
       "      <td>-74.8722</td>\n",
       "    </tr>\n",
       "    <tr>\n",
       "      <th>4</th>\n",
       "      <td>3.0</td>\n",
       "      <td>2.00</td>\n",
       "      <td>47.6168</td>\n",
       "      <td>-122.045</td>\n",
       "      <td>9.0</td>\n",
       "      <td>6.00</td>\n",
       "      <td>7.426549</td>\n",
       "      <td>-74.4282</td>\n",
       "    </tr>\n",
       "  </tbody>\n",
       "</table>\n",
       "</div>"
      ],
      "text/plain": [
       "   bedrooms  bathrooms      lat     long  bedrooms_squared  bed_bath_rooms  \\\n",
       "0       3.0       1.00  47.5112 -122.257               9.0            3.00   \n",
       "1       3.0       2.25  47.7210 -122.319               9.0            6.75   \n",
       "2       2.0       1.00  47.7379 -122.233               4.0            2.00   \n",
       "3       4.0       3.00  47.5208 -122.393              16.0           12.00   \n",
       "4       3.0       2.00  47.6168 -122.045               9.0            6.00   \n",
       "\n",
       "   log_sqft_living  lat_plus_long  \n",
       "0         7.073270       -74.7458  \n",
       "1         7.851661       -74.5980  \n",
       "2         6.646391       -74.4951  \n",
       "3         7.580700       -74.8722  \n",
       "4         7.426549       -74.4282  "
      ]
     },
     "execution_count": 6,
     "metadata": {},
     "output_type": "execute_result"
    }
   ],
   "source": [
    "train_data[['bedrooms','bathrooms','lat','long','bedrooms_squared',\n",
    "            'bed_bath_rooms','log_sqft_living','lat_plus_long']].head(5)"
   ]
  },
  {
   "cell_type": "markdown",
   "metadata": {},
   "source": [
    "## Average Value of New Features on Test Data"
   ]
  },
  {
   "cell_type": "code",
   "execution_count": 7,
   "metadata": {},
   "outputs": [
    {
     "name": "stdout",
     "output_type": "stream",
     "text": [
      "Average of 'bedrooms_squared': 12.4466777015843\n",
      "Average of 'bed_bath_rooms': 7.5039016315913925\n",
      "Average of 'log_sqft_living': 7.550274679645921\n",
      "Average of 'lat_plus_long': -74.65333355403185\n"
     ]
    }
   ],
   "source": [
    "print('Average of \\'bedrooms_squared\\': ' + str(test_data['bedrooms_squared'].mean()))\n",
    "print('Average of \\'bed_bath_rooms\\': ' + str(test_data['bed_bath_rooms'].mean()))\n",
    "print('Average of \\'log_sqft_living\\': ' + str(test_data['log_sqft_living'].mean()))\n",
    "print('Average of \\'lat_plus_long\\': ' + str(test_data['lat_plus_long'].mean()))"
   ]
  },
  {
   "cell_type": "markdown",
   "metadata": {},
   "source": [
    "## Learning Multiple Models"
   ]
  },
  {
   "cell_type": "markdown",
   "metadata": {},
   "source": [
    "Now we will learn the weights for three (nested) models for predicting house prices. The first model will have the fewest features the second model will add one more feature and the third will add a few more:\n",
    "\n",
    "* Model 1: [squarefeet, # bedrooms, # bathrooms, latitude & longitude]\n",
    "* Model 2: Model 1 features + [bed_bath_rooms]\n",
    "* Model 3: Model 2 features + [bedrooms_squared, log_sqft_living, lat_plus_long]"
   ]
  },
  {
   "cell_type": "markdown",
   "metadata": {},
   "source": [
    "### Model 1"
   ]
  },
  {
   "cell_type": "code",
   "execution_count": 8,
   "metadata": {},
   "outputs": [
    {
     "name": "stdout",
     "output_type": "stream",
     "text": [
      "MODEL 1\n",
      "Intercepts:  -69075726.7926\n"
     ]
    },
    {
     "data": {
      "text/html": [
       "<div>\n",
       "<table border=\"1\" class=\"dataframe\">\n",
       "  <thead>\n",
       "    <tr style=\"text-align: right;\">\n",
       "      <th></th>\n",
       "      <th>features</th>\n",
       "      <th>estimated coefficients</th>\n",
       "    </tr>\n",
       "  </thead>\n",
       "  <tbody>\n",
       "    <tr>\n",
       "      <th>0</th>\n",
       "      <td>sqft_living</td>\n",
       "      <td>312.258646</td>\n",
       "    </tr>\n",
       "    <tr>\n",
       "      <th>1</th>\n",
       "      <td>bedrooms</td>\n",
       "      <td>-59586.533154</td>\n",
       "    </tr>\n",
       "    <tr>\n",
       "      <th>2</th>\n",
       "      <td>bathrooms</td>\n",
       "      <td>15706.742083</td>\n",
       "    </tr>\n",
       "    <tr>\n",
       "      <th>3</th>\n",
       "      <td>lat</td>\n",
       "      <td>658619.263931</td>\n",
       "    </tr>\n",
       "    <tr>\n",
       "      <th>4</th>\n",
       "      <td>long</td>\n",
       "      <td>-309374.351268</td>\n",
       "    </tr>\n",
       "  </tbody>\n",
       "</table>\n",
       "</div>"
      ],
      "text/plain": [
       "      features  estimated coefficients\n",
       "0  sqft_living              312.258646\n",
       "1     bedrooms           -59586.533154\n",
       "2    bathrooms            15706.742083\n",
       "3          lat           658619.263931\n",
       "4         long          -309374.351268"
      ]
     },
     "execution_count": 8,
     "metadata": {},
     "output_type": "execute_result"
    }
   ],
   "source": [
    "print(\"MODEL 1\")\n",
    "model_1 = linear_model.LinearRegression(copy_X=True, fit_intercept=True, n_jobs=1, normalize=False)\n",
    "model_1_x_train = train_data[['sqft_living', 'bedrooms', 'bathrooms', 'lat', 'long']]\n",
    "model_1_y_train = train_data['price']\n",
    "model_1.fit(model_1_x_train,model_1_y_train)\n",
    "print(\"Intercepts: \", model_1.intercept_)\n",
    "pd.DataFrame(list(zip(model_1_x_train.columns,model_1.coef_)), columns = ['features', 'estimated coefficients'])"
   ]
  },
  {
   "cell_type": "markdown",
   "metadata": {},
   "source": [
    "### Model 2"
   ]
  },
  {
   "cell_type": "code",
   "execution_count": 9,
   "metadata": {},
   "outputs": [
    {
     "name": "stdout",
     "output_type": "stream",
     "text": [
      "MODEL 2\n",
      "Intercepts:  -66867968.8711\n"
     ]
    },
    {
     "data": {
      "text/html": [
       "<div>\n",
       "<table border=\"1\" class=\"dataframe\">\n",
       "  <thead>\n",
       "    <tr style=\"text-align: right;\">\n",
       "      <th></th>\n",
       "      <th>features</th>\n",
       "      <th>estimated coefficients</th>\n",
       "    </tr>\n",
       "  </thead>\n",
       "  <tbody>\n",
       "    <tr>\n",
       "      <th>0</th>\n",
       "      <td>sqft_living</td>\n",
       "      <td>306.610053</td>\n",
       "    </tr>\n",
       "    <tr>\n",
       "      <th>1</th>\n",
       "      <td>bedrooms</td>\n",
       "      <td>-113446.368070</td>\n",
       "    </tr>\n",
       "    <tr>\n",
       "      <th>2</th>\n",
       "      <td>bathrooms</td>\n",
       "      <td>-71461.308293</td>\n",
       "    </tr>\n",
       "    <tr>\n",
       "      <th>3</th>\n",
       "      <td>lat</td>\n",
       "      <td>654844.629503</td>\n",
       "    </tr>\n",
       "    <tr>\n",
       "      <th>4</th>\n",
       "      <td>long</td>\n",
       "      <td>-294298.969138</td>\n",
       "    </tr>\n",
       "    <tr>\n",
       "      <th>5</th>\n",
       "      <td>bed_bath_rooms</td>\n",
       "      <td>25579.652001</td>\n",
       "    </tr>\n",
       "  </tbody>\n",
       "</table>\n",
       "</div>"
      ],
      "text/plain": [
       "         features  estimated coefficients\n",
       "0     sqft_living              306.610053\n",
       "1        bedrooms          -113446.368070\n",
       "2       bathrooms           -71461.308293\n",
       "3             lat           654844.629503\n",
       "4            long          -294298.969138\n",
       "5  bed_bath_rooms            25579.652001"
      ]
     },
     "execution_count": 9,
     "metadata": {},
     "output_type": "execute_result"
    }
   ],
   "source": [
    "print(\"MODEL 2\")\n",
    "model_2 = linear_model.LinearRegression(copy_X=True, fit_intercept=True, n_jobs=1, normalize=False)\n",
    "model_2_x_train = train_data[['sqft_living', 'bedrooms', 'bathrooms', 'lat', 'long', 'bed_bath_rooms']]\n",
    "model_2_y_train = train_data['price']\n",
    "model_2.fit(model_2_x_train,model_2_y_train)\n",
    "print(\"Intercepts: \", model_2.intercept_)\n",
    "pd.DataFrame(list(zip(model_2_x_train.columns,model_2.coef_)), columns = ['features', 'estimated coefficients'])"
   ]
  },
  {
   "cell_type": "markdown",
   "metadata": {},
   "source": [
    "### Model 3"
   ]
  },
  {
   "cell_type": "code",
   "execution_count": 10,
   "metadata": {},
   "outputs": [
    {
     "name": "stdout",
     "output_type": "stream",
     "text": [
      "MODEL 3\n",
      "Intercepts:  -62036084.9861\n"
     ]
    },
    {
     "data": {
      "text/html": [
       "<div>\n",
       "<table border=\"1\" class=\"dataframe\">\n",
       "  <thead>\n",
       "    <tr style=\"text-align: right;\">\n",
       "      <th></th>\n",
       "      <th>features</th>\n",
       "      <th>estimated coefficients</th>\n",
       "    </tr>\n",
       "  </thead>\n",
       "  <tbody>\n",
       "    <tr>\n",
       "      <th>0</th>\n",
       "      <td>sqft_living</td>\n",
       "      <td>529.422820</td>\n",
       "    </tr>\n",
       "    <tr>\n",
       "      <th>1</th>\n",
       "      <td>bedrooms</td>\n",
       "      <td>34514.229578</td>\n",
       "    </tr>\n",
       "    <tr>\n",
       "      <th>2</th>\n",
       "      <td>bathrooms</td>\n",
       "      <td>67060.781319</td>\n",
       "    </tr>\n",
       "    <tr>\n",
       "      <th>3</th>\n",
       "      <td>lat</td>\n",
       "      <td>534085.610867</td>\n",
       "    </tr>\n",
       "    <tr>\n",
       "      <th>4</th>\n",
       "      <td>long</td>\n",
       "      <td>-406750.710861</td>\n",
       "    </tr>\n",
       "    <tr>\n",
       "      <th>5</th>\n",
       "      <td>bed_bath_rooms</td>\n",
       "      <td>-8570.504395</td>\n",
       "    </tr>\n",
       "    <tr>\n",
       "      <th>6</th>\n",
       "      <td>bedrooms_squared</td>\n",
       "      <td>-6788.586670</td>\n",
       "    </tr>\n",
       "    <tr>\n",
       "      <th>7</th>\n",
       "      <td>log_sqft_living</td>\n",
       "      <td>-561831.484076</td>\n",
       "    </tr>\n",
       "    <tr>\n",
       "      <th>8</th>\n",
       "      <td>lat_plus_long</td>\n",
       "      <td>127334.900006</td>\n",
       "    </tr>\n",
       "  </tbody>\n",
       "</table>\n",
       "</div>"
      ],
      "text/plain": [
       "           features  estimated coefficients\n",
       "0       sqft_living              529.422820\n",
       "1          bedrooms            34514.229578\n",
       "2         bathrooms            67060.781319\n",
       "3               lat           534085.610867\n",
       "4              long          -406750.710861\n",
       "5    bed_bath_rooms            -8570.504395\n",
       "6  bedrooms_squared            -6788.586670\n",
       "7   log_sqft_living          -561831.484076\n",
       "8     lat_plus_long           127334.900006"
      ]
     },
     "execution_count": 10,
     "metadata": {},
     "output_type": "execute_result"
    }
   ],
   "source": [
    "print(\"MODEL 3\")\n",
    "model_3 = linear_model.LinearRegression(copy_X=True, fit_intercept=True, n_jobs=1, normalize=False)\n",
    "model_3_x_train = train_data[['sqft_living', 'bedrooms', 'bathrooms', 'lat', 'long', 'bed_bath_rooms', 'bedrooms_squared', 'log_sqft_living', 'lat_plus_long']]\n",
    "model_3_y_train = train_data['price']\n",
    "model_3.fit(model_3_x_train,model_3_y_train)\n",
    "print(\"Intercepts: \", model_3.intercept_)\n",
    "pd.DataFrame(list(zip(model_3_x_train.columns,model_3.coef_)), columns = ['features', 'estimated coefficients'])"
   ]
  },
  {
   "cell_type": "markdown",
   "metadata": {},
   "source": [
    "## Comparing Multiple Models"
   ]
  },
  {
   "cell_type": "markdown",
   "metadata": {},
   "source": [
    "We will prepare test dataset to compare models:"
   ]
  },
  {
   "cell_type": "code",
   "execution_count": 11,
   "metadata": {
    "collapsed": true
   },
   "outputs": [],
   "source": [
    "model_1_x_test = test_data[['sqft_living', 'bedrooms', 'bathrooms', 'lat', 'long']]\n",
    "model_1_y_test = test_data['price']\n",
    "model_2_x_test = test_data[['sqft_living', 'bedrooms', 'bathrooms', 'lat', 'long', 'bed_bath_rooms']]\n",
    "model_2_y_test = test_data['price']\n",
    "model_3_x_test = test_data[['sqft_living', 'bedrooms', 'bathrooms', 'lat', 'long', 'bed_bath_rooms', 'bedrooms_squared', 'log_sqft_living', 'lat_plus_long']]\n",
    "model_3_y_test = test_data['price']"
   ]
  },
  {
   "cell_type": "markdown",
   "metadata": {},
   "source": [
    "Now that you've learned three models and extracted the model weights we want to evaluate which model is best."
   ]
  },
  {
   "cell_type": "markdown",
   "metadata": {},
   "source": [
    "First use your functions from earlier to compute the RSS on TRAINING Data for each of the three models."
   ]
  },
  {
   "cell_type": "code",
   "execution_count": 12,
   "metadata": {},
   "outputs": [
    {
     "name": "stdout",
     "output_type": "stream",
     "text": [
      "RSS of Model 1 (train data): 9.679e+14\n",
      "RSS of Model 2 (train data): 9.584e+14\n",
      "RSS of Model 3 (train data): 9.034e+14\n"
     ]
    }
   ],
   "source": [
    "model_1_rss_train = np.sum((model_1_y_train - model_1.predict(model_1_x_train))**2)\n",
    "print(\"RSS of Model 1 (train data): %.4g\" % model_1_rss_train)\n",
    "model_2_rss_train = np.sum((model_2_y_train - model_2.predict(model_2_x_train))**2)\n",
    "print(\"RSS of Model 2 (train data): %.4g\" % model_2_rss_train)\n",
    "model_3_rss_train = np.sum((model_3_y_train - model_3.predict(model_3_x_train))**2)\n",
    "print(\"RSS of Model 3 (train data): %.4g\" % model_3_rss_train)"
   ]
  },
  {
   "cell_type": "markdown",
   "metadata": {},
   "source": [
    "Now compute the RSS on on TEST data for each of the three models."
   ]
  },
  {
   "cell_type": "code",
   "execution_count": 13,
   "metadata": {},
   "outputs": [
    {
     "name": "stdout",
     "output_type": "stream",
     "text": [
      "RSS of Model 1 (test data): 2.255e+14\n",
      "RSS of Model 2 (test data): 2.234e+14\n",
      "RSS of Model 3 (test data): 2.592e+14\n"
     ]
    }
   ],
   "source": [
    "model_1_rss_test = np.sum((model_1_y_test - model_1.predict(model_1_x_test))**2)\n",
    "print(\"RSS of Model 1 (test data): %.4g\" % model_1_rss_test)\n",
    "model_2_rss_test = np.sum((model_2_y_test - model_2.predict(model_2_x_test))**2)\n",
    "print(\"RSS of Model 2 (test data): %.4g\" % model_2_rss_test)\n",
    "model_3_rss_test = np.sum((model_3_y_test - model_3.predict(model_3_x_test))**2)\n",
    "print(\"RSS of Model 3 (test data): %.4g\" % model_3_rss_test)"
   ]
  }
 ],
 "metadata": {
  "kernelspec": {
   "display_name": "Python 3",
   "language": "python",
   "name": "python3"
  },
  "language_info": {
   "codemirror_mode": {
    "name": "ipython",
    "version": 3
   },
   "file_extension": ".py",
   "mimetype": "text/x-python",
   "name": "python",
   "nbconvert_exporter": "python",
   "pygments_lexer": "ipython3",
   "version": "3.6.0"
  }
 },
 "nbformat": 4,
 "nbformat_minor": 2
}
