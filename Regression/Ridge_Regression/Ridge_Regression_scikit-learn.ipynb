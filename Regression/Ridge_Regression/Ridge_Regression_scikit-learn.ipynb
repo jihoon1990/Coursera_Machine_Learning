{
 "cells": [
  {
   "cell_type": "markdown",
   "metadata": {},
   "source": [
    "# Ridge Regression (scikit-learn)"
   ]
  },
  {
   "cell_type": "markdown",
   "metadata": {},
   "source": [
    "## Import Modules"
   ]
  },
  {
   "cell_type": "code",
   "execution_count": 1,
   "metadata": {
    "collapsed": true
   },
   "outputs": [],
   "source": [
    "import pandas as pd\n",
    "import numpy as np\n",
    "from matplotlib import pyplot as plt\n",
    "%matplotlib inline\n",
    "from sklearn import linear_model"
   ]
  },
  {
   "cell_type": "markdown",
   "metadata": {},
   "source": [
    "## Import Data type for CSV Files."
   ]
  },
  {
   "cell_type": "code",
   "execution_count": 2,
   "metadata": {
    "collapsed": true
   },
   "outputs": [],
   "source": [
    "dtype_dict = {'bathrooms':float, 'waterfront':int, 'sqft_above':int, \n",
    "              'sqft_living15':float, 'grade':int, 'yr_renovated':int, \n",
    "              'price':float, 'bedrooms':float, 'zipcode':str, 'long':float, \n",
    "              'sqft_lot15':float, 'sqft_living':float, 'floors':str, \n",
    "              'condition':int, 'lat':float, 'date':str, 'sqft_basement':int, \n",
    "              'yr_built':int, 'id':str, 'sqft_lot':int, 'view':int}"
   ]
  },
  {
   "cell_type": "markdown",
   "metadata": {},
   "source": [
    "## Load Data from CSV Files"
   ]
  },
  {
   "cell_type": "code",
   "execution_count": 3,
   "metadata": {
    "collapsed": true
   },
   "outputs": [],
   "source": [
    "sales = pd.read_csv(\"kc_house_data.csv\", dtype = dtype_dict)\n",
    "train_data = pd.read_csv(\"kc_house_train_data.csv\", dtype = dtype_dict)\n",
    "test_data = pd.read_csv(\"kc_house_test_data.csv\", dtype = dtype_dict)\n",
    "valid_data = pd.read_csv(\"kc_house_valid_data.csv\", dtype = dtype_dict)\n",
    "set1 = pd.read_csv(\"kc_house_set_1_data.csv\", dtype = dtype_dict)\n",
    "set2 = pd.read_csv(\"kc_house_set_2_data.csv\", dtype = dtype_dict)\n",
    "set3 = pd.read_csv(\"kc_house_set_3_data.csv\", dtype = dtype_dict)\n",
    "set4 = pd.read_csv(\"kc_house_set_4_data.csv\", dtype = dtype_dict)\n",
    "train_valid_shuffled = pd.read_csv(\"kc_house_train_valid_shuffled.csv\", dtype = dtype_dict)"
   ]
  },
  {
   "cell_type": "markdown",
   "metadata": {},
   "source": [
    "## Polynomial Regression Function"
   ]
  },
  {
   "cell_type": "markdown",
   "metadata": {},
   "source": [
    "It contains the powers of a given input."
   ]
  },
  {
   "cell_type": "code",
   "execution_count": 4,
   "metadata": {
    "collapsed": true
   },
   "outputs": [],
   "source": [
    "def polynomial_dataframe(feature, degree): # feature is pandas.Series type\n",
    "    # assume that degree >= 1\n",
    "    # initialize the dataframe:\n",
    "    poly_dataframe = pd.DataFrame()\n",
    "    # and set poly_dataframe['power_1'] equal to the passed feature\n",
    "    poly_dataframe['power_1'] = feature\n",
    "    # first check if degree > 1\n",
    "    if degree > 1:\n",
    "        # then loop over the remaining degrees:\n",
    "        for power in range(2, degree+1):\n",
    "            # first we'll give the column a name:\n",
    "            name = 'power_' + str(power)\n",
    "            # assign poly_dataframe[name] to be feature^power; use apply(*)\n",
    "            poly_dataframe[name] = feature.apply(lambda x: x ** power)\n",
    "    return poly_dataframe"
   ]
  },
  {
   "cell_type": "markdown",
   "metadata": {},
   "source": [
    "Following function will be used to generate Ridge Regression Model:"
   ]
  },
  {
   "cell_type": "code",
   "execution_count": 5,
   "metadata": {
    "collapsed": true
   },
   "outputs": [],
   "source": [
    "def ridge_model(alpha,x,y):\n",
    "    model = linear_model.Ridge(alpha = alpha, normalize = True)\n",
    "    model.fit(x,y)\n",
    "    return model"
   ]
  },
  {
   "cell_type": "markdown",
   "metadata": {},
   "source": [
    "And following function will visualize the polynomial regression line:"
   ]
  },
  {
   "cell_type": "code",
   "execution_count": 6,
   "metadata": {
    "collapsed": true
   },
   "outputs": [],
   "source": [
    "def plot_fitted_line(n,set_data,model):\n",
    "    plt.figure(n)\n",
    "    plt.plot(set_data['power_1'], set_data['price'],'.',\n",
    "             set_data['power_1'], model.predict(set_data.drop('price',1)),'-')\n",
    "    plt.show()"
   ]
  },
  {
   "cell_type": "markdown",
   "metadata": {},
   "source": [
    "The 15th-order polynomial model with 'sqft_living' input will be employed. First, we will sort by the values of `sqft_living`."
   ]
  },
  {
   "cell_type": "code",
   "execution_count": 7,
   "metadata": {
    "collapsed": true
   },
   "outputs": [],
   "source": [
    "sales = sales.sort_values(['sqft_living','price'])"
   ]
  },
  {
   "cell_type": "markdown",
   "metadata": {},
   "source": [
    "Generate polynomial features up to degree 15 using `polynomial_dataframe()` and fit af model with these features. When fitting the model, use an L2 penalty of 1e-5:"
   ]
  },
  {
   "cell_type": "code",
   "execution_count": 8,
   "metadata": {
    "collapsed": true
   },
   "outputs": [],
   "source": [
    "sales_data = polynomial_dataframe(sales['sqft_living'], 15)\n",
    "sales_data['price'] = sales['price']"
   ]
  },
  {
   "cell_type": "code",
   "execution_count": 9,
   "metadata": {},
   "outputs": [
    {
     "data": {
      "text/html": [
       "<div>\n",
       "<table border=\"1\" class=\"dataframe\">\n",
       "  <thead>\n",
       "    <tr style=\"text-align: right;\">\n",
       "      <th></th>\n",
       "      <th>power_1</th>\n",
       "      <th>power_2</th>\n",
       "      <th>power_3</th>\n",
       "      <th>power_4</th>\n",
       "      <th>power_5</th>\n",
       "      <th>power_6</th>\n",
       "      <th>power_7</th>\n",
       "      <th>power_8</th>\n",
       "      <th>power_9</th>\n",
       "      <th>power_10</th>\n",
       "      <th>power_11</th>\n",
       "      <th>power_12</th>\n",
       "      <th>power_13</th>\n",
       "      <th>power_14</th>\n",
       "      <th>power_15</th>\n",
       "      <th>price</th>\n",
       "    </tr>\n",
       "  </thead>\n",
       "  <tbody>\n",
       "    <tr>\n",
       "      <th>19452</th>\n",
       "      <td>290.0</td>\n",
       "      <td>84100.0</td>\n",
       "      <td>24389000.0</td>\n",
       "      <td>7.072810e+09</td>\n",
       "      <td>2.051115e+12</td>\n",
       "      <td>5.948233e+14</td>\n",
       "      <td>1.724988e+17</td>\n",
       "      <td>5.002464e+19</td>\n",
       "      <td>1.450715e+22</td>\n",
       "      <td>4.207072e+24</td>\n",
       "      <td>1.220051e+27</td>\n",
       "      <td>3.538148e+29</td>\n",
       "      <td>1.026063e+32</td>\n",
       "      <td>2.975582e+34</td>\n",
       "      <td>8.629189e+36</td>\n",
       "      <td>142000.0</td>\n",
       "    </tr>\n",
       "    <tr>\n",
       "      <th>15381</th>\n",
       "      <td>370.0</td>\n",
       "      <td>136900.0</td>\n",
       "      <td>50653000.0</td>\n",
       "      <td>1.874161e+10</td>\n",
       "      <td>6.934396e+12</td>\n",
       "      <td>2.565726e+15</td>\n",
       "      <td>9.493188e+17</td>\n",
       "      <td>3.512479e+20</td>\n",
       "      <td>1.299617e+23</td>\n",
       "      <td>4.808584e+25</td>\n",
       "      <td>1.779176e+28</td>\n",
       "      <td>6.582952e+30</td>\n",
       "      <td>2.435692e+33</td>\n",
       "      <td>9.012061e+35</td>\n",
       "      <td>3.334463e+38</td>\n",
       "      <td>276000.0</td>\n",
       "    </tr>\n",
       "    <tr>\n",
       "      <th>860</th>\n",
       "      <td>380.0</td>\n",
       "      <td>144400.0</td>\n",
       "      <td>54872000.0</td>\n",
       "      <td>2.085136e+10</td>\n",
       "      <td>7.923517e+12</td>\n",
       "      <td>3.010936e+15</td>\n",
       "      <td>1.144156e+18</td>\n",
       "      <td>4.347792e+20</td>\n",
       "      <td>1.652161e+23</td>\n",
       "      <td>6.278212e+25</td>\n",
       "      <td>2.385721e+28</td>\n",
       "      <td>9.065738e+30</td>\n",
       "      <td>3.444980e+33</td>\n",
       "      <td>1.309093e+36</td>\n",
       "      <td>4.974552e+38</td>\n",
       "      <td>245000.0</td>\n",
       "    </tr>\n",
       "    <tr>\n",
       "      <th>18379</th>\n",
       "      <td>384.0</td>\n",
       "      <td>147456.0</td>\n",
       "      <td>56623104.0</td>\n",
       "      <td>2.174327e+10</td>\n",
       "      <td>8.349416e+12</td>\n",
       "      <td>3.206176e+15</td>\n",
       "      <td>1.231172e+18</td>\n",
       "      <td>4.727699e+20</td>\n",
       "      <td>1.815436e+23</td>\n",
       "      <td>6.971275e+25</td>\n",
       "      <td>2.676970e+28</td>\n",
       "      <td>1.027956e+31</td>\n",
       "      <td>3.947353e+33</td>\n",
       "      <td>1.515783e+36</td>\n",
       "      <td>5.820608e+38</td>\n",
       "      <td>265000.0</td>\n",
       "    </tr>\n",
       "    <tr>\n",
       "      <th>4868</th>\n",
       "      <td>390.0</td>\n",
       "      <td>152100.0</td>\n",
       "      <td>59319000.0</td>\n",
       "      <td>2.313441e+10</td>\n",
       "      <td>9.022420e+12</td>\n",
       "      <td>3.518744e+15</td>\n",
       "      <td>1.372310e+18</td>\n",
       "      <td>5.352009e+20</td>\n",
       "      <td>2.087284e+23</td>\n",
       "      <td>8.140406e+25</td>\n",
       "      <td>3.174758e+28</td>\n",
       "      <td>1.238156e+31</td>\n",
       "      <td>4.828807e+33</td>\n",
       "      <td>1.883235e+36</td>\n",
       "      <td>7.344616e+38</td>\n",
       "      <td>228000.0</td>\n",
       "    </tr>\n",
       "  </tbody>\n",
       "</table>\n",
       "</div>"
      ],
      "text/plain": [
       "       power_1   power_2     power_3       power_4       power_5  \\\n",
       "19452    290.0   84100.0  24389000.0  7.072810e+09  2.051115e+12   \n",
       "15381    370.0  136900.0  50653000.0  1.874161e+10  6.934396e+12   \n",
       "860      380.0  144400.0  54872000.0  2.085136e+10  7.923517e+12   \n",
       "18379    384.0  147456.0  56623104.0  2.174327e+10  8.349416e+12   \n",
       "4868     390.0  152100.0  59319000.0  2.313441e+10  9.022420e+12   \n",
       "\n",
       "            power_6       power_7       power_8       power_9      power_10  \\\n",
       "19452  5.948233e+14  1.724988e+17  5.002464e+19  1.450715e+22  4.207072e+24   \n",
       "15381  2.565726e+15  9.493188e+17  3.512479e+20  1.299617e+23  4.808584e+25   \n",
       "860    3.010936e+15  1.144156e+18  4.347792e+20  1.652161e+23  6.278212e+25   \n",
       "18379  3.206176e+15  1.231172e+18  4.727699e+20  1.815436e+23  6.971275e+25   \n",
       "4868   3.518744e+15  1.372310e+18  5.352009e+20  2.087284e+23  8.140406e+25   \n",
       "\n",
       "           power_11      power_12      power_13      power_14      power_15  \\\n",
       "19452  1.220051e+27  3.538148e+29  1.026063e+32  2.975582e+34  8.629189e+36   \n",
       "15381  1.779176e+28  6.582952e+30  2.435692e+33  9.012061e+35  3.334463e+38   \n",
       "860    2.385721e+28  9.065738e+30  3.444980e+33  1.309093e+36  4.974552e+38   \n",
       "18379  2.676970e+28  1.027956e+31  3.947353e+33  1.515783e+36  5.820608e+38   \n",
       "4868   3.174758e+28  1.238156e+31  4.828807e+33  1.883235e+36  7.344616e+38   \n",
       "\n",
       "          price  \n",
       "19452  142000.0  \n",
       "15381  276000.0  \n",
       "860    245000.0  \n",
       "18379  265000.0  \n",
       "4868   228000.0  "
      ]
     },
     "execution_count": 9,
     "metadata": {},
     "output_type": "execute_result"
    }
   ],
   "source": [
    "sales_data.head(5)"
   ]
  },
  {
   "cell_type": "code",
   "execution_count": 10,
   "metadata": {
    "collapsed": true
   },
   "outputs": [],
   "source": [
    "l2_small_penalty = 1e-5"
   ]
  },
  {
   "cell_type": "code",
   "execution_count": 11,
   "metadata": {
    "collapsed": true
   },
   "outputs": [],
   "source": [
    "model1 = ridge_model(l2_small_penalty, sales_data.drop('price',1), sales_data['price'])"
   ]
  },
  {
   "cell_type": "code",
   "execution_count": 12,
   "metadata": {
    "scrolled": true
   },
   "outputs": [
    {
     "name": "stdout",
     "output_type": "stream",
     "text": [
      "Intercept of model1:  194587.105843\n"
     ]
    },
    {
     "data": {
      "text/html": [
       "<div>\n",
       "<table border=\"1\" class=\"dataframe\">\n",
       "  <thead>\n",
       "    <tr style=\"text-align: right;\">\n",
       "      <th></th>\n",
       "      <th>features</th>\n",
       "      <th>estimated coefficients</th>\n",
       "    </tr>\n",
       "  </thead>\n",
       "  <tbody>\n",
       "    <tr>\n",
       "      <th>0</th>\n",
       "      <td>power_1</td>\n",
       "      <td>1.744255e+02</td>\n",
       "    </tr>\n",
       "    <tr>\n",
       "      <th>1</th>\n",
       "      <td>power_2</td>\n",
       "      <td>-7.836441e-02</td>\n",
       "    </tr>\n",
       "    <tr>\n",
       "      <th>2</th>\n",
       "      <td>power_3</td>\n",
       "      <td>3.732804e-05</td>\n",
       "    </tr>\n",
       "    <tr>\n",
       "      <th>3</th>\n",
       "      <td>power_4</td>\n",
       "      <td>-2.855543e-09</td>\n",
       "    </tr>\n",
       "    <tr>\n",
       "      <th>4</th>\n",
       "      <td>power_5</td>\n",
       "      <td>-2.374876e-13</td>\n",
       "    </tr>\n",
       "    <tr>\n",
       "      <th>5</th>\n",
       "      <td>power_6</td>\n",
       "      <td>9.705297e-18</td>\n",
       "    </tr>\n",
       "    <tr>\n",
       "      <th>6</th>\n",
       "      <td>power_7</td>\n",
       "      <td>1.777918e-21</td>\n",
       "    </tr>\n",
       "    <tr>\n",
       "      <th>7</th>\n",
       "      <td>power_8</td>\n",
       "      <td>9.769932e-26</td>\n",
       "    </tr>\n",
       "    <tr>\n",
       "      <th>8</th>\n",
       "      <td>power_9</td>\n",
       "      <td>7.788973e-31</td>\n",
       "    </tr>\n",
       "    <tr>\n",
       "      <th>9</th>\n",
       "      <td>power_10</td>\n",
       "      <td>-3.838337e-34</td>\n",
       "    </tr>\n",
       "    <tr>\n",
       "      <th>10</th>\n",
       "      <td>power_11</td>\n",
       "      <td>-4.529401e-38</td>\n",
       "    </tr>\n",
       "    <tr>\n",
       "      <th>11</th>\n",
       "      <td>power_12</td>\n",
       "      <td>-3.166941e-42</td>\n",
       "    </tr>\n",
       "    <tr>\n",
       "      <th>12</th>\n",
       "      <td>power_13</td>\n",
       "      <td>-1.241025e-46</td>\n",
       "    </tr>\n",
       "    <tr>\n",
       "      <th>13</th>\n",
       "      <td>power_14</td>\n",
       "      <td>4.534565e-51</td>\n",
       "    </tr>\n",
       "    <tr>\n",
       "      <th>14</th>\n",
       "      <td>power_15</td>\n",
       "      <td>1.634259e-54</td>\n",
       "    </tr>\n",
       "  </tbody>\n",
       "</table>\n",
       "</div>"
      ],
      "text/plain": [
       "    features  estimated coefficients\n",
       "0    power_1            1.744255e+02\n",
       "1    power_2           -7.836441e-02\n",
       "2    power_3            3.732804e-05\n",
       "3    power_4           -2.855543e-09\n",
       "4    power_5           -2.374876e-13\n",
       "5    power_6            9.705297e-18\n",
       "6    power_7            1.777918e-21\n",
       "7    power_8            9.769932e-26\n",
       "8    power_9            7.788973e-31\n",
       "9   power_10           -3.838337e-34\n",
       "10  power_11           -4.529401e-38\n",
       "11  power_12           -3.166941e-42\n",
       "12  power_13           -1.241025e-46\n",
       "13  power_14            4.534565e-51\n",
       "14  power_15            1.634259e-54"
      ]
     },
     "execution_count": 12,
     "metadata": {},
     "output_type": "execute_result"
    }
   ],
   "source": [
    "print(\"Intercept of model1: \", model1.intercept_)\n",
    "coeffs = pd.DataFrame(list(zip(sales_data.drop('price',1).columns,model1.coef_)), columns = ['features', 'estimated coefficients'])\n",
    "coeffs"
   ]
  },
  {
   "cell_type": "code",
   "execution_count": 13,
   "metadata": {},
   "outputs": [
    {
     "data": {
      "image/png": "[encoded data removed]",
      "text/plain": [
       "<matplotlib.figure.Figure at 0x22f6fcdcfd0>"
      ]
     },
     "metadata": {},
     "output_type": "display_data"
    }
   ],
   "source": [
    "plot_fitted_line(0,sales_data,model1)"
   ]
  },
  {
   "cell_type": "markdown",
   "metadata": {},
   "source": [
    "## Observe Overfitting"
   ]
  },
  {
   "cell_type": "markdown",
   "metadata": {},
   "source": [
    "Model above shows *high variance*. We will apply same process to `set1`, `set2`, `set3`, `set4`."
   ]
  },
  {
   "cell_type": "markdown",
   "metadata": {},
   "source": [
    "Fit a 15th degree polynomial on `set1`, `set_2`, `set_3`, and `set_4`, using 'sqft_living' to predict prices. Print the weights and make a plot of the resulting model."
   ]
  },
  {
   "cell_type": "markdown",
   "metadata": {},
   "source": [
    "### Set 1"
   ]
  },
  {
   "cell_type": "code",
   "execution_count": 14,
   "metadata": {},
   "outputs": [
    {
     "data": {
      "image/png": "[encoded data removed]",
      "text/plain": [
       "<matplotlib.figure.Figure at 0x22f6fcee668>"
      ]
     },
     "metadata": {},
     "output_type": "display_data"
    }
   ],
   "source": [
    "poly_set1 = polynomial_dataframe(set1['sqft_living'],15)\n",
    "poly_set1['price'] = set1['price']\n",
    "model_set1 = ridge_model(l2_small_penalty,poly_set1.drop('price',1),poly_set1['price'])\n",
    "plot_fitted_line(1,poly_set1,model_set1)"
   ]
  },
  {
   "cell_type": "code",
   "execution_count": 15,
   "metadata": {},
   "outputs": [
    {
     "name": "stdout",
     "output_type": "stream",
     "text": [
      "Intercepts:  280915.35559\n"
     ]
    },
    {
     "data": {
      "text/html": [
       "<div>\n",
       "<table border=\"1\" class=\"dataframe\">\n",
       "  <thead>\n",
       "    <tr style=\"text-align: right;\">\n",
       "      <th></th>\n",
       "      <th>features</th>\n",
       "      <th>estimated coefficients</th>\n",
       "    </tr>\n",
       "  </thead>\n",
       "  <tbody>\n",
       "    <tr>\n",
       "      <th>0</th>\n",
       "      <td>power_1</td>\n",
       "      <td>1.351065e+00</td>\n",
       "    </tr>\n",
       "    <tr>\n",
       "      <th>1</th>\n",
       "      <td>power_2</td>\n",
       "      <td>3.192342e-02</td>\n",
       "    </tr>\n",
       "    <tr>\n",
       "      <th>2</th>\n",
       "      <td>power_3</td>\n",
       "      <td>1.070864e-05</td>\n",
       "    </tr>\n",
       "    <tr>\n",
       "      <th>3</th>\n",
       "      <td>power_4</td>\n",
       "      <td>-1.289705e-09</td>\n",
       "    </tr>\n",
       "    <tr>\n",
       "      <th>4</th>\n",
       "      <td>power_5</td>\n",
       "      <td>-4.471555e-14</td>\n",
       "    </tr>\n",
       "    <tr>\n",
       "      <th>5</th>\n",
       "      <td>power_6</td>\n",
       "      <td>3.810416e-18</td>\n",
       "    </tr>\n",
       "    <tr>\n",
       "      <th>6</th>\n",
       "      <td>power_7</td>\n",
       "      <td>4.242484e-22</td>\n",
       "    </tr>\n",
       "    <tr>\n",
       "      <th>7</th>\n",
       "      <td>power_8</td>\n",
       "      <td>1.960170e-26</td>\n",
       "    </tr>\n",
       "    <tr>\n",
       "      <th>8</th>\n",
       "      <td>power_9</td>\n",
       "      <td>1.490480e-31</td>\n",
       "    </tr>\n",
       "    <tr>\n",
       "      <th>9</th>\n",
       "      <td>power_10</td>\n",
       "      <td>-6.135032e-35</td>\n",
       "    </tr>\n",
       "    <tr>\n",
       "      <th>10</th>\n",
       "      <td>power_11</td>\n",
       "      <td>-6.828401e-39</td>\n",
       "    </tr>\n",
       "    <tr>\n",
       "      <th>11</th>\n",
       "      <td>power_12</td>\n",
       "      <td>-4.677090e-43</td>\n",
       "    </tr>\n",
       "    <tr>\n",
       "      <th>12</th>\n",
       "      <td>power_13</td>\n",
       "      <td>-2.101842e-47</td>\n",
       "    </tr>\n",
       "    <tr>\n",
       "      <th>13</th>\n",
       "      <td>power_14</td>\n",
       "      <td>-8.893177e-53</td>\n",
       "    </tr>\n",
       "    <tr>\n",
       "      <th>14</th>\n",
       "      <td>power_15</td>\n",
       "      <td>1.165025e-55</td>\n",
       "    </tr>\n",
       "  </tbody>\n",
       "</table>\n",
       "</div>"
      ],
      "text/plain": [
       "    features  estimated coefficients\n",
       "0    power_1            1.351065e+00\n",
       "1    power_2            3.192342e-02\n",
       "2    power_3            1.070864e-05\n",
       "3    power_4           -1.289705e-09\n",
       "4    power_5           -4.471555e-14\n",
       "5    power_6            3.810416e-18\n",
       "6    power_7            4.242484e-22\n",
       "7    power_8            1.960170e-26\n",
       "8    power_9            1.490480e-31\n",
       "9   power_10           -6.135032e-35\n",
       "10  power_11           -6.828401e-39\n",
       "11  power_12           -4.677090e-43\n",
       "12  power_13           -2.101842e-47\n",
       "13  power_14           -8.893177e-53\n",
       "14  power_15            1.165025e-55"
      ]
     },
     "execution_count": 15,
     "metadata": {},
     "output_type": "execute_result"
    }
   ],
   "source": [
    "print(\"Intercepts: \", model_set1.intercept_)\n",
    "coeffs = pd.DataFrame(list(zip(poly_set1.drop('price',1).columns,model_set1.coef_)), columns = ['features', 'estimated coefficients'])\n",
    "coeffs"
   ]
  },
  {
   "cell_type": "markdown",
   "metadata": {},
   "source": []
  },
  {
   "cell_type": "markdown",
   "metadata": {},
   "source": [
    "### Set 2"
   ]
  },
  {
   "cell_type": "code",
   "execution_count": 16,
   "metadata": {},
   "outputs": [
    {
     "data": {
      "image/png": "[encoded data removed]",
      "text/plain": [
       "<matplotlib.figure.Figure at 0x22f6ffdc978>"
      ]
     },
     "metadata": {},
     "output_type": "display_data"
    }
   ],
   "source": [
    "poly_set2 = polynomial_dataframe(set2['sqft_living'],15)\n",
    "poly_set2['price'] = set2['price']\n",
    "model_set2 = ridge_model(l2_small_penalty,poly_set2.drop('price',1),poly_set2['price'])\n",
    "plot_fitted_line(2,poly_set2,model_set2)"
   ]
  },
  {
   "cell_type": "code",
   "execution_count": 17,
   "metadata": {},
   "outputs": [
    {
     "name": "stdout",
     "output_type": "stream",
     "text": [
      "Intercepts:  102941.940204\n"
     ]
    },
    {
     "data": {
      "text/html": [
       "<div>\n",
       "<table border=\"1\" class=\"dataframe\">\n",
       "  <thead>\n",
       "    <tr style=\"text-align: right;\">\n",
       "      <th></th>\n",
       "      <th>features</th>\n",
       "      <th>estimated coefficients</th>\n",
       "    </tr>\n",
       "  </thead>\n",
       "  <tbody>\n",
       "    <tr>\n",
       "      <th>0</th>\n",
       "      <td>power_1</td>\n",
       "      <td>3.068119e+02</td>\n",
       "    </tr>\n",
       "    <tr>\n",
       "      <th>1</th>\n",
       "      <td>power_2</td>\n",
       "      <td>-1.103370e-01</td>\n",
       "    </tr>\n",
       "    <tr>\n",
       "      <th>2</th>\n",
       "      <td>power_3</td>\n",
       "      <td>2.084905e-05</td>\n",
       "    </tr>\n",
       "    <tr>\n",
       "      <th>3</th>\n",
       "      <td>power_4</td>\n",
       "      <td>2.986697e-09</td>\n",
       "    </tr>\n",
       "    <tr>\n",
       "      <th>4</th>\n",
       "      <td>power_5</td>\n",
       "      <td>-2.428115e-13</td>\n",
       "    </tr>\n",
       "    <tr>\n",
       "      <th>5</th>\n",
       "      <td>power_6</td>\n",
       "      <td>-6.079773e-17</td>\n",
       "    </tr>\n",
       "    <tr>\n",
       "      <th>6</th>\n",
       "      <td>power_7</td>\n",
       "      <td>-3.772688e-21</td>\n",
       "    </tr>\n",
       "    <tr>\n",
       "      <th>7</th>\n",
       "      <td>power_8</td>\n",
       "      <td>1.490400e-25</td>\n",
       "    </tr>\n",
       "    <tr>\n",
       "      <th>8</th>\n",
       "      <td>power_9</td>\n",
       "      <td>5.571168e-29</td>\n",
       "    </tr>\n",
       "    <tr>\n",
       "      <th>9</th>\n",
       "      <td>power_10</td>\n",
       "      <td>6.437053e-33</td>\n",
       "    </tr>\n",
       "    <tr>\n",
       "      <th>10</th>\n",
       "      <td>power_11</td>\n",
       "      <td>4.258675e-37</td>\n",
       "    </tr>\n",
       "    <tr>\n",
       "      <th>11</th>\n",
       "      <td>power_12</td>\n",
       "      <td>4.823190e-42</td>\n",
       "    </tr>\n",
       "    <tr>\n",
       "      <th>12</th>\n",
       "      <td>power_13</td>\n",
       "      <td>-3.038374e-45</td>\n",
       "    </tr>\n",
       "    <tr>\n",
       "      <th>13</th>\n",
       "      <td>power_14</td>\n",
       "      <td>-4.576350e-49</td>\n",
       "    </tr>\n",
       "    <tr>\n",
       "      <th>14</th>\n",
       "      <td>power_15</td>\n",
       "      <td>-2.769928e-53</td>\n",
       "    </tr>\n",
       "  </tbody>\n",
       "</table>\n",
       "</div>"
      ],
      "text/plain": [
       "    features  estimated coefficients\n",
       "0    power_1            3.068119e+02\n",
       "1    power_2           -1.103370e-01\n",
       "2    power_3            2.084905e-05\n",
       "3    power_4            2.986697e-09\n",
       "4    power_5           -2.428115e-13\n",
       "5    power_6           -6.079773e-17\n",
       "6    power_7           -3.772688e-21\n",
       "7    power_8            1.490400e-25\n",
       "8    power_9            5.571168e-29\n",
       "9   power_10            6.437053e-33\n",
       "10  power_11            4.258675e-37\n",
       "11  power_12            4.823190e-42\n",
       "12  power_13           -3.038374e-45\n",
       "13  power_14           -4.576350e-49\n",
       "14  power_15           -2.769928e-53"
      ]
     },
     "execution_count": 17,
     "metadata": {},
     "output_type": "execute_result"
    }
   ],
   "source": [
    "print(\"Intercepts: \", model_set2.intercept_)\n",
    "coeffs = pd.DataFrame(list(zip(poly_set2.drop('price',1).columns,model_set2.coef_)), columns = ['features', 'estimated coefficients'])\n",
    "coeffs"
   ]
  },
  {
   "cell_type": "markdown",
   "metadata": {},
   "source": [
    "### Set 3"
   ]
  },
  {
   "cell_type": "code",
   "execution_count": 18,
   "metadata": {},
   "outputs": [
    {
     "data": {
      "image/png": "[encoded data removed]",
      "text/plain": [
       "<matplotlib.figure.Figure at 0x22f700462b0>"
      ]
     },
     "metadata": {},
     "output_type": "display_data"
    }
   ],
   "source": [
    "poly_set3 = polynomial_dataframe(set3['sqft_living'],15)\n",
    "poly_set3['price'] = set3['price']\n",
    "model_set3 = ridge_model(l2_small_penalty,poly_set3.drop('price',1),poly_set3['price'])\n",
    "plot_fitted_line(3,poly_set3,model_set3)"
   ]
  },
  {
   "cell_type": "code",
   "execution_count": 19,
   "metadata": {},
   "outputs": [
    {
     "name": "stdout",
     "output_type": "stream",
     "text": [
      "Intercepts:  155484.983029\n"
     ]
    },
    {
     "data": {
      "text/html": [
       "<div>\n",
       "<table border=\"1\" class=\"dataframe\">\n",
       "  <thead>\n",
       "    <tr style=\"text-align: right;\">\n",
       "      <th></th>\n",
       "      <th>features</th>\n",
       "      <th>estimated coefficients</th>\n",
       "    </tr>\n",
       "  </thead>\n",
       "  <tbody>\n",
       "    <tr>\n",
       "      <th>0</th>\n",
       "      <td>power_1</td>\n",
       "      <td>2.242702e+02</td>\n",
       "    </tr>\n",
       "    <tr>\n",
       "      <th>1</th>\n",
       "      <td>power_2</td>\n",
       "      <td>-8.507051e-02</td>\n",
       "    </tr>\n",
       "    <tr>\n",
       "      <th>2</th>\n",
       "      <td>power_3</td>\n",
       "      <td>2.916603e-05</td>\n",
       "    </tr>\n",
       "    <tr>\n",
       "      <th>3</th>\n",
       "      <td>power_4</td>\n",
       "      <td>-3.277066e-10</td>\n",
       "    </tr>\n",
       "    <tr>\n",
       "      <th>4</th>\n",
       "      <td>power_5</td>\n",
       "      <td>-3.220031e-13</td>\n",
       "    </tr>\n",
       "    <tr>\n",
       "      <th>5</th>\n",
       "      <td>power_6</td>\n",
       "      <td>-1.370289e-17</td>\n",
       "    </tr>\n",
       "    <tr>\n",
       "      <th>6</th>\n",
       "      <td>power_7</td>\n",
       "      <td>1.458170e-21</td>\n",
       "    </tr>\n",
       "    <tr>\n",
       "      <th>7</th>\n",
       "      <td>power_8</td>\n",
       "      <td>2.514997e-25</td>\n",
       "    </tr>\n",
       "    <tr>\n",
       "      <th>8</th>\n",
       "      <td>power_9</td>\n",
       "      <td>1.672965e-29</td>\n",
       "    </tr>\n",
       "    <tr>\n",
       "      <th>9</th>\n",
       "      <td>power_10</td>\n",
       "      <td>-2.473417e-35</td>\n",
       "    </tr>\n",
       "    <tr>\n",
       "      <th>10</th>\n",
       "      <td>power_11</td>\n",
       "      <td>-1.503546e-37</td>\n",
       "    </tr>\n",
       "    <tr>\n",
       "      <th>11</th>\n",
       "      <td>power_12</td>\n",
       "      <td>-2.087356e-41</td>\n",
       "    </tr>\n",
       "    <tr>\n",
       "      <th>12</th>\n",
       "      <td>power_13</td>\n",
       "      <td>-1.523391e-45</td>\n",
       "    </tr>\n",
       "    <tr>\n",
       "      <th>13</th>\n",
       "      <td>power_14</td>\n",
       "      <td>1.367733e-50</td>\n",
       "    </tr>\n",
       "    <tr>\n",
       "      <th>14</th>\n",
       "      <td>power_15</td>\n",
       "      <td>2.670182e-53</td>\n",
       "    </tr>\n",
       "  </tbody>\n",
       "</table>\n",
       "</div>"
      ],
      "text/plain": [
       "    features  estimated coefficients\n",
       "0    power_1            2.242702e+02\n",
       "1    power_2           -8.507051e-02\n",
       "2    power_3            2.916603e-05\n",
       "3    power_4           -3.277066e-10\n",
       "4    power_5           -3.220031e-13\n",
       "5    power_6           -1.370289e-17\n",
       "6    power_7            1.458170e-21\n",
       "7    power_8            2.514997e-25\n",
       "8    power_9            1.672965e-29\n",
       "9   power_10           -2.473417e-35\n",
       "10  power_11           -1.503546e-37\n",
       "11  power_12           -2.087356e-41\n",
       "12  power_13           -1.523391e-45\n",
       "13  power_14            1.367733e-50\n",
       "14  power_15            2.670182e-53"
      ]
     },
     "execution_count": 19,
     "metadata": {},
     "output_type": "execute_result"
    }
   ],
   "source": [
    "print(\"Intercepts: \", model_set3.intercept_)\n",
    "coeffs = pd.DataFrame(list(zip(poly_set3.drop('price',1).columns,model_set3.coef_)), columns = ['features', 'estimated coefficients'])\n",
    "coeffs"
   ]
  },
  {
   "cell_type": "markdown",
   "metadata": {},
   "source": [
    "### Set 4"
   ]
  },
  {
   "cell_type": "code",
   "execution_count": 20,
   "metadata": {},
   "outputs": [
    {
     "data": {
      "image/png": "[encoded data removed]",
      "text/plain": [
       "<matplotlib.figure.Figure at 0x22f70190908>"
      ]
     },
     "metadata": {},
     "output_type": "display_data"
    }
   ],
   "source": [
    "poly_set4 = polynomial_dataframe(set4['sqft_living'],15)\n",
    "poly_set4['price'] = set4['price']\n",
    "model_set4 = ridge_model(l2_small_penalty,poly_set4.drop('price',1),poly_set4['price'])\n",
    "plot_fitted_line(4,poly_set4,model_set4)"
   ]
  },
  {
   "cell_type": "code",
   "execution_count": 21,
   "metadata": {},
   "outputs": [
    {
     "name": "stdout",
     "output_type": "stream",
     "text": [
      "Intercepts:  196865.473606\n"
     ]
    },
    {
     "data": {
      "text/html": [
       "<div>\n",
       "<table border=\"1\" class=\"dataframe\">\n",
       "  <thead>\n",
       "    <tr style=\"text-align: right;\">\n",
       "      <th></th>\n",
       "      <th>features</th>\n",
       "      <th>estimated coefficients</th>\n",
       "    </tr>\n",
       "  </thead>\n",
       "  <tbody>\n",
       "    <tr>\n",
       "      <th>0</th>\n",
       "      <td>power_1</td>\n",
       "      <td>8.308103e+01</td>\n",
       "    </tr>\n",
       "    <tr>\n",
       "      <th>1</th>\n",
       "      <td>power_2</td>\n",
       "      <td>5.569394e-02</td>\n",
       "    </tr>\n",
       "    <tr>\n",
       "      <th>2</th>\n",
       "      <td>power_3</td>\n",
       "      <td>-1.936086e-05</td>\n",
       "    </tr>\n",
       "    <tr>\n",
       "      <th>3</th>\n",
       "      <td>power_4</td>\n",
       "      <td>1.404462e-09</td>\n",
       "    </tr>\n",
       "    <tr>\n",
       "      <th>4</th>\n",
       "      <td>power_5</td>\n",
       "      <td>8.526115e-13</td>\n",
       "    </tr>\n",
       "    <tr>\n",
       "      <th>5</th>\n",
       "      <td>power_6</td>\n",
       "      <td>4.411946e-17</td>\n",
       "    </tr>\n",
       "    <tr>\n",
       "      <th>6</th>\n",
       "      <td>power_7</td>\n",
       "      <td>-1.316107e-20</td>\n",
       "    </tr>\n",
       "    <tr>\n",
       "      <th>7</th>\n",
       "      <td>power_8</td>\n",
       "      <td>-2.978092e-24</td>\n",
       "    </tr>\n",
       "    <tr>\n",
       "      <th>8</th>\n",
       "      <td>power_9</td>\n",
       "      <td>-2.787749e-28</td>\n",
       "    </tr>\n",
       "    <tr>\n",
       "      <th>9</th>\n",
       "      <td>power_10</td>\n",
       "      <td>1.303589e-33</td>\n",
       "    </tr>\n",
       "    <tr>\n",
       "      <th>10</th>\n",
       "      <td>power_11</td>\n",
       "      <td>5.159586e-36</td>\n",
       "    </tr>\n",
       "    <tr>\n",
       "      <th>11</th>\n",
       "      <td>power_12</td>\n",
       "      <td>9.973028e-40</td>\n",
       "    </tr>\n",
       "    <tr>\n",
       "      <th>12</th>\n",
       "      <td>power_13</td>\n",
       "      <td>1.046768e-43</td>\n",
       "    </tr>\n",
       "    <tr>\n",
       "      <th>13</th>\n",
       "      <td>power_14</td>\n",
       "      <td>6.913024e-49</td>\n",
       "    </tr>\n",
       "    <tr>\n",
       "      <th>14</th>\n",
       "      <td>power_15</td>\n",
       "      <td>-2.732726e-51</td>\n",
       "    </tr>\n",
       "  </tbody>\n",
       "</table>\n",
       "</div>"
      ],
      "text/plain": [
       "    features  estimated coefficients\n",
       "0    power_1            8.308103e+01\n",
       "1    power_2            5.569394e-02\n",
       "2    power_3           -1.936086e-05\n",
       "3    power_4            1.404462e-09\n",
       "4    power_5            8.526115e-13\n",
       "5    power_6            4.411946e-17\n",
       "6    power_7           -1.316107e-20\n",
       "7    power_8           -2.978092e-24\n",
       "8    power_9           -2.787749e-28\n",
       "9   power_10            1.303589e-33\n",
       "10  power_11            5.159586e-36\n",
       "11  power_12            9.973028e-40\n",
       "12  power_13            1.046768e-43\n",
       "13  power_14            6.913024e-49\n",
       "14  power_15           -2.732726e-51"
      ]
     },
     "execution_count": 21,
     "metadata": {},
     "output_type": "execute_result"
    }
   ],
   "source": [
    "print(\"Intercepts: \", model_set4.intercept_)\n",
    "coeffs = pd.DataFrame(list(zip(poly_set4.drop('price',1).columns,model_set4.coef_)), columns = ['features', 'estimated coefficients'])\n",
    "coeffs"
   ]
  },
  {
   "cell_type": "markdown",
   "metadata": {},
   "source": [
    "## Applying Ridge Regression"
   ]
  },
  {
   "cell_type": "markdown",
   "metadata": {},
   "source": [
    "Generally, whenever we see weights change so much in response to change in data, we believe the variance of our estimate to be large. Ridge regression aims to address this issue by penalizing \"large\" weights."
   ]
  },
  {
   "cell_type": "markdown",
   "metadata": {},
   "source": [
    "Now, we will use new l2 penalty to fit a 15th-order polynomial model on `set_1`, `set_2`, `set_3`, `set_4`. Other than the change in the `l2_penalty` parameter, the code should be the same as the experiment above."
   ]
  },
  {
   "cell_type": "code",
   "execution_count": 22,
   "metadata": {
    "collapsed": true
   },
   "outputs": [],
   "source": [
    "l2_new_penalty = 1.5e1"
   ]
  },
  {
   "cell_type": "markdown",
   "metadata": {},
   "source": [
    "### Set 1"
   ]
  },
  {
   "cell_type": "code",
   "execution_count": 23,
   "metadata": {},
   "outputs": [
    {
     "data": {
      "image/png": "[encoded data removed]",
      "text/plain": [
       "<matplotlib.figure.Figure at 0x22f7022c278>"
      ]
     },
     "metadata": {},
     "output_type": "display_data"
    }
   ],
   "source": [
    "poly_set1 = polynomial_dataframe(set1['sqft_living'],15)\n",
    "poly_set1['price'] = set1['price']\n",
    "model_set1_ridge = ridge_model(l2_new_penalty,poly_set1.drop('price',1),poly_set1['price'])\n",
    "plot_fitted_line(5,poly_set1,model_set1_ridge)"
   ]
  },
  {
   "cell_type": "code",
   "execution_count": 24,
   "metadata": {},
   "outputs": [
    {
     "name": "stdout",
     "output_type": "stream",
     "text": [
      "Intercepts:  494186.735275\n"
     ]
    },
    {
     "data": {
      "text/html": [
       "<div>\n",
       "<table border=\"1\" class=\"dataframe\">\n",
       "  <thead>\n",
       "    <tr style=\"text-align: right;\">\n",
       "      <th></th>\n",
       "      <th>features</th>\n",
       "      <th>estimated coefficients</th>\n",
       "    </tr>\n",
       "  </thead>\n",
       "  <tbody>\n",
       "    <tr>\n",
       "      <th>0</th>\n",
       "      <td>power_1</td>\n",
       "      <td>1.652041e+01</td>\n",
       "    </tr>\n",
       "    <tr>\n",
       "      <th>1</th>\n",
       "      <td>power_2</td>\n",
       "      <td>2.439642e-03</td>\n",
       "    </tr>\n",
       "    <tr>\n",
       "      <th>2</th>\n",
       "      <td>power_3</td>\n",
       "      <td>2.158483e-07</td>\n",
       "    </tr>\n",
       "    <tr>\n",
       "      <th>3</th>\n",
       "      <td>power_4</td>\n",
       "      <td>1.180413e-11</td>\n",
       "    </tr>\n",
       "    <tr>\n",
       "      <th>4</th>\n",
       "      <td>power_5</td>\n",
       "      <td>5.794560e-16</td>\n",
       "    </tr>\n",
       "    <tr>\n",
       "      <th>5</th>\n",
       "      <td>power_6</td>\n",
       "      <td>2.973095e-20</td>\n",
       "    </tr>\n",
       "    <tr>\n",
       "      <th>6</th>\n",
       "      <td>power_7</td>\n",
       "      <td>1.620340e-24</td>\n",
       "    </tr>\n",
       "    <tr>\n",
       "      <th>7</th>\n",
       "      <td>power_8</td>\n",
       "      <td>9.214263e-29</td>\n",
       "    </tr>\n",
       "    <tr>\n",
       "      <th>8</th>\n",
       "      <td>power_9</td>\n",
       "      <td>5.357273e-33</td>\n",
       "    </tr>\n",
       "    <tr>\n",
       "      <th>9</th>\n",
       "      <td>power_10</td>\n",
       "      <td>3.131893e-37</td>\n",
       "    </tr>\n",
       "    <tr>\n",
       "      <th>10</th>\n",
       "      <td>power_11</td>\n",
       "      <td>1.815512e-41</td>\n",
       "    </tr>\n",
       "    <tr>\n",
       "      <th>11</th>\n",
       "      <td>power_12</td>\n",
       "      <td>1.029159e-45</td>\n",
       "    </tr>\n",
       "    <tr>\n",
       "      <th>12</th>\n",
       "      <td>power_13</td>\n",
       "      <td>5.602767e-50</td>\n",
       "    </tr>\n",
       "    <tr>\n",
       "      <th>13</th>\n",
       "      <td>power_14</td>\n",
       "      <td>2.839773e-54</td>\n",
       "    </tr>\n",
       "    <tr>\n",
       "      <th>14</th>\n",
       "      <td>power_15</td>\n",
       "      <td>1.247653e-58</td>\n",
       "    </tr>\n",
       "  </tbody>\n",
       "</table>\n",
       "</div>"
      ],
      "text/plain": [
       "    features  estimated coefficients\n",
       "0    power_1            1.652041e+01\n",
       "1    power_2            2.439642e-03\n",
       "2    power_3            2.158483e-07\n",
       "3    power_4            1.180413e-11\n",
       "4    power_5            5.794560e-16\n",
       "5    power_6            2.973095e-20\n",
       "6    power_7            1.620340e-24\n",
       "7    power_8            9.214263e-29\n",
       "8    power_9            5.357273e-33\n",
       "9   power_10            3.131893e-37\n",
       "10  power_11            1.815512e-41\n",
       "11  power_12            1.029159e-45\n",
       "12  power_13            5.602767e-50\n",
       "13  power_14            2.839773e-54\n",
       "14  power_15            1.247653e-58"
      ]
     },
     "execution_count": 24,
     "metadata": {},
     "output_type": "execute_result"
    }
   ],
   "source": [
    "print(\"Intercepts: \", model_set1_ridge.intercept_)\n",
    "coeffs = pd.DataFrame(list(zip(poly_set1.drop('price',1).columns,model_set1_ridge.coef_)), columns = ['features', 'estimated coefficients'])\n",
    "coeffs"
   ]
  },
  {
   "cell_type": "markdown",
   "metadata": {},
   "source": [
    "### Set 2"
   ]
  },
  {
   "cell_type": "code",
   "execution_count": 25,
   "metadata": {},
   "outputs": [
    {
     "data": {
      "image/png": "[encoded data removed]",
      "text/plain": [
       "<matplotlib.figure.Figure at 0x22f702f4dd8>"
      ]
     },
     "metadata": {},
     "output_type": "display_data"
    }
   ],
   "source": [
    "poly_set2 = polynomial_dataframe(set2['sqft_living'],15)\n",
    "poly_set2['price'] = set2['price']\n",
    "model_set2_ridge = ridge_model(l2_new_penalty,poly_set2.drop('price',1),poly_set2['price'])\n",
    "plot_fitted_line(6,poly_set2,model_set2_ridge)"
   ]
  },
  {
   "cell_type": "code",
   "execution_count": 26,
   "metadata": {},
   "outputs": [
    {
     "name": "stdout",
     "output_type": "stream",
     "text": [
      "Intercepts:  484011.397415\n"
     ]
    },
    {
     "data": {
      "text/html": [
       "<div>\n",
       "<table border=\"1\" class=\"dataframe\">\n",
       "  <thead>\n",
       "    <tr style=\"text-align: right;\">\n",
       "      <th></th>\n",
       "      <th>features</th>\n",
       "      <th>estimated coefficients</th>\n",
       "    </tr>\n",
       "  </thead>\n",
       "  <tbody>\n",
       "    <tr>\n",
       "      <th>0</th>\n",
       "      <td>power_1</td>\n",
       "      <td>1.418422e+01</td>\n",
       "    </tr>\n",
       "    <tr>\n",
       "      <th>1</th>\n",
       "      <td>power_2</td>\n",
       "      <td>2.571240e-03</td>\n",
       "    </tr>\n",
       "    <tr>\n",
       "      <th>2</th>\n",
       "      <td>power_3</td>\n",
       "      <td>4.198745e-07</td>\n",
       "    </tr>\n",
       "    <tr>\n",
       "      <th>3</th>\n",
       "      <td>power_4</td>\n",
       "      <td>5.250084e-11</td>\n",
       "    </tr>\n",
       "    <tr>\n",
       "      <th>4</th>\n",
       "      <td>power_5</td>\n",
       "      <td>5.282995e-15</td>\n",
       "    </tr>\n",
       "    <tr>\n",
       "      <th>5</th>\n",
       "      <td>power_6</td>\n",
       "      <td>4.809461e-19</td>\n",
       "    </tr>\n",
       "    <tr>\n",
       "      <th>6</th>\n",
       "      <td>power_7</td>\n",
       "      <td>4.323357e-23</td>\n",
       "    </tr>\n",
       "    <tr>\n",
       "      <th>7</th>\n",
       "      <td>power_8</td>\n",
       "      <td>3.994692e-27</td>\n",
       "    </tr>\n",
       "    <tr>\n",
       "      <th>8</th>\n",
       "      <td>power_9</td>\n",
       "      <td>3.830530e-31</td>\n",
       "    </tr>\n",
       "    <tr>\n",
       "      <th>9</th>\n",
       "      <td>power_10</td>\n",
       "      <td>3.796897e-35</td>\n",
       "    </tr>\n",
       "    <tr>\n",
       "      <th>10</th>\n",
       "      <td>power_11</td>\n",
       "      <td>3.860708e-39</td>\n",
       "    </tr>\n",
       "    <tr>\n",
       "      <th>11</th>\n",
       "      <td>power_12</td>\n",
       "      <td>3.998292e-43</td>\n",
       "    </tr>\n",
       "    <tr>\n",
       "      <th>12</th>\n",
       "      <td>power_13</td>\n",
       "      <td>4.194527e-47</td>\n",
       "    </tr>\n",
       "    <tr>\n",
       "      <th>13</th>\n",
       "      <td>power_14</td>\n",
       "      <td>4.440417e-51</td>\n",
       "    </tr>\n",
       "    <tr>\n",
       "      <th>14</th>\n",
       "      <td>power_15</td>\n",
       "      <td>4.731047e-55</td>\n",
       "    </tr>\n",
       "  </tbody>\n",
       "</table>\n",
       "</div>"
      ],
      "text/plain": [
       "    features  estimated coefficients\n",
       "0    power_1            1.418422e+01\n",
       "1    power_2            2.571240e-03\n",
       "2    power_3            4.198745e-07\n",
       "3    power_4            5.250084e-11\n",
       "4    power_5            5.282995e-15\n",
       "5    power_6            4.809461e-19\n",
       "6    power_7            4.323357e-23\n",
       "7    power_8            3.994692e-27\n",
       "8    power_9            3.830530e-31\n",
       "9   power_10            3.796897e-35\n",
       "10  power_11            3.860708e-39\n",
       "11  power_12            3.998292e-43\n",
       "12  power_13            4.194527e-47\n",
       "13  power_14            4.440417e-51\n",
       "14  power_15            4.731047e-55"
      ]
     },
     "execution_count": 26,
     "metadata": {},
     "output_type": "execute_result"
    }
   ],
   "source": [
    "print(\"Intercepts: \", model_set2_ridge.intercept_)\n",
    "coeffs = pd.DataFrame(list(zip(poly_set2.drop('price',1).columns,model_set2_ridge.coef_)), columns = ['features', 'estimated coefficients'])\n",
    "coeffs"
   ]
  },
  {
   "cell_type": "markdown",
   "metadata": {},
   "source": [
    "### Set 3"
   ]
  },
  {
   "cell_type": "code",
   "execution_count": 27,
   "metadata": {},
   "outputs": [
    {
     "data": {
      "image/png": "[encoded data removed]",
      "text/plain": [
       "<matplotlib.figure.Figure at 0x22f6fa0b710>"
      ]
     },
     "metadata": {},
     "output_type": "display_data"
    }
   ],
   "source": [
    "poly_set3 = polynomial_dataframe(set3['sqft_living'],15)\n",
    "poly_set3['price'] = set3['price']\n",
    "model_set3_ridge = ridge_model(l2_new_penalty,poly_set3.drop('price',1),poly_set3['price'])\n",
    "plot_fitted_line(7,poly_set3,model_set3_ridge)"
   ]
  },
  {
   "cell_type": "code",
   "execution_count": 28,
   "metadata": {},
   "outputs": [
    {
     "name": "stdout",
     "output_type": "stream",
     "text": [
      "Intercepts:  486660.523111\n"
     ]
    },
    {
     "data": {
      "text/html": [
       "<div>\n",
       "<table border=\"1\" class=\"dataframe\">\n",
       "  <thead>\n",
       "    <tr style=\"text-align: right;\">\n",
       "      <th></th>\n",
       "      <th>features</th>\n",
       "      <th>estimated coefficients</th>\n",
       "    </tr>\n",
       "  </thead>\n",
       "  <tbody>\n",
       "    <tr>\n",
       "      <th>0</th>\n",
       "      <td>power_1</td>\n",
       "      <td>1.540384e+01</td>\n",
       "    </tr>\n",
       "    <tr>\n",
       "      <th>1</th>\n",
       "      <td>power_2</td>\n",
       "      <td>2.660906e-03</td>\n",
       "    </tr>\n",
       "    <tr>\n",
       "      <th>2</th>\n",
       "      <td>power_3</td>\n",
       "      <td>3.674165e-07</td>\n",
       "    </tr>\n",
       "    <tr>\n",
       "      <th>3</th>\n",
       "      <td>power_4</td>\n",
       "      <td>3.651180e-11</td>\n",
       "    </tr>\n",
       "    <tr>\n",
       "      <th>4</th>\n",
       "      <td>power_5</td>\n",
       "      <td>3.130455e-15</td>\n",
       "    </tr>\n",
       "    <tr>\n",
       "      <th>5</th>\n",
       "      <td>power_6</td>\n",
       "      <td>2.673344e-19</td>\n",
       "    </tr>\n",
       "    <tr>\n",
       "      <th>6</th>\n",
       "      <td>power_7</td>\n",
       "      <td>2.377506e-23</td>\n",
       "    </tr>\n",
       "    <tr>\n",
       "      <th>7</th>\n",
       "      <td>power_8</td>\n",
       "      <td>2.201424e-27</td>\n",
       "    </tr>\n",
       "    <tr>\n",
       "      <th>8</th>\n",
       "      <td>power_9</td>\n",
       "      <td>2.099658e-31</td>\n",
       "    </tr>\n",
       "    <tr>\n",
       "      <th>9</th>\n",
       "      <td>power_10</td>\n",
       "      <td>2.042375e-35</td>\n",
       "    </tr>\n",
       "    <tr>\n",
       "      <th>10</th>\n",
       "      <td>power_11</td>\n",
       "      <td>2.011769e-39</td>\n",
       "    </tr>\n",
       "    <tr>\n",
       "      <th>11</th>\n",
       "      <td>power_12</td>\n",
       "      <td>1.997314e-43</td>\n",
       "    </tr>\n",
       "    <tr>\n",
       "      <th>12</th>\n",
       "      <td>power_13</td>\n",
       "      <td>1.992691e-47</td>\n",
       "    </tr>\n",
       "    <tr>\n",
       "      <th>13</th>\n",
       "      <td>power_14</td>\n",
       "      <td>1.994023e-51</td>\n",
       "    </tr>\n",
       "    <tr>\n",
       "      <th>14</th>\n",
       "      <td>power_15</td>\n",
       "      <td>1.998879e-55</td>\n",
       "    </tr>\n",
       "  </tbody>\n",
       "</table>\n",
       "</div>"
      ],
      "text/plain": [
       "    features  estimated coefficients\n",
       "0    power_1            1.540384e+01\n",
       "1    power_2            2.660906e-03\n",
       "2    power_3            3.674165e-07\n",
       "3    power_4            3.651180e-11\n",
       "4    power_5            3.130455e-15\n",
       "5    power_6            2.673344e-19\n",
       "6    power_7            2.377506e-23\n",
       "7    power_8            2.201424e-27\n",
       "8    power_9            2.099658e-31\n",
       "9   power_10            2.042375e-35\n",
       "10  power_11            2.011769e-39\n",
       "11  power_12            1.997314e-43\n",
       "12  power_13            1.992691e-47\n",
       "13  power_14            1.994023e-51\n",
       "14  power_15            1.998879e-55"
      ]
     },
     "execution_count": 28,
     "metadata": {},
     "output_type": "execute_result"
    }
   ],
   "source": [
    "print(\"Intercepts: \", model_set3_ridge.intercept_)\n",
    "coeffs = pd.DataFrame(list(zip(poly_set3.drop('price',1).columns,model_set3_ridge.coef_)), columns = ['features', 'estimated coefficients'])\n",
    "coeffs"
   ]
  },
  {
   "cell_type": "markdown",
   "metadata": {},
   "source": [
    "### Set 4"
   ]
  },
  {
   "cell_type": "code",
   "execution_count": 29,
   "metadata": {},
   "outputs": [
    {
     "data": {
      "image/png": "[encoded data removed]",
      "text/plain": [
       "<matplotlib.figure.Figure at 0x22f70966a58>"
      ]
     },
     "metadata": {},
     "output_type": "display_data"
    }
   ],
   "source": [
    "poly_set4 = polynomial_dataframe(set4['sqft_living'],15)\n",
    "poly_set4['price'] = set4['price']\n",
    "model_set4_ridge = ridge_model(l2_new_penalty,poly_set4.drop('price',1),poly_set4['price'])\n",
    "plot_fitted_line(8,poly_set4,model_set4_ridge)"
   ]
  },
  {
   "cell_type": "code",
   "execution_count": 30,
   "metadata": {},
   "outputs": [
    {
     "name": "stdout",
     "output_type": "stream",
     "text": [
      "Intercepts:  478192.223481\n"
     ]
    },
    {
     "data": {
      "text/html": [
       "<div>\n",
       "<table border=\"1\" class=\"dataframe\">\n",
       "  <thead>\n",
       "    <tr style=\"text-align: right;\">\n",
       "      <th></th>\n",
       "      <th>features</th>\n",
       "      <th>estimated coefficients</th>\n",
       "    </tr>\n",
       "  </thead>\n",
       "  <tbody>\n",
       "    <tr>\n",
       "      <th>0</th>\n",
       "      <td>power_1</td>\n",
       "      <td>1.392595e+01</td>\n",
       "    </tr>\n",
       "    <tr>\n",
       "      <th>1</th>\n",
       "      <td>power_2</td>\n",
       "      <td>2.631151e-03</td>\n",
       "    </tr>\n",
       "    <tr>\n",
       "      <th>2</th>\n",
       "      <td>power_3</td>\n",
       "      <td>4.657011e-07</td>\n",
       "    </tr>\n",
       "    <tr>\n",
       "      <th>3</th>\n",
       "      <td>power_4</td>\n",
       "      <td>6.666547e-11</td>\n",
       "    </tr>\n",
       "    <tr>\n",
       "      <th>4</th>\n",
       "      <td>power_5</td>\n",
       "      <td>8.017007e-15</td>\n",
       "    </tr>\n",
       "    <tr>\n",
       "      <th>5</th>\n",
       "      <td>power_6</td>\n",
       "      <td>8.814751e-19</td>\n",
       "    </tr>\n",
       "    <tr>\n",
       "      <th>6</th>\n",
       "      <td>power_7</td>\n",
       "      <td>9.436279e-23</td>\n",
       "    </tr>\n",
       "    <tr>\n",
       "      <th>7</th>\n",
       "      <td>power_8</td>\n",
       "      <td>1.014969e-26</td>\n",
       "    </tr>\n",
       "    <tr>\n",
       "      <th>8</th>\n",
       "      <td>power_9</td>\n",
       "      <td>1.109419e-30</td>\n",
       "    </tr>\n",
       "    <tr>\n",
       "      <th>9</th>\n",
       "      <td>power_10</td>\n",
       "      <td>1.234153e-34</td>\n",
       "    </tr>\n",
       "    <tr>\n",
       "      <th>10</th>\n",
       "      <td>power_11</td>\n",
       "      <td>1.393831e-38</td>\n",
       "    </tr>\n",
       "    <tr>\n",
       "      <th>11</th>\n",
       "      <td>power_12</td>\n",
       "      <td>1.592697e-42</td>\n",
       "    </tr>\n",
       "    <tr>\n",
       "      <th>12</th>\n",
       "      <td>power_13</td>\n",
       "      <td>1.835576e-46</td>\n",
       "    </tr>\n",
       "    <tr>\n",
       "      <th>13</th>\n",
       "      <td>power_14</td>\n",
       "      <td>2.128401e-50</td>\n",
       "    </tr>\n",
       "    <tr>\n",
       "      <th>14</th>\n",
       "      <td>power_15</td>\n",
       "      <td>2.478586e-54</td>\n",
       "    </tr>\n",
       "  </tbody>\n",
       "</table>\n",
       "</div>"
      ],
      "text/plain": [
       "    features  estimated coefficients\n",
       "0    power_1            1.392595e+01\n",
       "1    power_2            2.631151e-03\n",
       "2    power_3            4.657011e-07\n",
       "3    power_4            6.666547e-11\n",
       "4    power_5            8.017007e-15\n",
       "5    power_6            8.814751e-19\n",
       "6    power_7            9.436279e-23\n",
       "7    power_8            1.014969e-26\n",
       "8    power_9            1.109419e-30\n",
       "9   power_10            1.234153e-34\n",
       "10  power_11            1.393831e-38\n",
       "11  power_12            1.592697e-42\n",
       "12  power_13            1.835576e-46\n",
       "13  power_14            2.128401e-50\n",
       "14  power_15            2.478586e-54"
      ]
     },
     "execution_count": 30,
     "metadata": {},
     "output_type": "execute_result"
    }
   ],
   "source": [
    "print(\"Intercepts: \", model_set4_ridge.intercept_)\n",
    "coeffs = pd.DataFrame(list(zip(poly_set4.drop('price',1).columns,model_set4_ridge.coef_)), columns = ['features', 'estimated coefficients'])\n",
    "coeffs"
   ]
  },
  {
   "cell_type": "markdown",
   "metadata": {},
   "source": [
    "## Selecting an L2 penalty via corss-validation"
   ]
  },
  {
   "cell_type": "markdown",
   "metadata": {},
   "source": [
    "Just like the polynomial degree, the L2 penalty is a \"magic\" parameter we need to select. We could use the validation set approach as we did in the last module, but that approach has a major disadvantage: it leaves fewer observations available for training. **Cross-validation** seeks to overcome this issue by using all of the training set in a smart way.\n",
    "\n",
    "We will implement a kind of cross-validation called **k-fold cross-validation**. The method gets its name because it involves dividing the training set into k segments of roughtly equal size. Similar to the validation set method, we measure the validation error with one of the segments designated as the validation set. The major difference is that we repeat the process k times as follows:\n",
    "\n",
    "* Set aside segment 0 as the validation set, and fit a model on rest of data, and evalutate it on this validation set\n",
    "* Set aside segment 1 as the validation set, and fit a model on rest of data, and evalutate it on this validation set\n",
    "...\n",
    "* Set aside segment k-1 as the validation set, and fit a model on rest of data, and evalutate it on this validation set\n",
    "\n",
    "After this process, we compute the average of the k validation errors, and use it as an estimate of the generalization error. Notice that all observations are used for both training and validation, as we iterate over segments of data."
   ]
  },
  {
   "cell_type": "code",
   "execution_count": 31,
   "metadata": {
    "collapsed": true
   },
   "outputs": [],
   "source": [
    "def k_fold_cross_validation(k, l2_penalty, data):    \n",
    "    rss_sum = 0\n",
    "    n = len(data)\n",
    "    for i in range(k):\n",
    "        start = int((n*i)/k)\n",
    "        end = int((n*(i+1))/k-1)\n",
    "        validation_set = data[start:end+1]\n",
    "        training_set = data[0:start].append(data[end+1:n])    \n",
    "        model = linear_model.Ridge(alpha = l2_penalty)\n",
    "        model.fit(training_set.drop('price',1),training_set['price'])\n",
    "        predictions = model.predict(validation_set.drop('price',1))\n",
    "        residuals = validation_set['price'] - predictions\n",
    "        rss = sum(residuals * residuals)\n",
    "        rss_sum += rss\n",
    "    validation_error = rss_sum / k # average = sum / size or you can use np.mean(list_of_validation_error)\n",
    "    return validation_error"
   ]
  },
  {
   "cell_type": "markdown",
   "metadata": {},
   "source": [
    "* We will again be aiming to fit a 15th-order polynomial model using the sqft_living input\n",
    "* Run 10-fold cross-validation with l2_penalty\n",
    "* Report which L2 penalty produced the lowest average validation error."
   ]
  },
  {
   "cell_type": "code",
   "execution_count": 32,
   "metadata": {
    "collapsed": true
   },
   "outputs": [],
   "source": [
    "poly_data = polynomial_dataframe(train_valid_shuffled['sqft_living'], 15)\n",
    "poly_data['price'] = train_valid_shuffled['price']"
   ]
  },
  {
   "cell_type": "code",
   "execution_count": 33,
   "metadata": {},
   "outputs": [
    {
     "data": {
      "text/html": [
       "<div>\n",
       "<table border=\"1\" class=\"dataframe\">\n",
       "  <thead>\n",
       "    <tr style=\"text-align: right;\">\n",
       "      <th></th>\n",
       "      <th>power_1</th>\n",
       "      <th>power_2</th>\n",
       "      <th>power_3</th>\n",
       "      <th>power_4</th>\n",
       "      <th>power_5</th>\n",
       "      <th>power_6</th>\n",
       "      <th>power_7</th>\n",
       "      <th>power_8</th>\n",
       "      <th>power_9</th>\n",
       "      <th>power_10</th>\n",
       "      <th>power_11</th>\n",
       "      <th>power_12</th>\n",
       "      <th>power_13</th>\n",
       "      <th>power_14</th>\n",
       "      <th>power_15</th>\n",
       "      <th>price</th>\n",
       "    </tr>\n",
       "  </thead>\n",
       "  <tbody>\n",
       "    <tr>\n",
       "      <th>0</th>\n",
       "      <td>2800.0</td>\n",
       "      <td>7840000.0</td>\n",
       "      <td>2.195200e+10</td>\n",
       "      <td>6.146560e+13</td>\n",
       "      <td>1.721037e+17</td>\n",
       "      <td>4.818903e+20</td>\n",
       "      <td>1.349293e+24</td>\n",
       "      <td>3.778020e+27</td>\n",
       "      <td>1.057846e+31</td>\n",
       "      <td>2.961968e+34</td>\n",
       "      <td>8.293509e+37</td>\n",
       "      <td>2.322183e+41</td>\n",
       "      <td>6.502111e+44</td>\n",
       "      <td>1.820591e+48</td>\n",
       "      <td>5.097655e+51</td>\n",
       "      <td>665000.0</td>\n",
       "    </tr>\n",
       "    <tr>\n",
       "      <th>1</th>\n",
       "      <td>2490.0</td>\n",
       "      <td>6200100.0</td>\n",
       "      <td>1.543825e+10</td>\n",
       "      <td>3.844124e+13</td>\n",
       "      <td>9.571869e+16</td>\n",
       "      <td>2.383395e+20</td>\n",
       "      <td>5.934654e+23</td>\n",
       "      <td>1.477729e+27</td>\n",
       "      <td>3.679545e+30</td>\n",
       "      <td>9.162067e+33</td>\n",
       "      <td>2.281355e+37</td>\n",
       "      <td>5.680573e+40</td>\n",
       "      <td>1.414463e+44</td>\n",
       "      <td>3.522012e+47</td>\n",
       "      <td>8.769810e+50</td>\n",
       "      <td>645000.0</td>\n",
       "    </tr>\n",
       "    <tr>\n",
       "      <th>2</th>\n",
       "      <td>2340.0</td>\n",
       "      <td>5475600.0</td>\n",
       "      <td>1.281290e+10</td>\n",
       "      <td>2.998220e+13</td>\n",
       "      <td>7.015834e+16</td>\n",
       "      <td>1.641705e+20</td>\n",
       "      <td>3.841590e+23</td>\n",
       "      <td>8.989320e+26</td>\n",
       "      <td>2.103501e+30</td>\n",
       "      <td>4.922192e+33</td>\n",
       "      <td>1.151793e+37</td>\n",
       "      <td>2.695196e+40</td>\n",
       "      <td>6.306758e+43</td>\n",
       "      <td>1.475781e+47</td>\n",
       "      <td>3.453328e+50</td>\n",
       "      <td>640000.0</td>\n",
       "    </tr>\n",
       "    <tr>\n",
       "      <th>3</th>\n",
       "      <td>1320.0</td>\n",
       "      <td>1742400.0</td>\n",
       "      <td>2.299968e+09</td>\n",
       "      <td>3.035958e+12</td>\n",
       "      <td>4.007464e+15</td>\n",
       "      <td>5.289853e+18</td>\n",
       "      <td>6.982606e+21</td>\n",
       "      <td>9.217040e+24</td>\n",
       "      <td>1.216649e+28</td>\n",
       "      <td>1.605977e+31</td>\n",
       "      <td>2.119890e+34</td>\n",
       "      <td>2.798254e+37</td>\n",
       "      <td>3.693696e+40</td>\n",
       "      <td>4.875678e+43</td>\n",
       "      <td>6.435895e+46</td>\n",
       "      <td>594000.0</td>\n",
       "    </tr>\n",
       "    <tr>\n",
       "      <th>4</th>\n",
       "      <td>1904.0</td>\n",
       "      <td>3625216.0</td>\n",
       "      <td>6.902411e+09</td>\n",
       "      <td>1.314219e+13</td>\n",
       "      <td>2.502273e+16</td>\n",
       "      <td>4.764328e+19</td>\n",
       "      <td>9.071281e+22</td>\n",
       "      <td>1.727172e+26</td>\n",
       "      <td>3.288535e+29</td>\n",
       "      <td>6.261371e+32</td>\n",
       "      <td>1.192165e+36</td>\n",
       "      <td>2.269882e+39</td>\n",
       "      <td>4.321856e+42</td>\n",
       "      <td>8.228813e+45</td>\n",
       "      <td>1.566766e+49</td>\n",
       "      <td>365000.0</td>\n",
       "    </tr>\n",
       "  </tbody>\n",
       "</table>\n",
       "</div>"
      ],
      "text/plain": [
       "   power_1    power_2       power_3       power_4       power_5       power_6  \\\n",
       "0   2800.0  7840000.0  2.195200e+10  6.146560e+13  1.721037e+17  4.818903e+20   \n",
       "1   2490.0  6200100.0  1.543825e+10  3.844124e+13  9.571869e+16  2.383395e+20   \n",
       "2   2340.0  5475600.0  1.281290e+10  2.998220e+13  7.015834e+16  1.641705e+20   \n",
       "3   1320.0  1742400.0  2.299968e+09  3.035958e+12  4.007464e+15  5.289853e+18   \n",
       "4   1904.0  3625216.0  6.902411e+09  1.314219e+13  2.502273e+16  4.764328e+19   \n",
       "\n",
       "        power_7       power_8       power_9      power_10      power_11  \\\n",
       "0  1.349293e+24  3.778020e+27  1.057846e+31  2.961968e+34  8.293509e+37   \n",
       "1  5.934654e+23  1.477729e+27  3.679545e+30  9.162067e+33  2.281355e+37   \n",
       "2  3.841590e+23  8.989320e+26  2.103501e+30  4.922192e+33  1.151793e+37   \n",
       "3  6.982606e+21  9.217040e+24  1.216649e+28  1.605977e+31  2.119890e+34   \n",
       "4  9.071281e+22  1.727172e+26  3.288535e+29  6.261371e+32  1.192165e+36   \n",
       "\n",
       "       power_12      power_13      power_14      power_15     price  \n",
       "0  2.322183e+41  6.502111e+44  1.820591e+48  5.097655e+51  665000.0  \n",
       "1  5.680573e+40  1.414463e+44  3.522012e+47  8.769810e+50  645000.0  \n",
       "2  2.695196e+40  6.306758e+43  1.475781e+47  3.453328e+50  640000.0  \n",
       "3  2.798254e+37  3.693696e+40  4.875678e+43  6.435895e+46  594000.0  \n",
       "4  2.269882e+39  4.321856e+42  8.228813e+45  1.566766e+49  365000.0  "
      ]
     },
     "execution_count": 33,
     "metadata": {},
     "output_type": "execute_result"
    }
   ],
   "source": [
    "poly_data.head(5)"
   ]
  },
  {
   "cell_type": "markdown",
   "metadata": {},
   "source": [
    "Employ k-fold cross-validation:"
   ]
  },
  {
   "cell_type": "code",
   "execution_count": 34,
   "metadata": {
    "collapsed": true
   },
   "outputs": [],
   "source": [
    "val_err_dict = {}\n",
    "for l2_penalty in np.logspace(1,10, num=100):\n",
    "    val_err = k_fold_cross_validation(10, l2_penalty, poly_data)    \n",
    "    val_err_dict[l2_penalty] = val_err"
   ]
  },
  {
   "cell_type": "markdown",
   "metadata": {},
   "source": [
    "Show the graph of l2-penalty and errors:"
   ]
  },
  {
   "cell_type": "code",
   "execution_count": 35,
   "metadata": {},
   "outputs": [
    {
     "data": {
      "text/plain": [
       "<matplotlib.text.Text at 0x22f70252518>"
      ]
     },
     "execution_count": 35,
     "metadata": {},
     "output_type": "execute_result"
    },
    {
     "data": {
      "image/png": "[encoded data removed]",
      "text/plain": [
       "<matplotlib.figure.Figure at 0x22f7041d438>"
      ]
     },
     "metadata": {},
     "output_type": "display_data"
    }
   ],
   "source": [
    "l2_penalty = val_err_dict.keys()\n",
    "validation_error = val_err_dict.values()\n",
    "l2_table = pd.DataFrame(list(val_err_dict.items()),columns=['l2_penalty','validation_error'])\n",
    "plt.plot(l2_table['l2_penalty'],l2_table['validation_error'],'k.')\n",
    "plt.xscale('log')\n",
    "plt.xlabel('L2 penalty')\n",
    "plt.ylabel('error')"
   ]
  },
  {
   "cell_type": "markdown",
   "metadata": {},
   "source": [
    "Graph shows that error dramatically drops from $10^3$ to the $10^6$. We will reiterate in this domain:"
   ]
  },
  {
   "cell_type": "code",
   "execution_count": 36,
   "metadata": {
    "collapsed": true
   },
   "outputs": [],
   "source": [
    "val_err_dict = {}\n",
    "for l2_penalty in np.logspace(5,6, num=100):\n",
    "    val_err = k_fold_cross_validation(10, l2_penalty, poly_data)    \n",
    "    val_err_dict[l2_penalty] = val_err"
   ]
  },
  {
   "cell_type": "code",
   "execution_count": 37,
   "metadata": {},
   "outputs": [
    {
     "data": {
      "text/plain": [
       "<matplotlib.text.Text at 0x22f704246d8>"
      ]
     },
     "execution_count": 37,
     "metadata": {},
     "output_type": "execute_result"
    },
    {
     "data": {
      "image/png": "[encoded data removed]",
      "text/plain": [
       "<matplotlib.figure.Figure at 0x22f704395c0>"
      ]
     },
     "metadata": {},
     "output_type": "display_data"
    }
   ],
   "source": [
    "l2_penalty = val_err_dict.keys()\n",
    "validation_error = val_err_dict.values()\n",
    "l2_table = pd.DataFrame(list(val_err_dict.items()),columns=['l2_penalty','validation_error'])\n",
    "plt.plot(l2_table['l2_penalty'],l2_table['validation_error'],'k.')\n",
    "plt.xscale('log')\n",
    "plt.xlabel('L2 penalty')\n",
    "plt.ylabel('error')"
   ]
  },
  {
   "cell_type": "markdown",
   "metadata": {},
   "source": [
    "Find the l2 value of minimizing error:"
   ]
  },
  {
   "cell_type": "code",
   "execution_count": 38,
   "metadata": {},
   "outputs": [
    {
     "data": {
      "text/plain": [
       "432876.12810830615"
      ]
     },
     "execution_count": 38,
     "metadata": {},
     "output_type": "execute_result"
    }
   ],
   "source": [
    "optimal_penalty = min(val_err_dict.items(), key = lambda x:x[1])\n",
    "optimal_penalty[0]"
   ]
  },
  {
   "cell_type": "markdown",
   "metadata": {},
   "source": [
    "Final model on all of the training data using the value of this optimal l2-penalty:"
   ]
  },
  {
   "cell_type": "code",
   "execution_count": 39,
   "metadata": {},
   "outputs": [
    {
     "data": {
      "image/png": "[encoded data removed]",
      "text/plain": [
       "<matplotlib.figure.Figure at 0x22f6f98e668>"
      ]
     },
     "metadata": {},
     "output_type": "display_data"
    }
   ],
   "source": [
    "sales = sales.sort_values(['sqft_living','price'])\n",
    "sales_data = polynomial_dataframe(sales['sqft_living'], 15)\n",
    "sales_data['price'] = sales['price']\n",
    "l2_penalty_best = optimal_penalty[0]\n",
    "model_best = ridge_model(10, sales_data.drop('price',1), sales_data['price'])\n",
    "plot_fitted_line(9,sales_data,model_best)"
   ]
  },
  {
   "cell_type": "markdown",
   "metadata": {},
   "source": [
    "Calculate RSS on the Test data of the model with L2 penalty:"
   ]
  },
  {
   "cell_type": "code",
   "execution_count": 40,
   "metadata": {},
   "outputs": [
    {
     "name": "stdout",
     "output_type": "stream",
     "text": [
      "RSS with Optimal L2 penalty on Data set: 2.298e+14\n"
     ]
    }
   ],
   "source": [
    "poly_test = polynomial_dataframe(test_data['sqft_living'], 15)\n",
    "poly_test['price'] = test_data['price']\n",
    "predictions = model_best.predict(poly_test.drop('price',1))\n",
    "errors = predictions - test_data['price']\n",
    "rss = (errors*errors).sum()\n",
    "print(\"RSS with Optimal L2 penalty on Data set: %.4g\" % rss)"
   ]
  }
 ],
 "metadata": {
  "kernelspec": {
   "display_name": "Python 3",
   "language": "python",
   "name": "python3"
  },
  "language_info": {
   "codemirror_mode": {
    "name": "ipython",
    "version": 3
   },
   "file_extension": ".py",
   "mimetype": "text/x-python",
   "name": "python",
   "nbconvert_exporter": "python",
   "pygments_lexer": "ipython3",
   "version": "3.6.0"
  }
 },
 "nbformat": 4,
 "nbformat_minor": 2
}
