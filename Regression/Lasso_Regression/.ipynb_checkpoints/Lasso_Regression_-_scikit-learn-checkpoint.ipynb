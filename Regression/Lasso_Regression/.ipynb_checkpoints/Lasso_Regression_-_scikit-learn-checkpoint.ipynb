{
 "cells": [
  {
   "cell_type": "markdown",
   "metadata": {},
   "source": [
    "# LASSO"
   ]
  },
  {
   "cell_type": "markdown",
   "metadata": {},
   "source": [
    "## Import Module & Load Data"
   ]
  },
  {
   "cell_type": "code",
   "execution_count": 1,
   "metadata": {
    "collapsed": true
   },
   "outputs": [],
   "source": [
    "import pandas as pd\n",
    "import numpy as np\n",
    "from math import sqrt\n",
    "from sklearn import linear_model  # using scikit-learn\n",
    "\n",
    "dtype_dict = {'bathrooms':float, 'waterfront':int, 'sqft_above':int, 'sqft_living15':float, 'grade':int, 'yr_renovated':int, 'price':float, 'bedrooms':float, 'zipcode':str, 'long':float, 'sqft_lot15':float, 'sqft_living':float, 'floors':float, 'condition':int, 'lat':float, 'date':str, 'sqft_basement':int, 'yr_built':int, 'id':str, 'sqft_lot':int, 'view':int}\n",
    "\n",
    "sales = pd.read_csv('kc_house_data.csv', dtype=dtype_dict)\n",
    "testing = pd.read_csv('kc_house_test_data.csv', dtype=dtype_dict)\n",
    "training = pd.read_csv('kc_house_train_data.csv', dtype=dtype_dict)\n",
    "validation = pd.read_csv('kc_house_valid_data.csv', dtype=dtype_dict)"
   ]
  },
  {
   "cell_type": "markdown",
   "metadata": {},
   "source": [
    "## Creating New Features"
   ]
  },
  {
   "cell_type": "code",
   "execution_count": 2,
   "metadata": {
    "collapsed": true
   },
   "outputs": [],
   "source": [
    "sales['sqft_living_sqrt'] = sales['sqft_living'].apply(sqrt)\n",
    "sales['sqft_lot_sqrt'] = sales['sqft_lot'].apply(sqrt)\n",
    "sales['bedrooms_square'] = sales['bedrooms']*sales['bedrooms']\n",
    "sales['floors_square'] = sales['floors']*sales['floors']\n",
    "\n",
    "testing['sqft_living_sqrt'] = testing['sqft_living'].apply(sqrt)\n",
    "testing['sqft_lot_sqrt'] = testing['sqft_lot'].apply(sqrt)\n",
    "testing['bedrooms_square'] = testing['bedrooms']*testing['bedrooms']\n",
    "testing['floors_square'] = testing['floors']*testing['floors']\n",
    "\n",
    "training['sqft_living_sqrt'] = training['sqft_living'].apply(sqrt)\n",
    "training['sqft_lot_sqrt'] = training['sqft_lot'].apply(sqrt)\n",
    "training['bedrooms_square'] = training['bedrooms']*training['bedrooms']\n",
    "training['floors_square'] = training['floors']*training['floors']\n",
    "\n",
    "validation['sqft_living_sqrt'] = validation['sqft_living'].apply(sqrt)\n",
    "validation['sqft_lot_sqrt'] = validation['sqft_lot'].apply(sqrt)\n",
    "validation['bedrooms_square'] = validation['bedrooms']*validation['bedrooms']\n",
    "validation['floors_square'] = validation['floors']*validation['floors']"
   ]
  },
  {
   "cell_type": "markdown",
   "metadata": {},
   "source": [
    "## Learn Regression Weights with L1 Penalty"
   ]
  },
  {
   "cell_type": "markdown",
   "metadata": {},
   "source": [
    "Let us fit a model with all the features available, plus the features we just created above."
   ]
  },
  {
   "cell_type": "code",
   "execution_count": 3,
   "metadata": {
    "collapsed": true
   },
   "outputs": [],
   "source": [
    "all_features = ['bedrooms', 'bedrooms_square',\n",
    "            'bathrooms',\n",
    "            'sqft_living', 'sqft_living_sqrt',\n",
    "            'sqft_lot', 'sqft_lot_sqrt',\n",
    "            'floors', 'floors_square',\n",
    "            'waterfront', 'view', 'condition', 'grade',\n",
    "            'sqft_above',\n",
    "            'sqft_basement',\n",
    "            'yr_built', 'yr_renovated']"
   ]
  },
  {
   "cell_type": "markdown",
   "metadata": {},
   "source": [
    "Applying L1 penalty requires adding an extra parameter (l1_penalty) to the linear regression call in GraphLab Create. (Other tools may have separate implementations of LASSO.) Note that it's important to set l2_penalty=0 to ensure we don't introduce an additional L2 penalty."
   ]
  },
  {
   "cell_type": "code",
   "execution_count": 4,
   "metadata": {},
   "outputs": [
    {
     "name": "stdout",
     "output_type": "stream",
     "text": [
      "Positive Coefficients: \n",
      "        features  estimated coefficients\n",
      "3   sqft_living              134.439314\n",
      "10         view            24750.004586\n",
      "12        grade            61749.103091\n"
     ]
    }
   ],
   "source": [
    "model_all = linear_model.Lasso(alpha=5e2, normalize=True) # set parameters\n",
    "model_all.fit(sales[all_features], sales['price']) # learn weights\n",
    "coeffs = pd.DataFrame(list(zip(sales[all_features],model_all.coef_)),columns=['features', 'estimated coefficients'])\n",
    "pos_coeffs = coeffs[coeffs['estimated coefficients']!=0]\n",
    "print(\"Positive Coefficients: \\n\", pos_coeffs)"
   ]
  },
  {
   "cell_type": "markdown",
   "metadata": {},
   "source": [
    "Note that a majority of the weights have been set to zero. So by setting an L1 penalty that's large enough, we are performing a subset selection."
   ]
  },
  {
   "cell_type": "markdown",
   "metadata": {},
   "source": [
    "## Selecting a L1 Penalty"
   ]
  },
  {
   "cell_type": "markdown",
   "metadata": {},
   "source": [
    "We write a loop that does the following:\n",
    "\n",
    "* For `l1_penalty` in [$10^1, 10^1.5, \\cdots 10^7$] (to get this in Python, type np.logspace(1,7,num=13)\n",
    "* Fit a regression model with a given `l1_penalty` on TRAIN data.\n",
    "* Compute the RSS on VALIDATION data.\n",
    "* Report which `l1_penalty` produced the lowest RSS on validation data."
   ]
  },
  {
   "cell_type": "code",
   "execution_count": 5,
   "metadata": {},
   "outputs": [
    {
     "name": "stdout",
     "output_type": "stream",
     "text": [
      "\n",
      "Optimal L1 Penalty:  10.0\n"
     ]
    }
   ],
   "source": [
    "validation_rss = {}\n",
    "\n",
    "for l1_penalty in np.logspace(1,7, num=13):\n",
    "    model = linear_model.Lasso(l1_penalty, normalize = True)\n",
    "    model.fit(training[all_features],training['price'])\n",
    "    predictions = model.predict(validation[all_features])\n",
    "    residuals = validation['price'] - predictions\n",
    "    RSS = sum(residuals ** 2)\n",
    "    validation_rss[l1_penalty] = RSS\n",
    "\n",
    "optimal_l1_penalty = min(validation_rss.items(), key = lambda x: x[1])[0]\n",
    "print()\n",
    "print(\"Optimal L1 Penalty: \", optimal_l1_penalty)"
   ]
  },
  {
   "cell_type": "markdown",
   "metadata": {},
   "source": [
    "Let's apply this optimal `l1_penalty` on TEST data:"
   ]
  },
  {
   "cell_type": "code",
   "execution_count": 6,
   "metadata": {},
   "outputs": [
    {
     "name": "stdout",
     "output_type": "stream",
     "text": [
      "Positive Coefficients (Test Set): \n",
      "             features  estimated coefficients\n",
      "0           bedrooms           -14227.610864\n",
      "2          bathrooms            52721.103327\n",
      "3        sqft_living              511.774116\n",
      "4   sqft_living_sqrt           -34618.450510\n",
      "5           sqft_lot                0.715295\n",
      "6      sqft_lot_sqrt             -709.691210\n",
      "7             floors          -153098.458411\n",
      "8      floors_square            50315.741942\n",
      "9         waterfront           474202.648826\n",
      "10              view            37753.365695\n",
      "11         condition            35879.550409\n",
      "12             grade           125534.816213\n",
      "13        sqft_above               16.662389\n",
      "15          yr_built            -3275.606526\n",
      "16      yr_renovated                6.661506\n",
      "Number of non-zero coeffs:  16\n"
     ]
    }
   ],
   "source": [
    "model_best = linear_model.Lasso(alpha=optimal_l1_penalty,normalize = True, max_iter = 10000)\n",
    "model_best.fit(testing[all_features], testing['price'])\n",
    "coeffs = pd.DataFrame(list(zip(testing[all_features],model_best.coef_)),columns=['features','estimated coefficients'])\n",
    "pos_coeffs = coeffs[coeffs['estimated coefficients']!=0]\n",
    "print(\"Positive Coefficients (Test Set): \\n\", pos_coeffs)\n",
    "print(\"Number of non-zero coeffs: \", np.count_nonzero(model_best.coef_) + np.count_nonzero(model_best.intercept_))"
   ]
  },
  {
   "cell_type": "markdown",
   "metadata": {},
   "source": [
    "## Limit the Number of Nonzero Weights"
   ]
  },
  {
   "cell_type": "markdown",
   "metadata": {},
   "source": [
    "What if we absolutely wanted to limit ourselves to, say, 7 features? This may be important if we want to derive \"a rule of thumb\" --- an interpretable model that has only a few features in them.\n",
    "In this section, you are going to implement a simple, two phase procedure to achive this goal:\n",
    "\n",
    "1. Explore a large range of `l1_penalty` values to find a narrow region of `l1_penalty` values where models are likely to have the desired number of non-zero weights.\n",
    "\n",
    "2. Further explore the narrow region you found to find a good value for `l1_penalty` that achieves the desired sparsity. Here, we will again use a validation set to choose the best value for `l1_penalty`."
   ]
  },
  {
   "cell_type": "code",
   "execution_count": 7,
   "metadata": {
    "collapsed": true
   },
   "outputs": [],
   "source": [
    "max_nonzeros = 7"
   ]
  },
  {
   "cell_type": "markdown",
   "metadata": {},
   "source": [
    "### Exploring the larger range of values to find a narrow range with sparsity"
   ]
  },
  {
   "cell_type": "markdown",
   "metadata": {},
   "source": [
    "Let's define a wide range of possible `l1_penalty_values`:"
   ]
  },
  {
   "cell_type": "code",
   "execution_count": 8,
   "metadata": {},
   "outputs": [
    {
     "name": "stdout",
     "output_type": "stream",
     "text": [
      "L1 penalty / # of Coefficient\n"
     ]
    },
    {
     "data": {
      "text/plain": [
       "{10.0: 15,\n",
       " 14.384498882876629: 15,\n",
       " 20.691380811147901: 15,\n",
       " 29.763514416313178: 15,\n",
       " 42.813323987193932: 13,\n",
       " 61.584821106602639: 12,\n",
       " 88.586679041008225: 11,\n",
       " 127.42749857031335: 10,\n",
       " 183.29807108324357: 7,\n",
       " 263.66508987303581: 6,\n",
       " 379.26901907322497: 6,\n",
       " 545.55947811685144: 6,\n",
       " 784.75997035146065: 5,\n",
       " 1128.8378916846884: 3,\n",
       " 1623.776739188721: 3,\n",
       " 2335.7214690901214: 2,\n",
       " 3359.8182862837812: 1,\n",
       " 4832.9302385717519: 1,\n",
       " 6951.9279617756056: 1,\n",
       " 10000.0: 1}"
      ]
     },
     "execution_count": 8,
     "metadata": {},
     "output_type": "execute_result"
    }
   ],
   "source": [
    "l1_penalty_wide = np.logspace(1,4,num=20) # Wide Range\n",
    "coeffs_dict = {}\n",
    "for l1_penalty in l1_penalty_wide:\n",
    "    model = linear_model.Lasso(alpha = l1_penalty, normalize = True)\n",
    "    model.fit(training[all_features],training['price'])\n",
    "    nnz = np.count_nonzero(model.coef_) + np.count_nonzero(model.intercept_)\n",
    "    coeffs_dict[l1_penalty] = nnz\n",
    "\n",
    "print(\"L1 penalty / # of Coefficient\")\n",
    "coeffs_dict"
   ]
  },
  {
   "cell_type": "code",
   "execution_count": 9,
   "metadata": {},
   "outputs": [
    {
     "name": "stdout",
     "output_type": "stream",
     "text": [
      "L1_penalty_min:  127.42749857031335\n",
      "L1_penalty_max:  183.29807108324357\n"
     ]
    }
   ],
   "source": [
    "l1_penalty_min = 127.42749857031335\n",
    "l1_penalty_max = 183.29807108324357\n",
    "print(\"L1_penalty_min: \", l1_penalty_min)\n",
    "print(\"L1_penalty_max: \", l1_penalty_max)"
   ]
  },
  {
   "cell_type": "markdown",
   "metadata": {},
   "source": [
    "### Exploring the narrow range of values to find the solution with the right number of non-zeros that has lowest RSS on the validation set"
   ]
  },
  {
   "cell_type": "code",
   "execution_count": 10,
   "metadata": {
    "collapsed": true
   },
   "outputs": [],
   "source": [
    "validation_rss = {}\n",
    "l1_penalty_narrow = np.linspace(l1_penalty_min,l1_penalty_max, num=20)\n",
    "for l1_penalty in l1_penalty_narrow:\n",
    "    model = linear_model.Lasso(alpha = l1_penalty, normalize = True)\n",
    "    model.fit(training[all_features],training['price'])\n",
    "    predictions = model.predict(validation[all_features])\n",
    "    residuals = validation['price'] - predictions\n",
    "    RSS = sum(residuals ** 2)\n",
    "    validation_rss[l1_penalty] = RSS, np.count_nonzero(model.coef_) + np.count_nonzero(model.intercept_)"
   ]
  },
  {
   "cell_type": "code",
   "execution_count": 11,
   "metadata": {},
   "outputs": [
    {
     "name": "stdout",
     "output_type": "stream",
     "text": [
      "\n",
      "BEST RSS: 4.398e+14 \n",
      "BEST L1 PENALTY: 153.9\n"
     ]
    }
   ],
   "source": [
    "# Find the model that the lowest RSS on the Validation set and has sparsity equal to max_nonzero\n",
    "print()\n",
    "bestRSS = np.inf\n",
    "for i,j in validation_rss.items():\n",
    "    if (j[0] < bestRSS) and (j[1] == max_nonzeros):\n",
    "        bestRSS = j[0]\n",
    "        bestl1 = i\n",
    "print(\"BEST RSS: %.4g \\nBEST L1 PENALTY: %.4g\" %(bestRSS, bestl1))"
   ]
  },
  {
   "cell_type": "code",
   "execution_count": 12,
   "metadata": {},
   "outputs": [
    {
     "name": "stdout",
     "output_type": "stream",
     "text": [
      "Positive Coefficients (Test Set): \n",
      "        features  estimated coefficients\n",
      "2     bathrooms            11074.253516\n",
      "3   sqft_living              163.235168\n",
      "9    waterfront           508217.547491\n",
      "10         view            41997.973196\n",
      "12        grade           116484.911366\n",
      "15     yr_built            -2628.351662\n",
      "Number of non-zero coeffs:  7\n"
     ]
    }
   ],
   "source": [
    "# Apply best L1 penalty\n",
    "model_best = linear_model.Lasso(alpha=bestl1,normalize = True, max_iter = 10000)\n",
    "model_best.fit(training[all_features], training['price'])\n",
    "coeffs = pd.DataFrame(list(zip(training[all_features],model_best.coef_)),columns=['features','estimated coefficients'])\n",
    "pos_coeffs = coeffs[coeffs['estimated coefficients']!=0]\n",
    "print(\"Positive Coefficients (Test Set): \\n\", pos_coeffs)\n",
    "print(\"Number of non-zero coeffs: \", np.count_nonzero(model_best.coef_) + np.count_nonzero(model_best.intercept_))"
   ]
  }
 ],
 "metadata": {
  "kernelspec": {
   "display_name": "Python 3",
   "language": "python",
   "name": "python3"
  },
  "language_info": {
   "codemirror_mode": {
    "name": "ipython",
    "version": 3
   },
   "file_extension": ".py",
   "mimetype": "text/x-python",
   "name": "python",
   "nbconvert_exporter": "python",
   "pygments_lexer": "ipython3",
   "version": "3.6.0"
  }
 },
 "nbformat": 4,
 "nbformat_minor": 2
}
