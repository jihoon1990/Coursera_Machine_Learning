{
 "cells": [
  {
   "cell_type": "markdown",
   "metadata": {},
   "source": [
    "# LASSO Regresssion (Coordinate Descent)"
   ]
  },
  {
   "cell_type": "markdown",
   "metadata": {},
   "source": [
    "## Import Module & Load Data"
   ]
  },
  {
   "cell_type": "code",
   "execution_count": 1,
   "metadata": {
    "collapsed": true
   },
   "outputs": [],
   "source": [
    "import pandas as pd\n",
    "import numpy as np\n",
    "from lasso_func import normalize_features\n",
    "from lasso_func import predict_output\n",
    "from lasso_func import lasso_cyclical_coordinate_descent\n",
    "\n",
    "dtype_dict = {'bathrooms':float, 'waterfront':int, 'sqft_above':int, 'sqft_living15':float, 'grade':int, 'yr_renovated':int, 'price':float, 'bedrooms':float, 'zipcode':str, 'long':float, 'sqft_lot15':float, 'sqft_living':float, 'floors':float, 'condition':int, 'lat':float, 'date':str, 'sqft_basement':int, 'yr_built':int, 'id':str, 'sqft_lot':int, 'view':int}\n",
    "\n",
    "sales = pd.read_csv('kc_house_data.csv', dtype=dtype_dict)\n",
    "testing = pd.read_csv('kc_house_test_data.csv', dtype=dtype_dict)\n",
    "training = pd.read_csv('kc_house_train_data.csv', dtype=dtype_dict)\n",
    "# In the dataset, 'floors' was defined with type string, \n",
    "# so we'll convert them to int, before using it below\n",
    "sales['floors'] = sales['floors'].astype(int)\n",
    "sales['constant'] = 1\n",
    "testing['constant'] = 1\n",
    "training['constant'] = 1"
   ]
  },
  {
   "cell_type": "markdown",
   "metadata": {},
   "source": [
    "## Import useful functions from previous notebook"
   ]
  },
  {
   "cell_type": "code",
   "execution_count": 2,
   "metadata": {
    "collapsed": true
   },
   "outputs": [],
   "source": [
    "def predict_output(feature_matrix, weights):\n",
    "    # assume feature_matrix is a numpy matrix containing the features as columns and weights is a corresponding numpy array\n",
    "    # create the predictions vector by using np.dot()\n",
    "    predictions = np.dot(feature_matrix, weights)\n",
    "    return(predictions)"
   ]
  },
  {
   "cell_type": "markdown",
   "metadata": {},
   "source": [
    "## Normalize Features"
   ]
  },
  {
   "cell_type": "code",
   "execution_count": 3,
   "metadata": {
    "collapsed": true
   },
   "outputs": [],
   "source": [
    "def normalize_features(features):\n",
    "    norms = np.linalg.norm(features, axis = 0)\n",
    "    X_normalized = features / norms\n",
    "    return(X_normalized, norms)"
   ]
  },
  {
   "cell_type": "markdown",
   "metadata": {},
   "source": [
    "## Implementing Coordinate Descent with normalized features"
   ]
  },
  {
   "cell_type": "markdown",
   "metadata": {},
   "source": [
    "We seek to obtain a sparse set of weights by minimizing the LASSO cost function:\n",
    "\n",
    "$SUM[ (prediction - output)^2 ] + \\lambda*( |w[1]| + ... + |w[k]|).$\n",
    "\n",
    "(By convention, we do not include w[0] in the L1 penalty term. We never want to push the intercept to zero.)\n",
    "\n",
    "The absolute value sign makes the cost function non-differentiable, so simple gradient descent is not viable (you would need to implement a method called subgradient descent). Instead, we will use coordinate descent: at each iteration, we will fix all weights but weight i and find the value of weight i that minimizes the objective. That is, we look for\n",
    "\n",
    "$argmin_{w[i]} [ SUM[ (prediction - output)^2 ] + \\lambda*( |w[1]| + ... + |w[k]|) ]$\n",
    "\n",
    "where all weights other than w[i] are held to be constant. We will optimize one w[i] at a time, circling through the weights multiple times.\n",
    "\n",
    "1. Pick a coordinate i\n",
    "2. Compute $w[i]$ that minimizes the cost function $SUM[ (prediction - output)^2 ] + \\lambda*( |w[1]| + ... + |w[k]|)$\n",
    "3. Repeat Steps 1 and 2 for all coordinates, multiple times\n",
    "\n",
    "For this notebook, we use **cyclical coordinate descent** with normalized features, where we cycle through coordinates 0 to (d-1) in order, and assume the features were normalized as discussed above."
   ]
  },
  {
   "cell_type": "markdown",
   "metadata": {},
   "source": [
    "## Effect of L1 penalty"
   ]
  },
  {
   "cell_type": "code",
   "execution_count": 4,
   "metadata": {},
   "outputs": [],
   "source": [
    "simple_features = ['constant','sqft_living','bedrooms']\n",
    "simple_feature_matrix = sales[simple_features].as_matrix()\n",
    "output = sales['price'].as_matrix()\n",
    "\n",
    "simple_feature_matrix , norms = normalize_features(simple_feature_matrix)\n",
    "weights = np.array([1.,4.,1.])\n",
    "prediction = predict_output(simple_feature_matrix,weights)\n",
    "\n"
   ]
  },
  {
   "cell_type": "markdown",
   "metadata": {},
   "source": [
    "Compute the values of ro[i] for each feature in this simple model, using the formula given above, using the formula:\n",
    "\n",
    "$\\rho[i] = SUM[ [feature_i]*(output - prediction + w[i]*[feature_i]) ]$\n",
    "\n",
    "Hint: You can get a Numpy vector for feature_i using:\n",
    "simple_feature_matrix[:,i]\n",
    "\n",
    "$\\rho[i] = SUM[ [feature_i]*(output - prediction + w[i]*[feature_i]) ]$\n",
    "\n",
    "because\n",
    "\n",
    "$Y_i(w-j) = (prediction - weight[i]*[feature_i])$"
   ]
  },
  {
   "cell_type": "code",
   "execution_count": 5,
   "metadata": {},
   "outputs": [
    {
     "name": "stdout",
     "output_type": "stream",
     "text": [
      "Rho: 7.94e+07\n",
      "Rho: 8.794e+07\n",
      "Rho: 8.097e+07\n"
     ]
    }
   ],
   "source": [
    "rho = [0 for i in range((simple_feature_matrix.shape)[1])]\n",
    "for j in range((simple_feature_matrix.shape)[1]):\n",
    "    rho[j] = (simple_feature_matrix[:,j] * (output - prediction + (weights[j] * simple_feature_matrix[:,j]))).sum()\n",
    "    print(\"Rho: %.4g\" %rho[j])"
   ]
  },
  {
   "cell_type": "markdown",
   "metadata": {},
   "source": [
    "## Single Coordinate Descent Step"
   ]
  },
  {
   "cell_type": "markdown",
   "metadata": {},
   "source": [
    "Using the formula above, implement coordinate descent that minimizes the cost function over a single feature i. Note that the intercept (weight 0) is not regularized. The function should accept feature matrix, output, current weights, l1 penalty, and index of feature to optimize over. The function should return new weight for feature i."
   ]
  },
  {
   "cell_type": "code",
   "execution_count": 6,
   "metadata": {
    "collapsed": true
   },
   "outputs": [],
   "source": [
    "def lasso_coordinate_descent_step(i, feature_matrix, output, weights, l1_penalty):\n",
    "    # compute prediction\n",
    "    prediction = predict_output(feature_matrix,weights)\n",
    "    # compute ro[i] = SUM[ [feature_i]*(output - prediction + weight[i]*[feature_i]) ]\n",
    "    ro_i = (feature_matrix[:,i] * (output - prediction + (weights[i] * feature_matrix[:,i]))).sum()\n",
    "    \n",
    "    if i == 0: # intercept -- do not regularize\n",
    "        new_weight_i = ro_i\n",
    "    elif ro_i < -l1_penalty/2.:\n",
    "        new_weight_i = ro_i + l1_penalty/2.\n",
    "    elif ro_i > l1_penalty/2.:\n",
    "        new_weight_i = ro_i - l1_penalty/2.\n",
    "    else:\n",
    "        new_weight_i = 0.\n",
    "    \n",
    "    return new_weight_i"
   ]
  },
  {
   "cell_type": "markdown",
   "metadata": {},
   "source": [
    "## Cyclical coordinate descent"
   ]
  },
  {
   "cell_type": "code",
   "execution_count": 7,
   "metadata": {
    "collapsed": true
   },
   "outputs": [],
   "source": [
    "def lasso_cyclical_coordinate_descent(feature_matrix, output, initial_weights, l1_penalty, tolerance):\n",
    "    n_feature = feature_matrix.shape[1]\n",
    "    weights = np.array(initial_weights)\n",
    "    change = np.array(initial_weights) * 0.0\n",
    "    converged = False\n",
    "    \n",
    "    while not converged:\n",
    "        # Evaluate over all features\n",
    "        for idx in range(n_feature):\n",
    "            # new weights for feature\n",
    "            new_weight = lasso_coordinate_descent_step(idx,feature_matrix,output,weights,l1_penalty)\n",
    "            # compute change in weight for feature\n",
    "            change[idx] = np.abs(new_weight - weights[idx])\n",
    "            # assign new weight\n",
    "            weights[idx] = new_weight\n",
    "            \n",
    "        max_change = max(change)\n",
    "        \n",
    "        if max_change < tolerance:\n",
    "            converged = True\n",
    "            \n",
    "    return weights"
   ]
  },
  {
   "cell_type": "markdown",
   "metadata": {},
   "source": [
    "Using the following parameters, learn the weights on the sales dataset:"
   ]
  },
  {
   "cell_type": "code",
   "execution_count": 8,
   "metadata": {
    "collapsed": true
   },
   "outputs": [],
   "source": [
    "simple_features = ['constant','sqft_living', 'bedrooms']\n",
    "simple_feature_matrix = sales[simple_features].as_matrix()\n",
    "output = sales['price'].as_matrix()\n",
    "initial_weights = np.zeros(3)\n",
    "l1_penalty = 1e7\n",
    "tolerance = 1.0"
   ]
  },
  {
   "cell_type": "markdown",
   "metadata": {},
   "source": [
    "First create a normalized version of the feature matrix, `normalized_simple_feature_matrix`:"
   ]
  },
  {
   "cell_type": "code",
   "execution_count": 9,
   "metadata": {
    "collapsed": true
   },
   "outputs": [],
   "source": [
    "normalized_simple_feature_matrix, simple_norm = normalize_features(simple_feature_matrix)"
   ]
  },
  {
   "cell_type": "markdown",
   "metadata": {},
   "source": [
    "Then, run your implementation of LASSO coordinate descent:"
   ]
  },
  {
   "cell_type": "code",
   "execution_count": 10,
   "metadata": {},
   "outputs": [
    {
     "name": "stdout",
     "output_type": "stream",
     "text": [
      "Weights from cyclical coordinate descent: \n",
      " [ 21624997.95951909  63157247.20788956         0.        ]\n",
      "RSS for normalized dataset:  1.63049247672e+15\n"
     ]
    }
   ],
   "source": [
    "weights = lasso_cyclical_coordinate_descent(normalized_simple_feature_matrix,output,initial_weights,l1_penalty,tolerance)\n",
    "print(\"Weights from cyclical coordinate descent: \\n\", weights)\n",
    "\n",
    "prediction =  predict_output(normalized_simple_feature_matrix, weights)\n",
    "residuals = output - prediction\n",
    "RSS = (residuals ** 2).sum()\n",
    "print('RSS for normalized dataset: ', RSS)"
   ]
  },
  {
   "cell_type": "markdown",
   "metadata": {},
   "source": [
    "## Evaluating LASSO fit with more features"
   ]
  },
  {
   "cell_type": "markdown",
   "metadata": {},
   "source": [
    "Let us consider the following set of features:"
   ]
  },
  {
   "cell_type": "code",
   "execution_count": 11,
   "metadata": {
    "collapsed": true
   },
   "outputs": [],
   "source": [
    "all_features = ['constant',\n",
    "                'bedrooms',\n",
    "                'bathrooms',\n",
    "                'sqft_living',\n",
    "                'sqft_lot',\n",
    "                'floors',\n",
    "                'waterfront', \n",
    "                'view', \n",
    "                'condition', \n",
    "                'grade',\n",
    "                'sqft_above',\n",
    "                'sqft_basement',\n",
    "                'yr_built', \n",
    "                'yr_renovated']"
   ]
  },
  {
   "cell_type": "code",
   "execution_count": 12,
   "metadata": {
    "collapsed": true
   },
   "outputs": [],
   "source": [
    "feature_matrix = training[all_features].as_matrix()\n",
    "output = training['price'].as_matrix()\n",
    "normalized_feature_matrix, norm = normalize_features(feature_matrix)"
   ]
  },
  {
   "cell_type": "markdown",
   "metadata": {},
   "source": [
    "First, learn the weights with `l1_penalty=1e7`, on the training data. Initialize weights to all zeros, and set the `tolerance=1`. Call resulting weights `weights1e7`, you will need them later."
   ]
  },
  {
   "cell_type": "code",
   "execution_count": 13,
   "metadata": {},
   "outputs": [
    {
     "name": "stdout",
     "output_type": "stream",
     "text": [
      "Weights with L1 of 1e7: \n",
      " [ 23864692.5095384          0.                 0.          30495548.13254719\n",
      "         0.                 0.           1901633.61475594\n",
      "   5705765.01673266         0.                 0.                 0.\n",
      "         0.                 0.                 0.        ]\n",
      "constant 23864692.5095\n",
      "sqft_living 30495548.1325\n",
      "waterfront 1901633.61476\n",
      "view 5705765.01673\n"
     ]
    }
   ],
   "source": [
    "initial_weights = np.zeros(len(all_features))\n",
    "l1_penalty = 1e7\n",
    "tolerance = 1.0\n",
    "\n",
    "weights1e7 = lasso_cyclical_coordinate_descent(normalized_feature_matrix, output, initial_weights, l1_penalty, tolerance)\n",
    "print(\"Weights with L1 of 1e7: \\n\", weights1e7)\n",
    "\n",
    "feature_weights1e7 = dict(zip(all_features, weights1e7))\n",
    "for k,v in feature_weights1e7.items():\n",
    "    if v != 0.0:\n",
    "        print(k, v)"
   ]
  },
  {
   "cell_type": "markdown",
   "metadata": {},
   "source": [
    "Next, learn the weights with `l1_penalty=1e8`, on the training data. Initialize weights to all zeros, and set the `tolerance=1`. Call resulting weights `weights1e8`, you will need them later."
   ]
  },
  {
   "cell_type": "code",
   "execution_count": 14,
   "metadata": {},
   "outputs": [
    {
     "name": "stdout",
     "output_type": "stream",
     "text": [
      "Weights with L1 of 1e8: \n",
      " [ 53621004.68971471         0.                 0.                 0.\n",
      "         0.                 0.                 0.                 0.\n",
      "         0.                 0.                 0.                 0.\n",
      "         0.                 0.        ]\n",
      "constant 53621004.6897\n"
     ]
    }
   ],
   "source": [
    "l1_penalty=1e8\n",
    "tolerance = 1.0\n",
    "weights1e8 = lasso_cyclical_coordinate_descent(normalized_feature_matrix, output, initial_weights, l1_penalty, tolerance)\n",
    "print(\"Weights with L1 of 1e8: \\n\", weights1e8)\n",
    "\n",
    "feature_weights1e8 = dict(zip(all_features, weights1e8))\n",
    "for k,v in feature_weights1e8.items():\n",
    "    if v != 0.0:\n",
    "        print(k, v)"
   ]
  },
  {
   "cell_type": "markdown",
   "metadata": {},
   "source": [
    "Finally, learn the weights with `l1_penalty=1e4`, on the training data. Initialize weights to all zeros, and set the `tolerance=5e5`. Call resulting weights `weights1e4`, you will need them later. (This case will take quite a bit longer to converge than the others above.)"
   ]
  },
  {
   "cell_type": "code",
   "execution_count": 15,
   "metadata": {},
   "outputs": [
    {
     "name": "stdout",
     "output_type": "stream",
     "text": [
      "Weights with L1 of 1e4: \n",
      " [ 57481091.13302065 -13652628.5402242   12462713.07126242\n",
      "  57942788.37331226  -1475769.69427563  -4904547.75546551\n",
      "   5349050.18636169   5845253.56213634   -416038.96981262\n",
      "   2682274.59488504    242649.68555067  -1285549.66768123\n",
      " -54779474.22768356   2167703.06610233]\n",
      "constant 57481091.133\n",
      "bedrooms -13652628.5402\n",
      "bathrooms 12462713.0713\n",
      "sqft_living 57942788.3733\n",
      "sqft_lot -1475769.69428\n",
      "floors -4904547.75547\n",
      "waterfront 5349050.18636\n",
      "view 5845253.56214\n",
      "condition -416038.969813\n",
      "grade 2682274.59489\n",
      "sqft_above 242649.685551\n",
      "sqft_basement -1285549.66768\n",
      "yr_built -54779474.2277\n",
      "yr_renovated 2167703.0661\n"
     ]
    }
   ],
   "source": [
    "l1_penalty=1e4\n",
    "tolerance=5e5\n",
    "weights1e4 = lasso_cyclical_coordinate_descent(normalized_feature_matrix, output, initial_weights, l1_penalty, tolerance)\n",
    "print(\"Weights with L1 of 1e4: \\n\", weights1e4)\n",
    "\n",
    "feature_weights1e4 = dict(zip(all_features, weights1e4))\n",
    "for k,v in feature_weights1e4.items():\n",
    "    if v != 0.0:\n",
    "        print(k, v)"
   ]
  },
  {
   "cell_type": "markdown",
   "metadata": {},
   "source": [
    "## Rescaling learned weights"
   ]
  },
  {
   "cell_type": "code",
   "execution_count": 16,
   "metadata": {},
   "outputs": [
    {
     "name": "stdout",
     "output_type": "stream",
     "text": [
      "Noramlized weights (L1=1e7):  [  2.41550915e+05   0.00000000e+00   0.00000000e+00   1.35176516e+02\n",
      "   0.00000000e+00   0.00000000e+00   2.10000302e+05   6.99212807e+04\n",
      "   0.00000000e+00   0.00000000e+00   0.00000000e+00   0.00000000e+00\n",
      "   0.00000000e+00   0.00000000e+00]\n",
      "Noramlized weights (L1=1e8):  [ 542734.9516443       0.              0.              0.              0.\n",
      "       0.              0.              0.              0.              0.\n",
      "       0.              0.              0.              0.       ]\n",
      "Noramlized weights (L1=1e4):  [  5.81805533e+05  -3.93707539e+04   5.59594804e+04   2.56840908e+02\n",
      "  -3.39635078e-01  -3.14486174e+04   5.90703775e+05   7.16306427e+04\n",
      "  -1.21113113e+03   3.50209970e+03   1.24137861e+00  -2.45031095e+01\n",
      "  -2.81306954e+02   5.29418824e+01]\n"
     ]
    }
   ],
   "source": [
    "feature_matrix = training[all_features].as_matrix()\n",
    "output = training['price'].as_matrix()\n",
    "normalized_feature_matrix, norms = normalize_features(feature_matrix)\n",
    "\n",
    "normalized_weights1e7 = weights1e7 / norms\n",
    "normalized_weights1e8 = weights1e8 / norms\n",
    "normalized_weights1e4 = weights1e4 / norms\n",
    "print(\"Noramlized weights (L1=1e7): \", normalized_weights1e7)\n",
    "print(\"Noramlized weights (L1=1e8): \", normalized_weights1e8)\n",
    "print(\"Noramlized weights (L1=1e4): \", normalized_weights1e4)"
   ]
  },
  {
   "cell_type": "markdown",
   "metadata": {},
   "source": [
    "## Evaluating each of the learned models on the test data"
   ]
  },
  {
   "cell_type": "code",
   "execution_count": 17,
   "metadata": {
    "collapsed": true
   },
   "outputs": [],
   "source": [
    "test_feature_matrix = testing[all_features].as_matrix()\n",
    "test_output = testing['price']"
   ]
  },
  {
   "cell_type": "markdown",
   "metadata": {},
   "source": [
    "Compute the RSS of each of the three normalized weights on the (unnormalized) `test_feature_matrix`:"
   ]
  },
  {
   "cell_type": "code",
   "execution_count": 18,
   "metadata": {},
   "outputs": [
    {
     "name": "stdout",
     "output_type": "stream",
     "text": [
      "RSS for model with weights1e7: 1.631e+14\n"
     ]
    }
   ],
   "source": [
    "# RSS (L1 = 1e7)\n",
    "prediction =  predict_output(test_feature_matrix, normalized_weights1e7)\n",
    "residuals = test_output - prediction\n",
    "RSS = (residuals **2).sum()\n",
    "print('RSS for model with weights1e7: %.4g' %RSS)"
   ]
  },
  {
   "cell_type": "code",
   "execution_count": 19,
   "metadata": {},
   "outputs": [
    {
     "name": "stdout",
     "output_type": "stream",
     "text": [
      "RSS for model with weights1e8: 2.847e+14\n"
     ]
    }
   ],
   "source": [
    "# RSS (L1 = 1e8)\n",
    "prediction =  predict_output(test_feature_matrix, normalized_weights1e8)\n",
    "residuals = test_output - prediction\n",
    "RSS = (residuals **2).sum()\n",
    "print('RSS for model with weights1e8: %.4g' %RSS)"
   ]
  },
  {
   "cell_type": "code",
   "execution_count": 20,
   "metadata": {},
   "outputs": [
    {
     "name": "stdout",
     "output_type": "stream",
     "text": [
      "RSS for model with weights1e4: 1.291e+14\n"
     ]
    }
   ],
   "source": [
    "# RSS (L1 = 1e4)\n",
    "prediction =  predict_output(test_feature_matrix, normalized_weights1e4)\n",
    "residuals = test_output - prediction\n",
    "RSS = (residuals **2).sum()\n",
    "print('RSS for model with weights1e4: %.4g' %RSS)"
   ]
  }
 ],
 "metadata": {
  "kernelspec": {
   "display_name": "Python 3",
   "language": "python",
   "name": "python3"
  },
  "language_info": {
   "codemirror_mode": {
    "name": "ipython",
    "version": 3
   },
   "file_extension": ".py",
   "mimetype": "text/x-python",
   "name": "python",
   "nbconvert_exporter": "python",
   "pygments_lexer": "ipython3",
   "version": "3.6.0"
  }
 },
 "nbformat": 4,
 "nbformat_minor": 2
}
