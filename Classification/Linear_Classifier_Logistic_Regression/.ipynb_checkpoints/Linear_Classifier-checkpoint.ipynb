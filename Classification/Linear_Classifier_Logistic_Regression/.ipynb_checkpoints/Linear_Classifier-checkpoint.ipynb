{
 "cells": [
  {
   "cell_type": "markdown",
   "metadata": {},
   "source": [
    "# Linear Classifier"
   ]
  },
  {
   "cell_type": "markdown",
   "metadata": {},
   "source": [
    "## Import modules"
   ]
  },
  {
   "cell_type": "code",
   "execution_count": 1,
   "metadata": {
    "collapsed": true
   },
   "outputs": [],
   "source": [
    "import string\n",
    "import pandas as pd\n",
    "from sklearn.feature_extraction.text import CountVectorizer\n",
    "from sklearn.linear_model import LogisticRegression"
   ]
  },
  {
   "cell_type": "markdown",
   "metadata": {},
   "source": [
    "## Data Cleaning"
   ]
  },
  {
   "cell_type": "code",
   "execution_count": 2,
   "metadata": {
    "collapsed": true
   },
   "outputs": [],
   "source": [
    "# Load Data\n",
    "products = pd.read_csv('amazon_baby.csv')\n",
    "# Fill N/A\n",
    "products = products.fillna({'review':''})  # fill in N/A's in the review column\n",
    "# Reomove Punctuation for Text Cleaning\n",
    "products['review'] = products['review'].astype('str')\n",
    "products['review_clean'] = products['review'].apply(lambda x: ''.join([i for i in x if i not in string.punctuation]))\n",
    "# Add Sentiment Column\n",
    "products['sentiment'] = products['rating'].apply(lambda rating: 1 if rating >= 4 else -1)"
   ]
  },
  {
   "cell_type": "markdown",
   "metadata": {},
   "source": [
    "Since `train-idx.json` and `test-idx.json` contains index only, we will extract train and test data set from `products` by using this indices."
   ]
  },
  {
   "cell_type": "markdown",
   "metadata": {},
   "source": [
    "## Extract Train Data"
   ]
  },
  {
   "cell_type": "code",
   "execution_count": 3,
   "metadata": {
    "collapsed": true
   },
   "outputs": [],
   "source": [
    "# Extract Train Data\n",
    "train_index = pd.read_json('train-idx.json')\n",
    "train_idx_list = train_index[0].values.tolist()\n",
    "train_data = products.ix[train_idx_list]"
   ]
  },
  {
   "cell_type": "markdown",
   "metadata": {},
   "source": [
    "## Extract Test Data"
   ]
  },
  {
   "cell_type": "code",
   "execution_count": 4,
   "metadata": {
    "collapsed": true
   },
   "outputs": [],
   "source": [
    "test_index = pd.read_json('test-idx.json')\n",
    "test_idx_list = test_index[0].values.tolist()\n",
    "test_data = products.ix[test_idx_list]"
   ]
  },
  {
   "cell_type": "code",
   "execution_count": 5,
   "metadata": {
    "collapsed": true
   },
   "outputs": [],
   "source": [
    "# Remove rating of 3 since it is neutral\n",
    "products = products[products['rating'] != 3]\n",
    "train_data = train_data[train_data['rating'] != 3]\n",
    "test_data = test_data[test_data['rating'] != 3]"
   ]
  },
  {
   "cell_type": "markdown",
   "metadata": {},
   "source": [
    "## Build the word count vector for each review "
   ]
  },
  {
   "cell_type": "code",
   "execution_count": 6,
   "metadata": {
    "collapsed": true
   },
   "outputs": [],
   "source": [
    "vectorizer = CountVectorizer(token_pattern=r'\\b\\w+\\b')\n",
    "# Use this token pattern to keep single-letter words\n",
    "# First, learn vocabulary from the training data and assign columns to words\n",
    "# Then convert the training data into a sparse matrix\n",
    "train_matrix = vectorizer.fit_transform(train_data['review_clean'])\n",
    "# Second, convert the test data into a sparse matrix, using the same word-column mapping\n",
    "test_matrix = vectorizer.transform(test_data['review_clean'])"
   ]
  },
  {
   "cell_type": "markdown",
   "metadata": {},
   "source": [
    "## Train a sentiment classifier with logistic regression"
   ]
  },
  {
   "cell_type": "markdown",
   "metadata": {},
   "source": [
    "We will now use logistic regression to create a sentiment classifier on the training data. This model will use the column **word_count** as a feature and the column **sentiment** as the target. We will use validation_set=None to obtain same results as everyone else."
   ]
  },
  {
   "cell_type": "code",
   "execution_count": 7,
   "metadata": {},
   "outputs": [
    {
     "data": {
      "text/plain": [
       "LogisticRegression(C=1.0, class_weight=None, dual=False, fit_intercept=True,\n",
       "          intercept_scaling=1, max_iter=100, multi_class='ovr', n_jobs=1,\n",
       "          penalty='l2', random_state=None, solver='liblinear', tol=0.0001,\n",
       "          verbose=0, warm_start=False)"
      ]
     },
     "execution_count": 7,
     "metadata": {},
     "output_type": "execute_result"
    }
   ],
   "source": [
    "sentiment_model = LogisticRegression()\n",
    "sentiment_model.fit(train_matrix,train_data['sentiment'])"
   ]
  },
  {
   "cell_type": "markdown",
   "metadata": {},
   "source": [
    "Now that we have fitted the model, we can extract the weights. (coefficients)"
   ]
  },
  {
   "cell_type": "code",
   "execution_count": 8,
   "metadata": {},
   "outputs": [],
   "source": [
    "coeffs_list = list(zip(vectorizer.vocabulary_.keys(),sentiment_model.coef_[0]))"
   ]
  },
  {
   "cell_type": "code",
   "execution_count": 9,
   "metadata": {},
   "outputs": [
    {
     "data": {
      "text/plain": [
       "[('blanketjust', 2.0577917728848623),\n",
       " ('snickerdoodle', 2.0290640753254028),\n",
       " ('cute65281', 1.9988168665774535),\n",
       " ('premoistened', 1.9093435278344242),\n",
       " ('zebras', 1.8976852910477762)]"
      ]
     },
     "execution_count": 9,
     "metadata": {},
     "output_type": "execute_result"
    }
   ],
   "source": [
    "sorted(coeffs_list, key=lambda x: x[1], reverse=True)[:5]"
   ]
  },
  {
   "cell_type": "markdown",
   "metadata": {},
   "source": [
    "Number of positive coefficients will be:"
   ]
  },
  {
   "cell_type": "code",
   "execution_count": 10,
   "metadata": {},
   "outputs": [
    {
     "name": "stdout",
     "output_type": "stream",
     "text": [
      "Number of positive coefficients:  79684\n"
     ]
    }
   ],
   "source": [
    "print(\"Number of positive coefficients: \", sum(sentiment_model.coef_[0] >= 0))"
   ]
  },
  {
   "cell_type": "markdown",
   "metadata": {},
   "source": [
    "## Making predictions with logistic regression"
   ]
  },
  {
   "cell_type": "markdown",
   "metadata": {},
   "source": [
    "Now that a model is trained, we can make predictions on the test data. In this section, we will explore this in the context of 3 examples in the test dataset. We refer to this set of 3 examples as the sample_test_data."
   ]
  },
  {
   "cell_type": "code",
   "execution_count": 11,
   "metadata": {},
   "outputs": [
    {
     "data": {
      "text/html": [
       "<div>\n",
       "<table border=\"1\" class=\"dataframe\">\n",
       "  <thead>\n",
       "    <tr style=\"text-align: right;\">\n",
       "      <th></th>\n",
       "      <th>name</th>\n",
       "      <th>review</th>\n",
       "      <th>rating</th>\n",
       "      <th>review_clean</th>\n",
       "      <th>sentiment</th>\n",
       "    </tr>\n",
       "  </thead>\n",
       "  <tbody>\n",
       "    <tr>\n",
       "      <th>64</th>\n",
       "      <td>Our Baby Girl Memory Book</td>\n",
       "      <td>Really happy with this purchase. I was looking...</td>\n",
       "      <td>5</td>\n",
       "      <td>Really happy with this purchase I was looking ...</td>\n",
       "      <td>1</td>\n",
       "    </tr>\n",
       "    <tr>\n",
       "      <th>82</th>\n",
       "      <td>Cloth Diaper Pins Stainless Steel Traditional ...</td>\n",
       "      <td>It has been many years since we needed diaper ...</td>\n",
       "      <td>5</td>\n",
       "      <td>It has been many years since we needed diaper ...</td>\n",
       "      <td>1</td>\n",
       "    </tr>\n",
       "    <tr>\n",
       "      <th>102</th>\n",
       "      <td>Newborn Baby Tracker&amp;reg; - Round the Clock Ch...</td>\n",
       "      <td>Love it love it love it!!  Got my first baby t...</td>\n",
       "      <td>5</td>\n",
       "      <td>Love it love it love it  Got my first baby tra...</td>\n",
       "      <td>1</td>\n",
       "    </tr>\n",
       "  </tbody>\n",
       "</table>\n",
       "</div>"
      ],
      "text/plain": [
       "                                                  name  \\\n",
       "64                           Our Baby Girl Memory Book   \n",
       "82   Cloth Diaper Pins Stainless Steel Traditional ...   \n",
       "102  Newborn Baby Tracker&reg; - Round the Clock Ch...   \n",
       "\n",
       "                                                review  rating  \\\n",
       "64   Really happy with this purchase. I was looking...       5   \n",
       "82   It has been many years since we needed diaper ...       5   \n",
       "102  Love it love it love it!!  Got my first baby t...       5   \n",
       "\n",
       "                                          review_clean  sentiment  \n",
       "64   Really happy with this purchase I was looking ...          1  \n",
       "82   It has been many years since we needed diaper ...          1  \n",
       "102  Love it love it love it  Got my first baby tra...          1  "
      ]
     },
     "execution_count": 11,
     "metadata": {},
     "output_type": "execute_result"
    }
   ],
   "source": [
    "sample_test_data = test_data[10:13]\n",
    "sample_test_data"
   ]
  },
  {
   "cell_type": "markdown",
   "metadata": {},
   "source": [
    "## Predicting sentiment"
   ]
  },
  {
   "cell_type": "markdown",
   "metadata": {},
   "source": [
    "These scores can be used to make class predictions as follows:\n",
    "$$\n",
    "\\hat{y} = \n",
    "\\left\\{\n",
    "\\begin{array}{ll}\n",
    "      +1 & \\mathbf{w}^T h(\\mathbf{x}_i) >; 0 \\\\\n",
    "      -1 & \\mathbf{w}^T h(\\mathbf{x}_i) \\leq 0 \\\\\n",
    "\\end{array} \n",
    "\\right.\n",
    "$$"
   ]
  },
  {
   "cell_type": "code",
   "execution_count": 12,
   "metadata": {},
   "outputs": [
    {
     "name": "stdout",
     "output_type": "stream",
     "text": [
      "Score of sample test data:  [  9.42812899   7.48897389  10.70174709]\n"
     ]
    }
   ],
   "source": [
    "sample_test_matrix = vectorizer.transform(sample_test_data['review_clean'])\n",
    "scores = sentiment_model.decision_function(sample_test_matrix)\n",
    "print(\"Score of sample test data: \", scores)"
   ]
  },
  {
   "cell_type": "code",
   "execution_count": 13,
   "metadata": {},
   "outputs": [
    {
     "name": "stdout",
     "output_type": "stream",
     "text": [
      "Predicted sentiment of sample data:  [1 1 1]\n"
     ]
    }
   ],
   "source": [
    "print(\"Predicted sentiment of sample data: \", sentiment_model.predict(sample_test_matrix))"
   ]
  },
  {
   "cell_type": "markdown",
   "metadata": {},
   "source": [
    "## Probability predictions"
   ]
  },
  {
   "cell_type": "markdown",
   "metadata": {},
   "source": [
    "Recall from the lectures that we can also calculate the probability predictions from the scores using:\n",
    "\n",
    "$$\n",
    "P(y_i = +1 | \\mathbf{x}_i,\\mathbf{w}) = \\frac{1}{1 + \\exp(-\\mathbf{w}^T h(\\mathbf{x}_i))}.\n",
    "$$\n",
    "\n",
    "Using the variable **scores** calculated previously, write code to calculate the probability that a sentiment is positive using the above formula. For each row, the probabilities should be a number in the **range [0, 1]**."
   ]
  },
  {
   "cell_type": "code",
   "execution_count": 14,
   "metadata": {
    "collapsed": true
   },
   "outputs": [],
   "source": [
    "import math\n",
    "\n",
    "def calculate_probability(scores):\n",
    "    \"\"\" Calculate the probability predictions from the scores.\n",
    "    \"\"\"\n",
    "    prob = []\n",
    "    for score in scores:\n",
    "        pred =  1 / (1 + math.exp(-score))\n",
    "        prob.append(pred)\n",
    "    return prob"
   ]
  },
  {
   "cell_type": "code",
   "execution_count": 15,
   "metadata": {},
   "outputs": [
    {
     "name": "stdout",
     "output_type": "stream",
     "text": [
      "Probability Prediction:  [0.9999195769246673, 0.9994410960670393, 0.9999774949221907]\n"
     ]
    }
   ],
   "source": [
    "print(\"Probability Prediction: \", calculate_probability(scores))"
   ]
  },
  {
   "cell_type": "markdown",
   "metadata": {},
   "source": [
    "## Find the most positive (and negative) review"
   ]
  },
  {
   "cell_type": "markdown",
   "metadata": {},
   "source": [
    "We now turn to examining the full test dataset, test_data, and use GraphLab Create to form predictions on all of the test data points for faster performance.\n",
    "\n",
    "Using the sentiment_model, find the 20 reviews in the entire test_data with the highest probability of being classified as a positive review. We refer to these as the \"most positive reviews.\""
   ]
  },
  {
   "cell_type": "code",
   "execution_count": 16,
   "metadata": {},
   "outputs": [],
   "source": [
    "test_scores = sentiment_model.decision_function(test_matrix)\n",
    "test_data['prob'] = calculate_probability(test_scores)"
   ]
  },
  {
   "cell_type": "markdown",
   "metadata": {},
   "source": [
    "Let's explore test_data:"
   ]
  },
  {
   "cell_type": "code",
   "execution_count": 17,
   "metadata": {},
   "outputs": [
    {
     "data": {
      "text/html": [
       "<div>\n",
       "<table border=\"1\" class=\"dataframe\">\n",
       "  <thead>\n",
       "    <tr style=\"text-align: right;\">\n",
       "      <th></th>\n",
       "      <th>name</th>\n",
       "      <th>review</th>\n",
       "      <th>rating</th>\n",
       "      <th>review_clean</th>\n",
       "      <th>sentiment</th>\n",
       "      <th>prob</th>\n",
       "    </tr>\n",
       "  </thead>\n",
       "  <tbody>\n",
       "    <tr>\n",
       "      <th>8</th>\n",
       "      <td>Baby Tracker&amp;reg; - Daily Childcare Journal, S...</td>\n",
       "      <td>A friend of mine pinned this product on Pinter...</td>\n",
       "      <td>5</td>\n",
       "      <td>A friend of mine pinned this product on Pinter...</td>\n",
       "      <td>1</td>\n",
       "      <td>0.973162</td>\n",
       "    </tr>\n",
       "    <tr>\n",
       "      <th>9</th>\n",
       "      <td>Baby Tracker&amp;reg; - Daily Childcare Journal, S...</td>\n",
       "      <td>This has been an easy way for my nanny to reco...</td>\n",
       "      <td>4</td>\n",
       "      <td>This has been an easy way for my nanny to reco...</td>\n",
       "      <td>1</td>\n",
       "      <td>0.897673</td>\n",
       "    </tr>\n",
       "    <tr>\n",
       "      <th>14</th>\n",
       "      <td>Nature's Lullabies First Year Sticker Calendar</td>\n",
       "      <td>Space for monthly photos, info and a lot of us...</td>\n",
       "      <td>5</td>\n",
       "      <td>Space for monthly photos info and a lot of use...</td>\n",
       "      <td>1</td>\n",
       "      <td>0.993811</td>\n",
       "    </tr>\n",
       "    <tr>\n",
       "      <th>18</th>\n",
       "      <td>Nature's Lullabies Second Year Sticker Calendar</td>\n",
       "      <td>I completed a calendar for my son's first year...</td>\n",
       "      <td>4</td>\n",
       "      <td>I completed a calendar for my sons first year ...</td>\n",
       "      <td>1</td>\n",
       "      <td>0.996074</td>\n",
       "    </tr>\n",
       "    <tr>\n",
       "      <th>24</th>\n",
       "      <td>Nature's Lullabies Second Year Sticker Calendar</td>\n",
       "      <td>Wife loves this calender. Comes with a lot of ...</td>\n",
       "      <td>5</td>\n",
       "      <td>Wife loves this calender Comes with a lot of s...</td>\n",
       "      <td>1</td>\n",
       "      <td>0.995809</td>\n",
       "    </tr>\n",
       "  </tbody>\n",
       "</table>\n",
       "</div>"
      ],
      "text/plain": [
       "                                                 name  \\\n",
       "8   Baby Tracker&reg; - Daily Childcare Journal, S...   \n",
       "9   Baby Tracker&reg; - Daily Childcare Journal, S...   \n",
       "14     Nature's Lullabies First Year Sticker Calendar   \n",
       "18    Nature's Lullabies Second Year Sticker Calendar   \n",
       "24    Nature's Lullabies Second Year Sticker Calendar   \n",
       "\n",
       "                                               review  rating  \\\n",
       "8   A friend of mine pinned this product on Pinter...       5   \n",
       "9   This has been an easy way for my nanny to reco...       4   \n",
       "14  Space for monthly photos, info and a lot of us...       5   \n",
       "18  I completed a calendar for my son's first year...       4   \n",
       "24  Wife loves this calender. Comes with a lot of ...       5   \n",
       "\n",
       "                                         review_clean  sentiment      prob  \n",
       "8   A friend of mine pinned this product on Pinter...          1  0.973162  \n",
       "9   This has been an easy way for my nanny to reco...          1  0.897673  \n",
       "14  Space for monthly photos info and a lot of use...          1  0.993811  \n",
       "18  I completed a calendar for my sons first year ...          1  0.996074  \n",
       "24  Wife loves this calender Comes with a lot of s...          1  0.995809  "
      ]
     },
     "execution_count": 17,
     "metadata": {},
     "output_type": "execute_result"
    }
   ],
   "source": [
    "test_data.head(5)"
   ]
  },
  {
   "cell_type": "markdown",
   "metadata": {},
   "source": [
    "20 Most Positive Reviews:"
   ]
  },
  {
   "cell_type": "code",
   "execution_count": 18,
   "metadata": {},
   "outputs": [
    {
     "data": {
      "text/html": [
       "<div>\n",
       "<table border=\"1\" class=\"dataframe\">\n",
       "  <thead>\n",
       "    <tr style=\"text-align: right;\">\n",
       "      <th></th>\n",
       "      <th>name</th>\n",
       "      <th>prob</th>\n",
       "    </tr>\n",
       "  </thead>\n",
       "  <tbody>\n",
       "    <tr>\n",
       "      <th>152013</th>\n",
       "      <td>UPPAbaby Vista Stroller, Denny</td>\n",
       "      <td>1.0</td>\n",
       "    </tr>\n",
       "    <tr>\n",
       "      <th>162354</th>\n",
       "      <td>HALO SleepSack SwaddleChange Diaper Pad Covers...</td>\n",
       "      <td>1.0</td>\n",
       "    </tr>\n",
       "    <tr>\n",
       "      <th>144112</th>\n",
       "      <td>GroVia Hybrid Hook/Loop Shell Diaper, Surf, On...</td>\n",
       "      <td>1.0</td>\n",
       "    </tr>\n",
       "    <tr>\n",
       "      <th>123632</th>\n",
       "      <td>Zooper 2011 Waltz Standard Stroller, Flax Brown</td>\n",
       "      <td>1.0</td>\n",
       "    </tr>\n",
       "    <tr>\n",
       "      <th>133651</th>\n",
       "      <td>Britax 2012 B-Agile Stroller, Red</td>\n",
       "      <td>1.0</td>\n",
       "    </tr>\n",
       "    <tr>\n",
       "      <th>161127</th>\n",
       "      <td>Safety 1st Alpha Omega Elite Convertible 3-in-...</td>\n",
       "      <td>1.0</td>\n",
       "    </tr>\n",
       "    <tr>\n",
       "      <th>21557</th>\n",
       "      <td>Joovy Caboose Stand On Tandem Stroller, Black</td>\n",
       "      <td>1.0</td>\n",
       "    </tr>\n",
       "    <tr>\n",
       "      <th>158209</th>\n",
       "      <td>Ubbi Cloth Diaper Pail Liner</td>\n",
       "      <td>1.0</td>\n",
       "    </tr>\n",
       "    <tr>\n",
       "      <th>50735</th>\n",
       "      <td>Joovy Zoom 360 Swivel Wheel Jogging Stroller, ...</td>\n",
       "      <td>1.0</td>\n",
       "    </tr>\n",
       "    <tr>\n",
       "      <th>100166</th>\n",
       "      <td>Infantino Wrap and Tie Baby Carrier, Black Blu...</td>\n",
       "      <td>1.0</td>\n",
       "    </tr>\n",
       "    <tr>\n",
       "      <th>116072</th>\n",
       "      <td>Joovy Scooter Single Stroller Greenie</td>\n",
       "      <td>1.0</td>\n",
       "    </tr>\n",
       "    <tr>\n",
       "      <th>98989</th>\n",
       "      <td>Jeep Overland Limited Jogging Stroller with Fr...</td>\n",
       "      <td>1.0</td>\n",
       "    </tr>\n",
       "    <tr>\n",
       "      <th>80155</th>\n",
       "      <td>Simple Wishes Hands-Free Breastpump Bra, Pink,...</td>\n",
       "      <td>1.0</td>\n",
       "    </tr>\n",
       "    <tr>\n",
       "      <th>129212</th>\n",
       "      <td>Baby Jogger 2011 City Select Stroller in Ameth...</td>\n",
       "      <td>1.0</td>\n",
       "    </tr>\n",
       "    <tr>\n",
       "      <th>58044</th>\n",
       "      <td>Graco TurboBooster Car Seat  Hearts Delight</td>\n",
       "      <td>1.0</td>\n",
       "    </tr>\n",
       "    <tr>\n",
       "      <th>14008</th>\n",
       "      <td>Stork Craft Beatrice Combo Tower Chest, White</td>\n",
       "      <td>1.0</td>\n",
       "    </tr>\n",
       "    <tr>\n",
       "      <th>125408</th>\n",
       "      <td>UPPAbaby G-Luxe Stroller, Jake/Black</td>\n",
       "      <td>1.0</td>\n",
       "    </tr>\n",
       "    <tr>\n",
       "      <th>138096</th>\n",
       "      <td>Graco Trekko Classic Connect Stroller, Metropolis</td>\n",
       "      <td>1.0</td>\n",
       "    </tr>\n",
       "    <tr>\n",
       "      <th>46975</th>\n",
       "      <td>NaN</td>\n",
       "      <td>1.0</td>\n",
       "    </tr>\n",
       "    <tr>\n",
       "      <th>25524</th>\n",
       "      <td>Zooper Twist Red Lightweight Umbrella Stroller...</td>\n",
       "      <td>1.0</td>\n",
       "    </tr>\n",
       "  </tbody>\n",
       "</table>\n",
       "</div>"
      ],
      "text/plain": [
       "                                                     name  prob\n",
       "152013                     UPPAbaby Vista Stroller, Denny   1.0\n",
       "162354  HALO SleepSack SwaddleChange Diaper Pad Covers...   1.0\n",
       "144112  GroVia Hybrid Hook/Loop Shell Diaper, Surf, On...   1.0\n",
       "123632    Zooper 2011 Waltz Standard Stroller, Flax Brown   1.0\n",
       "133651                  Britax 2012 B-Agile Stroller, Red   1.0\n",
       "161127  Safety 1st Alpha Omega Elite Convertible 3-in-...   1.0\n",
       "21557       Joovy Caboose Stand On Tandem Stroller, Black   1.0\n",
       "158209                       Ubbi Cloth Diaper Pail Liner   1.0\n",
       "50735   Joovy Zoom 360 Swivel Wheel Jogging Stroller, ...   1.0\n",
       "100166  Infantino Wrap and Tie Baby Carrier, Black Blu...   1.0\n",
       "116072              Joovy Scooter Single Stroller Greenie   1.0\n",
       "98989   Jeep Overland Limited Jogging Stroller with Fr...   1.0\n",
       "80155   Simple Wishes Hands-Free Breastpump Bra, Pink,...   1.0\n",
       "129212  Baby Jogger 2011 City Select Stroller in Ameth...   1.0\n",
       "58044         Graco TurboBooster Car Seat  Hearts Delight   1.0\n",
       "14008       Stork Craft Beatrice Combo Tower Chest, White   1.0\n",
       "125408               UPPAbaby G-Luxe Stroller, Jake/Black   1.0\n",
       "138096  Graco Trekko Classic Connect Stroller, Metropolis   1.0\n",
       "46975                                                 NaN   1.0\n",
       "25524   Zooper Twist Red Lightweight Umbrella Stroller...   1.0"
      ]
     },
     "execution_count": 18,
     "metadata": {},
     "output_type": "execute_result"
    }
   ],
   "source": [
    "test_data[['name','prob']].sort_values(by='prob',ascending=False).head(20)"
   ]
  },
  {
   "cell_type": "markdown",
   "metadata": {},
   "source": [
    "20 Most Negative Reviews:"
   ]
  },
  {
   "cell_type": "code",
   "execution_count": 19,
   "metadata": {},
   "outputs": [
    {
     "data": {
      "text/html": [
       "<div>\n",
       "<table border=\"1\" class=\"dataframe\">\n",
       "  <thead>\n",
       "    <tr style=\"text-align: right;\">\n",
       "      <th></th>\n",
       "      <th>name</th>\n",
       "      <th>prob</th>\n",
       "    </tr>\n",
       "  </thead>\n",
       "  <tbody>\n",
       "    <tr>\n",
       "      <th>87026</th>\n",
       "      <td>Baby Einstein Around The World Discovery Center</td>\n",
       "      <td>5.764725e-21</td>\n",
       "    </tr>\n",
       "    <tr>\n",
       "      <th>120707</th>\n",
       "      <td>The European NANNY Baby Movement Monitor - EU ...</td>\n",
       "      <td>2.267863e-18</td>\n",
       "    </tr>\n",
       "    <tr>\n",
       "      <th>2186</th>\n",
       "      <td>Philips Avent 3 Pack 9oz Bottles</td>\n",
       "      <td>2.167276e-17</td>\n",
       "    </tr>\n",
       "    <tr>\n",
       "      <th>10370</th>\n",
       "      <td>Wimmer-Ferguson Infant Stim-Mobile</td>\n",
       "      <td>1.676004e-15</td>\n",
       "    </tr>\n",
       "    <tr>\n",
       "      <th>131738</th>\n",
       "      <td>Kids Line Cascade Bow Diaper Bag, Black</td>\n",
       "      <td>9.148861e-14</td>\n",
       "    </tr>\n",
       "    <tr>\n",
       "      <th>20331</th>\n",
       "      <td>Cabinet Flex-Lock (2 pack) from Safety First</td>\n",
       "      <td>8.540356e-13</td>\n",
       "    </tr>\n",
       "    <tr>\n",
       "      <th>47740</th>\n",
       "      <td>Room Magic Desk/Chair Set, Tropical Seas Natural</td>\n",
       "      <td>1.758822e-12</td>\n",
       "    </tr>\n",
       "    <tr>\n",
       "      <th>143095</th>\n",
       "      <td>Graco ComfortSport Convertible Car Seat, Zara</td>\n",
       "      <td>2.330207e-12</td>\n",
       "    </tr>\n",
       "    <tr>\n",
       "      <th>38197</th>\n",
       "      <td>JJ Cole System Bag - Graphite/Green</td>\n",
       "      <td>7.251241e-12</td>\n",
       "    </tr>\n",
       "    <tr>\n",
       "      <th>131280</th>\n",
       "      <td>Motorola MBP36 Remote Wireless Video Baby Moni...</td>\n",
       "      <td>9.048731e-12</td>\n",
       "    </tr>\n",
       "    <tr>\n",
       "      <th>158046</th>\n",
       "      <td>Motorola Blink1 Wi-Fi Video Camera for Remote ...</td>\n",
       "      <td>1.224371e-11</td>\n",
       "    </tr>\n",
       "    <tr>\n",
       "      <th>12643</th>\n",
       "      <td>900 MHz Home Connection Monitor</td>\n",
       "      <td>1.442225e-11</td>\n",
       "    </tr>\n",
       "    <tr>\n",
       "      <th>145109</th>\n",
       "      <td>Withings Smart Baby Monitor, White</td>\n",
       "      <td>2.419710e-11</td>\n",
       "    </tr>\n",
       "    <tr>\n",
       "      <th>134698</th>\n",
       "      <td>Infant Optics DXR-5 2.4 GHz Digital Video Baby...</td>\n",
       "      <td>4.593664e-11</td>\n",
       "    </tr>\n",
       "    <tr>\n",
       "      <th>10677</th>\n",
       "      <td>Philips AVENT Newborn Starter Set</td>\n",
       "      <td>1.039300e-10</td>\n",
       "    </tr>\n",
       "    <tr>\n",
       "      <th>155931</th>\n",
       "      <td>Britax B-Safe Infant Car Seat, Black</td>\n",
       "      <td>1.174426e-10</td>\n",
       "    </tr>\n",
       "    <tr>\n",
       "      <th>123506</th>\n",
       "      <td>Peg-Perego Vela Easy Drive Stroller, Geranium</td>\n",
       "      <td>4.540173e-10</td>\n",
       "    </tr>\n",
       "    <tr>\n",
       "      <th>78811</th>\n",
       "      <td>Tike Tech Single City X4 Swivel Stroller, Paci...</td>\n",
       "      <td>1.503401e-09</td>\n",
       "    </tr>\n",
       "    <tr>\n",
       "      <th>1116</th>\n",
       "      <td>Safety 1st Deluxe 4-in-1 Bath Station</td>\n",
       "      <td>1.620365e-09</td>\n",
       "    </tr>\n",
       "    <tr>\n",
       "      <th>117887</th>\n",
       "      <td>Belly Blanket Chic: Metro</td>\n",
       "      <td>2.107640e-09</td>\n",
       "    </tr>\n",
       "  </tbody>\n",
       "</table>\n",
       "</div>"
      ],
      "text/plain": [
       "                                                     name          prob\n",
       "87026     Baby Einstein Around The World Discovery Center  5.764725e-21\n",
       "120707  The European NANNY Baby Movement Monitor - EU ...  2.267863e-18\n",
       "2186                     Philips Avent 3 Pack 9oz Bottles  2.167276e-17\n",
       "10370                  Wimmer-Ferguson Infant Stim-Mobile  1.676004e-15\n",
       "131738            Kids Line Cascade Bow Diaper Bag, Black  9.148861e-14\n",
       "20331        Cabinet Flex-Lock (2 pack) from Safety First  8.540356e-13\n",
       "47740    Room Magic Desk/Chair Set, Tropical Seas Natural  1.758822e-12\n",
       "143095      Graco ComfortSport Convertible Car Seat, Zara  2.330207e-12\n",
       "38197                 JJ Cole System Bag - Graphite/Green  7.251241e-12\n",
       "131280  Motorola MBP36 Remote Wireless Video Baby Moni...  9.048731e-12\n",
       "158046  Motorola Blink1 Wi-Fi Video Camera for Remote ...  1.224371e-11\n",
       "12643                     900 MHz Home Connection Monitor  1.442225e-11\n",
       "145109                 Withings Smart Baby Monitor, White  2.419710e-11\n",
       "134698  Infant Optics DXR-5 2.4 GHz Digital Video Baby...  4.593664e-11\n",
       "10677                   Philips AVENT Newborn Starter Set  1.039300e-10\n",
       "155931               Britax B-Safe Infant Car Seat, Black  1.174426e-10\n",
       "123506      Peg-Perego Vela Easy Drive Stroller, Geranium  4.540173e-10\n",
       "78811   Tike Tech Single City X4 Swivel Stroller, Paci...  1.503401e-09\n",
       "1116                Safety 1st Deluxe 4-in-1 Bath Station  1.620365e-09\n",
       "117887                          Belly Blanket Chic: Metro  2.107640e-09"
      ]
     },
     "execution_count": 19,
     "metadata": {},
     "output_type": "execute_result"
    }
   ],
   "source": [
    "test_data[['name','prob']].sort_values(by='prob',ascending=True).head(20)"
   ]
  },
  {
   "cell_type": "markdown",
   "metadata": {},
   "source": [
    "## Compute accuracy of the classifier"
   ]
  },
  {
   "cell_type": "markdown",
   "metadata": {},
   "source": [
    "We will now evaluate the accuracy of the trained classifer. Recall that the accuracy is given by\n",
    "\n",
    "$$\n",
    "\\mbox{accuracy} = \\frac{\\mbox{# correctly classified examples}}{\\mbox{# total examples}}\n",
    "$$"
   ]
  },
  {
   "cell_type": "markdown",
   "metadata": {},
   "source": [
    "Let's compute the classification accuracy of the sentiment_model on the test_data."
   ]
  },
  {
   "cell_type": "code",
   "execution_count": 20,
   "metadata": {},
   "outputs": [
    {
     "name": "stdout",
     "output_type": "stream",
     "text": [
      "ACCURACY:  0.933833245243\n"
     ]
    }
   ],
   "source": [
    "print(\"ACCURACY: \", (test_data['sentiment'] == sentiment_model.predict(test_matrix)).sum()/len(test_data))\n"
   ]
  },
  {
   "cell_type": "markdown",
   "metadata": {},
   "source": [
    "## Learn another classifier with fewer words"
   ]
  },
  {
   "cell_type": "markdown",
   "metadata": {},
   "source": [
    "There were a lot of words in the model we trained above. We will now train a simpler logistic regression model using only a subet of words that occur in the reviews. For this assignment, we selected a 20 words to work with. These are:"
   ]
  },
  {
   "cell_type": "code",
   "execution_count": 21,
   "metadata": {
    "collapsed": true
   },
   "outputs": [],
   "source": [
    "significant_words = ['love', 'great', 'easy', 'old', 'little', 'perfect', 'loves', \n",
    "      'well', 'able', 'car', 'broke', 'less', 'even', 'waste', 'disappointed', \n",
    "      'work', 'product', 'money', 'would', 'return']"
   ]
  },
  {
   "cell_type": "code",
   "execution_count": 22,
   "metadata": {
    "collapsed": true
   },
   "outputs": [],
   "source": [
    "vectorizer_word_subset = CountVectorizer(vocabulary=significant_words) # limit to 20 words\n",
    "train_matrix_word_subset = vectorizer_word_subset.fit_transform(train_data['review_clean'])\n",
    "test_matrix_word_subset = vectorizer_word_subset.transform(test_data['review_clean'])"
   ]
  },
  {
   "cell_type": "markdown",
   "metadata": {},
   "source": [
    "## Train a logistic regression model on a subset of data"
   ]
  },
  {
   "cell_type": "markdown",
   "metadata": {},
   "source": [
    "We will now build a classifier with word_count_subset as the feature and sentiment as the target."
   ]
  },
  {
   "cell_type": "code",
   "execution_count": 23,
   "metadata": {},
   "outputs": [
    {
     "data": {
      "text/plain": [
       "LogisticRegression(C=1.0, class_weight=None, dual=False, fit_intercept=True,\n",
       "          intercept_scaling=1, max_iter=100, multi_class='ovr', n_jobs=1,\n",
       "          penalty='l2', random_state=None, solver='liblinear', tol=0.0001,\n",
       "          verbose=0, warm_start=False)"
      ]
     },
     "execution_count": 23,
     "metadata": {},
     "output_type": "execute_result"
    }
   ],
   "source": [
    "simple_model = LogisticRegression()\n",
    "simple_model.fit(train_matrix_word_subset,train_data['sentiment'])"
   ]
  },
  {
   "cell_type": "markdown",
   "metadata": {},
   "source": [
    "We will inspect the weights (coefficients) of the simple_model:"
   ]
  },
  {
   "cell_type": "code",
   "execution_count": 24,
   "metadata": {},
   "outputs": [
    {
     "data": {
      "text/html": [
       "<div>\n",
       "<table border=\"1\" class=\"dataframe\">\n",
       "  <thead>\n",
       "    <tr style=\"text-align: right;\">\n",
       "      <th></th>\n",
       "      <th>features</th>\n",
       "      <th>estimated coefficients</th>\n",
       "    </tr>\n",
       "  </thead>\n",
       "  <tbody>\n",
       "    <tr>\n",
       "      <th>0</th>\n",
       "      <td>love</td>\n",
       "      <td>1.362031</td>\n",
       "    </tr>\n",
       "    <tr>\n",
       "      <th>1</th>\n",
       "      <td>great</td>\n",
       "      <td>0.925623</td>\n",
       "    </tr>\n",
       "    <tr>\n",
       "      <th>2</th>\n",
       "      <td>easy</td>\n",
       "      <td>1.186222</td>\n",
       "    </tr>\n",
       "    <tr>\n",
       "      <th>3</th>\n",
       "      <td>old</td>\n",
       "      <td>0.124464</td>\n",
       "    </tr>\n",
       "    <tr>\n",
       "      <th>4</th>\n",
       "      <td>little</td>\n",
       "      <td>0.500502</td>\n",
       "    </tr>\n",
       "    <tr>\n",
       "      <th>5</th>\n",
       "      <td>perfect</td>\n",
       "      <td>1.517395</td>\n",
       "    </tr>\n",
       "    <tr>\n",
       "      <th>6</th>\n",
       "      <td>loves</td>\n",
       "      <td>1.743727</td>\n",
       "    </tr>\n",
       "    <tr>\n",
       "      <th>7</th>\n",
       "      <td>well</td>\n",
       "      <td>0.470707</td>\n",
       "    </tr>\n",
       "    <tr>\n",
       "      <th>8</th>\n",
       "      <td>able</td>\n",
       "      <td>0.183111</td>\n",
       "    </tr>\n",
       "    <tr>\n",
       "      <th>9</th>\n",
       "      <td>car</td>\n",
       "      <td>0.091578</td>\n",
       "    </tr>\n",
       "    <tr>\n",
       "      <th>10</th>\n",
       "      <td>broke</td>\n",
       "      <td>-1.663137</td>\n",
       "    </tr>\n",
       "    <tr>\n",
       "      <th>11</th>\n",
       "      <td>less</td>\n",
       "      <td>-0.189510</td>\n",
       "    </tr>\n",
       "    <tr>\n",
       "      <th>12</th>\n",
       "      <td>even</td>\n",
       "      <td>-0.521108</td>\n",
       "    </tr>\n",
       "    <tr>\n",
       "      <th>13</th>\n",
       "      <td>waste</td>\n",
       "      <td>-2.016245</td>\n",
       "    </tr>\n",
       "    <tr>\n",
       "      <th>14</th>\n",
       "      <td>disappointed</td>\n",
       "      <td>-2.355132</td>\n",
       "    </tr>\n",
       "    <tr>\n",
       "      <th>15</th>\n",
       "      <td>work</td>\n",
       "      <td>-0.633536</td>\n",
       "    </tr>\n",
       "    <tr>\n",
       "      <th>16</th>\n",
       "      <td>product</td>\n",
       "      <td>-0.309682</td>\n",
       "    </tr>\n",
       "    <tr>\n",
       "      <th>17</th>\n",
       "      <td>money</td>\n",
       "      <td>-0.884609</td>\n",
       "    </tr>\n",
       "    <tr>\n",
       "      <th>18</th>\n",
       "      <td>would</td>\n",
       "      <td>-0.337238</td>\n",
       "    </tr>\n",
       "    <tr>\n",
       "      <th>19</th>\n",
       "      <td>return</td>\n",
       "      <td>-2.018243</td>\n",
       "    </tr>\n",
       "  </tbody>\n",
       "</table>\n",
       "</div>"
      ],
      "text/plain": [
       "        features  estimated coefficients\n",
       "0           love                1.362031\n",
       "1          great                0.925623\n",
       "2           easy                1.186222\n",
       "3            old                0.124464\n",
       "4         little                0.500502\n",
       "5        perfect                1.517395\n",
       "6          loves                1.743727\n",
       "7           well                0.470707\n",
       "8           able                0.183111\n",
       "9            car                0.091578\n",
       "10         broke               -1.663137\n",
       "11          less               -0.189510\n",
       "12          even               -0.521108\n",
       "13         waste               -2.016245\n",
       "14  disappointed               -2.355132\n",
       "15          work               -0.633536\n",
       "16       product               -0.309682\n",
       "17         money               -0.884609\n",
       "18         would               -0.337238\n",
       "19        return               -2.018243"
      ]
     },
     "execution_count": 24,
     "metadata": {},
     "output_type": "execute_result"
    }
   ],
   "source": [
    "pd.DataFrame(list(zip(significant_words,simple_model.coef_[0])), columns = ['features', 'estimated coefficients'])"
   ]
  },
  {
   "cell_type": "markdown",
   "metadata": {},
   "source": [
    "## Comparing Models"
   ]
  },
  {
   "cell_type": "markdown",
   "metadata": {},
   "source": [
    "We will now compare the accuracy of the sentiment_model and the simple_model using the get_classification_accuracy method you implemented above.\n",
    "\n",
    "First, compute the classification accuracy of the sentiment_model on the `train_data`:"
   ]
  },
  {
   "cell_type": "code",
   "execution_count": 25,
   "metadata": {},
   "outputs": [
    {
     "name": "stdout",
     "output_type": "stream",
     "text": [
      "ACCURACY (Sentiment Model, TRAIN DATA):  0.963994654877\n",
      "ACCURACY (Simple Model, TRAIN DATA):  0.865060380098\n"
     ]
    }
   ],
   "source": [
    "print(\"ACCURACY (Sentiment Model, TRAIN DATA): \", (train_data['sentiment'] == sentiment_model.predict(train_matrix)).sum()/len(train_data))\n",
    "print(\"ACCURACY (Simple Model, TRAIN DATA): \", (train_data['sentiment'] == simple_model.predict(train_matrix_word_subset)).sum()/len(train_data))"
   ]
  },
  {
   "cell_type": "markdown",
   "metadata": {},
   "source": [
    "Now, we will repeat this excercise on the `test_data`. Start by computing the classification accuracy of the sentiment_model on the `test_data`:"
   ]
  },
  {
   "cell_type": "code",
   "execution_count": 26,
   "metadata": {},
   "outputs": [
    {
     "name": "stdout",
     "output_type": "stream",
     "text": [
      "ACCURACY (Sentiment Model, TEST DATA):  0.933833245243\n",
      "ACCURACY (Simple Model, TEST DATA):  0.868888742072\n"
     ]
    }
   ],
   "source": [
    "print(\"ACCURACY (Sentiment Model, TEST DATA): \", (test_data['sentiment'] == sentiment_model.predict(test_matrix)).sum()/len(test_data))\n",
    "print(\"ACCURACY (Simple Model, TEST DATA): \", (test_data['sentiment'] == simple_model.predict(test_matrix_word_subset)).sum()/len(test_data))"
   ]
  },
  {
   "cell_type": "markdown",
   "metadata": {},
   "source": [
    "## Baseline: Majority class prediction"
   ]
  },
  {
   "cell_type": "markdown",
   "metadata": {},
   "source": [
    "It is quite common to use the majority class classifier as the a baseline (or reference) model for comparison with your classifier model. The majority classifier model predicts the majority class for all data points. At the very least, you should healthily beat the majority class classifier, otherwise, the model is (usually) pointless."
   ]
  },
  {
   "cell_type": "code",
   "execution_count": 27,
   "metadata": {},
   "outputs": [
    {
     "name": "stdout",
     "output_type": "stream",
     "text": [
      "# Positive:  101674\n",
      "# Negative:  19558\n"
     ]
    }
   ],
   "source": [
    "num_positive  = (train_data['sentiment'] == +1).sum()\n",
    "num_negative = (train_data['sentiment'] == -1).sum()\n",
    "print(\"# Positive: \", num_positive)\n",
    "print(\"# Negative: \", num_negative)"
   ]
  },
  {
   "cell_type": "markdown",
   "metadata": {},
   "source": [
    "Accuracy of this majority class model will be:"
   ]
  },
  {
   "cell_type": "code",
   "execution_count": 28,
   "metadata": {},
   "outputs": [
    {
     "name": "stdout",
     "output_type": "stream",
     "text": [
      "ACCURACY (Majority Class Model, TEST DATA):  0.841635835095\n"
     ]
    }
   ],
   "source": [
    "print(\"ACCURACY (Majority Class Model, TEST DATA): \", (test_data['sentiment']==1).sum()/len(test_data))"
   ]
  }
 ],
 "metadata": {
  "kernelspec": {
   "display_name": "Python 3",
   "language": "python",
   "name": "python3"
  },
  "language_info": {
   "codemirror_mode": {
    "name": "ipython",
    "version": 3
   },
   "file_extension": ".py",
   "mimetype": "text/x-python",
   "name": "python",
   "nbconvert_exporter": "python",
   "pygments_lexer": "ipython3",
   "version": "3.6.0"
  }
 },
 "nbformat": 4,
 "nbformat_minor": 2
}
