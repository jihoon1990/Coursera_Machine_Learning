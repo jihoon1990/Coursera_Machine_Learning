{
 "cells": [
  {
   "cell_type": "markdown",
   "metadata": {},
   "source": [
    "# Exploring Ensemble Methods"
   ]
  },
  {
   "cell_type": "markdown",
   "metadata": {},
   "source": [
    "## Import module"
   ]
  },
  {
   "cell_type": "code",
   "execution_count": 1,
   "metadata": {
    "collapsed": true
   },
   "outputs": [],
   "source": [
    "# Import module\n",
    "import pandas as pd\n",
    "import matplotlib.pyplot as plt\n",
    "from sklearn.ensemble import GradientBoostingClassifier"
   ]
  },
  {
   "cell_type": "markdown",
   "metadata": {},
   "source": [
    "## Load data"
   ]
  },
  {
   "cell_type": "code",
   "execution_count": 10,
   "metadata": {},
   "outputs": [
    {
     "name": "stderr",
     "output_type": "stream",
     "text": [
      "C:\\ProgramData\\Anaconda3\\lib\\site-packages\\IPython\\core\\interactiveshell.py:2717: DtypeWarning: Columns (19,47) have mixed types. Specify dtype option on import or set low_memory=False.\n",
      "  interactivity=interactivity, compiler=compiler, result=result)\n"
     ]
    }
   ],
   "source": [
    "# Load data\n",
    "loans = pd.read_csv(\"lending-club-data.csv\")"
   ]
  },
  {
   "cell_type": "markdown",
   "metadata": {},
   "source": [
    "## Explore some features"
   ]
  },
  {
   "cell_type": "markdown",
   "metadata": {},
   "source": [
    "Let's quickly explore what the dataset looks like."
   ]
  },
  {
   "cell_type": "code",
   "execution_count": 11,
   "metadata": {},
   "outputs": [
    {
     "data": {
      "text/plain": [
       "Index(['id', 'member_id', 'loan_amnt', 'funded_amnt', 'funded_amnt_inv',\n",
       "       'term', 'int_rate', 'installment', 'grade', 'sub_grade', 'emp_title',\n",
       "       'emp_length', 'home_ownership', 'annual_inc', 'is_inc_v', 'issue_d',\n",
       "       'loan_status', 'pymnt_plan', 'url', 'desc', 'purpose', 'title',\n",
       "       'zip_code', 'addr_state', 'dti', 'delinq_2yrs', 'earliest_cr_line',\n",
       "       'inq_last_6mths', 'mths_since_last_delinq', 'mths_since_last_record',\n",
       "       'open_acc', 'pub_rec', 'revol_bal', 'revol_util', 'total_acc',\n",
       "       'initial_list_status', 'out_prncp', 'out_prncp_inv', 'total_pymnt',\n",
       "       'total_pymnt_inv', 'total_rec_prncp', 'total_rec_int',\n",
       "       'total_rec_late_fee', 'recoveries', 'collection_recovery_fee',\n",
       "       'last_pymnt_d', 'last_pymnt_amnt', 'next_pymnt_d', 'last_credit_pull_d',\n",
       "       'collections_12_mths_ex_med', 'mths_since_last_major_derog',\n",
       "       'policy_code', 'not_compliant', 'status', 'inactive_loans', 'bad_loans',\n",
       "       'emp_length_num', 'grade_num', 'sub_grade_num', 'delinq_2yrs_zero',\n",
       "       'pub_rec_zero', 'collections_12_mths_zero', 'short_emp',\n",
       "       'payment_inc_ratio', 'final_d', 'last_delinq_none', 'last_record_none',\n",
       "       'last_major_derog_none'],\n",
       "      dtype='object')"
      ]
     },
     "execution_count": 11,
     "metadata": {},
     "output_type": "execute_result"
    }
   ],
   "source": [
    "loans.columns"
   ]
  },
  {
   "cell_type": "markdown",
   "metadata": {},
   "source": [
    "## Modifying the target column"
   ]
  },
  {
   "cell_type": "markdown",
   "metadata": {},
   "source": [
    "The target column (label column) of the dataset that we are interested in is called bad_loans. In this column 1 means a risky (bad) loan 0 means a safe loan.\n",
    "\n",
    "As in past assignments, in order to make this more intuitive and consistent with the lectures, we reassign the target to be:\n",
    "\n",
    "* +1 as a safe loan,\n",
    "* -1 as a risky (bad) loan.\n",
    "\n",
    "We put this in a new column called `safe_loans`."
   ]
  },
  {
   "cell_type": "code",
   "execution_count": 12,
   "metadata": {},
   "outputs": [],
   "source": [
    "# safe_loans =  1 => safe\n",
    "# safe_loans = -1 => risky\n",
    "loans['safe_loans'] = loans['bad_loans'].apply(lambda x: 1 if x==0 else -1)\n",
    "loans = loans.drop('bad_loans',1)"
   ]
  },
  {
   "cell_type": "code",
   "execution_count": 13,
   "metadata": {},
   "outputs": [
    {
     "name": "stdout",
     "output_type": "stream",
     "text": [
      "Number of safe loans:  99457\n",
      "Number of bad loans:  23150\n",
      "Total number of loans:  122607\n"
     ]
    }
   ],
   "source": [
    "# Let's explore the distribution of safeloans\n",
    "print(\"Number of safe loans: \", sum(loans['safe_loans']==1))\n",
    "print(\"Number of bad loans: \", sum(loans['safe_loans']==-1))\n",
    "print(\"Total number of loans: \", len(loans))"
   ]
  },
  {
   "cell_type": "markdown",
   "metadata": {},
   "source": [
    "## Selecting features"
   ]
  },
  {
   "cell_type": "markdown",
   "metadata": {},
   "source": [
    "The features we will be using are described in the code comments below:"
   ]
  },
  {
   "cell_type": "code",
   "execution_count": 14,
   "metadata": {
    "collapsed": true
   },
   "outputs": [],
   "source": [
    "# Selecting Features\n",
    "target = 'safe_loans'\n",
    "features = ['grade',                     # grade of the loan (categorical)\n",
    "            'sub_grade_num',             # sub-grade of the loan as a number from 0 to 1\n",
    "            'short_emp',                 # one year or less of employment\n",
    "            'emp_length_num',            # number of years of employment\n",
    "            'home_ownership',            # home_ownership status: own, mortgage or rent\n",
    "            'dti',                       # debt to income ratio\n",
    "            'purpose',                   # the purpose of the loan\n",
    "            'payment_inc_ratio',         # ratio of the monthly payment to income\n",
    "            'delinq_2yrs',               # number of delinquincies\n",
    "             'delinq_2yrs_zero',          # no delinquincies in last 2 years\n",
    "            'inq_last_6mths',            # number of creditor inquiries in last 6 months\n",
    "            'last_delinq_none',          # has borrower had a delinquincy\n",
    "            'last_major_derog_none',     # has borrower had 90 day or worse rating\n",
    "            'open_acc',                  # number of open credit accounts\n",
    "            'pub_rec',                   # number of derogatory public records\n",
    "            'pub_rec_zero',              # no derogatory public records\n",
    "            'revol_util',                # percent of available credit being used\n",
    "            'total_rec_late_fee',        # total late fees received to day\n",
    "            'int_rate',                  # interest rate of the loan\n",
    "            'total_rec_int',             # interest received to date\n",
    "            'annual_inc',                # annual income of borrower\n",
    "            'funded_amnt',               # amount committed to the loan\n",
    "            'funded_amnt_inv',           # amount committed by investors for the loan\n",
    "            'installment',               # monthly payment owed by the borrower\n",
    "           ]"
   ]
  },
  {
   "cell_type": "markdown",
   "metadata": {},
   "source": [
    "## Skipping observations with missing values"
   ]
  },
  {
   "cell_type": "markdown",
   "metadata": {},
   "source": [
    "Recall from the lectures that one common approach to coping with missing values is to skip observations that contain missing values.\n",
    "\n",
    "We run the following code to do so:"
   ]
  },
  {
   "cell_type": "code",
   "execution_count": 16,
   "metadata": {
    "collapsed": true
   },
   "outputs": [],
   "source": [
    "# Skipping observations with missing values\n",
    "loans = loans[[target] + features].dropna()"
   ]
  },
  {
   "cell_type": "markdown",
   "metadata": {},
   "source": [
    "## Load train-validation data"
   ]
  },
  {
   "cell_type": "code",
   "execution_count": 17,
   "metadata": {
    "collapsed": true
   },
   "outputs": [],
   "source": [
    "train_idx = pd.read_json(\"train-idx.json\")\n",
    "validation_idx = pd.read_json(\"validation-idx.json\")\n",
    "train_data = loans.iloc[train_idx[0].values]\n",
    "validation_data = loans.iloc[validation_idx[0].values]"
   ]
  },
  {
   "cell_type": "markdown",
   "metadata": {},
   "source": [
    "## One-hot encoding"
   ]
  },
  {
   "cell_type": "code",
   "execution_count": 18,
   "metadata": {},
   "outputs": [
    {
     "name": "stdout",
     "output_type": "stream",
     "text": [
      "Data types: \n",
      " safe_loans                 int64\n",
      "grade                     object\n",
      "sub_grade_num            float64\n",
      "short_emp                  int64\n",
      "emp_length_num             int64\n",
      "home_ownership            object\n",
      "dti                      float64\n",
      "purpose                   object\n",
      "payment_inc_ratio        float64\n",
      "delinq_2yrs              float64\n",
      "delinq_2yrs_zero         float64\n",
      "inq_last_6mths           float64\n",
      "last_delinq_none           int64\n",
      "last_major_derog_none      int64\n",
      "open_acc                 float64\n",
      "pub_rec                  float64\n",
      "pub_rec_zero             float64\n",
      "revol_util               float64\n",
      "total_rec_late_fee       float64\n",
      "int_rate                 float64\n",
      "total_rec_int            float64\n",
      "annual_inc               float64\n",
      "funded_amnt                int64\n",
      "funded_amnt_inv            int64\n",
      "installment              float64\n",
      "dtype: object\n"
     ]
    }
   ],
   "source": [
    "# one-hot encoding\n",
    "print(\"Data types: \\n\", train_data.dtypes)\n",
    "categorical_variables = ['grade','home_ownership','purpose']\n",
    "train_one_hot_encoded = pd.get_dummies(train_data,columns=categorical_variables)\n",
    "train_target = train_one_hot_encoded['safe_loans']\n",
    "train_features = train_one_hot_encoded.drop('safe_loans',axis = 1)"
   ]
  },
  {
   "cell_type": "markdown",
   "metadata": {},
   "source": [
    "## Gradient boosted tree classifier"
   ]
  },
  {
   "cell_type": "markdown",
   "metadata": {},
   "source": [
    "Gradient boosted trees are a powerful variant of boosting methods; they have been used to win many Kaggle competitions, and have been widely used in industry. We will explore the predictive power of multiple decision trees as opposed to a single decision tree.\n",
    "\n",
    "We will now train models to predict safe_loans using the features above."
   ]
  },
  {
   "cell_type": "code",
   "execution_count": 19,
   "metadata": {
    "collapsed": true
   },
   "outputs": [],
   "source": [
    "ensemble_classifier = GradientBoostingClassifier(max_depth=6, n_estimators=5).fit(train_features,train_target)"
   ]
  },
  {
   "cell_type": "markdown",
   "metadata": {},
   "source": [
    "## Making predictions"
   ]
  },
  {
   "cell_type": "markdown",
   "metadata": {},
   "source": [
    "Just like we did in previous sections, let us consider a few positive and negative examples from the validation set. We will do the following:\n",
    "\n",
    "* Predict whether or not a loan is likely to default.\n",
    "* Predict the probability with which the loan is likely to default."
   ]
  },
  {
   "cell_type": "code",
   "execution_count": 20,
   "metadata": {
    "collapsed": true
   },
   "outputs": [],
   "source": [
    "# Making predictions\n",
    "validation_safe_loans = validation_data[validation_data[target] == 1]\n",
    "validation_risky_loans = validation_data[validation_data[target] == -1]\n",
    "sample_validation_data_risky = validation_risky_loans[0:2]\n",
    "sample_validation_data_safe = validation_safe_loans[0:2]\n",
    "sample_validation_data = sample_validation_data_safe.append(sample_validation_data_risky)\n",
    "# one-hot encoding for validation data\n",
    "validation_one_encoded = pd.get_dummies(validation_data,columns=categorical_variables)\n",
    "validation_features = validation_one_encoded.drop('safe_loans',axis=1)"
   ]
  },
  {
   "cell_type": "code",
   "execution_count": 21,
   "metadata": {},
   "outputs": [
    {
     "data": {
      "text/html": [
       "<div>\n",
       "<table border=\"1\" class=\"dataframe\">\n",
       "  <thead>\n",
       "    <tr style=\"text-align: right;\">\n",
       "      <th></th>\n",
       "      <th>safe_loans</th>\n",
       "      <th>grade</th>\n",
       "      <th>sub_grade_num</th>\n",
       "      <th>short_emp</th>\n",
       "      <th>emp_length_num</th>\n",
       "      <th>home_ownership</th>\n",
       "      <th>dti</th>\n",
       "      <th>purpose</th>\n",
       "      <th>payment_inc_ratio</th>\n",
       "      <th>delinq_2yrs</th>\n",
       "      <th>...</th>\n",
       "      <th>pub_rec</th>\n",
       "      <th>pub_rec_zero</th>\n",
       "      <th>revol_util</th>\n",
       "      <th>total_rec_late_fee</th>\n",
       "      <th>int_rate</th>\n",
       "      <th>total_rec_int</th>\n",
       "      <th>annual_inc</th>\n",
       "      <th>funded_amnt</th>\n",
       "      <th>funded_amnt_inv</th>\n",
       "      <th>installment</th>\n",
       "    </tr>\n",
       "  </thead>\n",
       "  <tbody>\n",
       "    <tr>\n",
       "      <th>22</th>\n",
       "      <td>1</td>\n",
       "      <td>B</td>\n",
       "      <td>0.2</td>\n",
       "      <td>0</td>\n",
       "      <td>3</td>\n",
       "      <td>MORTGAGE</td>\n",
       "      <td>29.44</td>\n",
       "      <td>credit_card</td>\n",
       "      <td>6.30496</td>\n",
       "      <td>0.0</td>\n",
       "      <td>...</td>\n",
       "      <td>0.0</td>\n",
       "      <td>1.0</td>\n",
       "      <td>93.9</td>\n",
       "      <td>0.0</td>\n",
       "      <td>9.91</td>\n",
       "      <td>823.48</td>\n",
       "      <td>92000.0</td>\n",
       "      <td>15000</td>\n",
       "      <td>15000</td>\n",
       "      <td>483.38</td>\n",
       "    </tr>\n",
       "    <tr>\n",
       "      <th>26</th>\n",
       "      <td>1</td>\n",
       "      <td>B</td>\n",
       "      <td>0.6</td>\n",
       "      <td>1</td>\n",
       "      <td>1</td>\n",
       "      <td>RENT</td>\n",
       "      <td>12.19</td>\n",
       "      <td>credit_card</td>\n",
       "      <td>13.49520</td>\n",
       "      <td>0.0</td>\n",
       "      <td>...</td>\n",
       "      <td>0.0</td>\n",
       "      <td>1.0</td>\n",
       "      <td>59.1</td>\n",
       "      <td>0.0</td>\n",
       "      <td>11.71</td>\n",
       "      <td>1622.21</td>\n",
       "      <td>25000.0</td>\n",
       "      <td>8500</td>\n",
       "      <td>8500</td>\n",
       "      <td>281.15</td>\n",
       "    </tr>\n",
       "    <tr>\n",
       "      <th>24</th>\n",
       "      <td>-1</td>\n",
       "      <td>D</td>\n",
       "      <td>0.4</td>\n",
       "      <td>0</td>\n",
       "      <td>3</td>\n",
       "      <td>RENT</td>\n",
       "      <td>13.97</td>\n",
       "      <td>other</td>\n",
       "      <td>2.96736</td>\n",
       "      <td>3.0</td>\n",
       "      <td>...</td>\n",
       "      <td>0.0</td>\n",
       "      <td>1.0</td>\n",
       "      <td>59.5</td>\n",
       "      <td>0.0</td>\n",
       "      <td>16.77</td>\n",
       "      <td>719.11</td>\n",
       "      <td>50004.0</td>\n",
       "      <td>5000</td>\n",
       "      <td>5000</td>\n",
       "      <td>123.65</td>\n",
       "    </tr>\n",
       "    <tr>\n",
       "      <th>41</th>\n",
       "      <td>-1</td>\n",
       "      <td>A</td>\n",
       "      <td>1.0</td>\n",
       "      <td>0</td>\n",
       "      <td>11</td>\n",
       "      <td>MORTGAGE</td>\n",
       "      <td>16.33</td>\n",
       "      <td>debt_consolidation</td>\n",
       "      <td>1.90524</td>\n",
       "      <td>0.0</td>\n",
       "      <td>...</td>\n",
       "      <td>0.0</td>\n",
       "      <td>1.0</td>\n",
       "      <td>62.1</td>\n",
       "      <td>0.0</td>\n",
       "      <td>8.90</td>\n",
       "      <td>696.99</td>\n",
       "      <td>100000.0</td>\n",
       "      <td>5000</td>\n",
       "      <td>5000</td>\n",
       "      <td>158.77</td>\n",
       "    </tr>\n",
       "  </tbody>\n",
       "</table>\n",
       "<p>4 rows × 25 columns</p>\n",
       "</div>"
      ],
      "text/plain": [
       "    safe_loans grade  sub_grade_num  short_emp  emp_length_num home_ownership  \\\n",
       "22           1     B            0.2          0               3       MORTGAGE   \n",
       "26           1     B            0.6          1               1           RENT   \n",
       "24          -1     D            0.4          0               3           RENT   \n",
       "41          -1     A            1.0          0              11       MORTGAGE   \n",
       "\n",
       "      dti             purpose  payment_inc_ratio  delinq_2yrs     ...       \\\n",
       "22  29.44         credit_card            6.30496          0.0     ...        \n",
       "26  12.19         credit_card           13.49520          0.0     ...        \n",
       "24  13.97               other            2.96736          3.0     ...        \n",
       "41  16.33  debt_consolidation            1.90524          0.0     ...        \n",
       "\n",
       "    pub_rec  pub_rec_zero  revol_util  total_rec_late_fee  int_rate  \\\n",
       "22      0.0           1.0        93.9                 0.0      9.91   \n",
       "26      0.0           1.0        59.1                 0.0     11.71   \n",
       "24      0.0           1.0        59.5                 0.0     16.77   \n",
       "41      0.0           1.0        62.1                 0.0      8.90   \n",
       "\n",
       "    total_rec_int  annual_inc  funded_amnt  funded_amnt_inv  installment  \n",
       "22         823.48     92000.0        15000            15000       483.38  \n",
       "26        1622.21     25000.0         8500             8500       281.15  \n",
       "24         719.11     50004.0         5000             5000       123.65  \n",
       "41         696.99    100000.0         5000             5000       158.77  \n",
       "\n",
       "[4 rows x 25 columns]"
      ]
     },
     "execution_count": 21,
     "metadata": {},
     "output_type": "execute_result"
    }
   ],
   "source": [
    "sample_validation_data"
   ]
  },
  {
   "cell_type": "markdown",
   "metadata": {},
   "source": [
    "### Predicting on sample validation data & probabilities"
   ]
  },
  {
   "cell_type": "markdown",
   "metadata": {},
   "source": [
    "For each row in the **sample_validation_data**, write code to predict whether or not the loan is classified as a safe loan."
   ]
  },
  {
   "cell_type": "code",
   "execution_count": 24,
   "metadata": {},
   "outputs": [
    {
     "name": "stdout",
     "output_type": "stream",
     "text": [
      "Prediction with ensemble method (max_depth = 6, estimators: 5):, \n",
      " [ 1  1 -1  1]\n"
     ]
    }
   ],
   "source": [
    "sample_validation_features = validation_features.loc[sample_validation_data.index]\n",
    "print(\"Prediction with ensemble method (max_depth = 6, estimators: 5):, \\n\", ensemble_classifier.predict(sample_validation_features))"
   ]
  },
  {
   "cell_type": "code",
   "execution_count": 26,
   "metadata": {},
   "outputs": [
    {
     "name": "stdout",
     "output_type": "stream",
     "text": [
      "Prediction with ensemble method (max_depth = 6, estimators: 5) (Prob): \n",
      "\n"
     ]
    },
    {
     "data": {
      "text/html": [
       "<div>\n",
       "<table border=\"1\" class=\"dataframe\">\n",
       "  <thead>\n",
       "    <tr style=\"text-align: right;\">\n",
       "      <th></th>\n",
       "      <th>RISKY</th>\n",
       "      <th>SAFE</th>\n",
       "    </tr>\n",
       "  </thead>\n",
       "  <tbody>\n",
       "    <tr>\n",
       "      <th>0</th>\n",
       "      <td>0.416423</td>\n",
       "      <td>0.583577</td>\n",
       "    </tr>\n",
       "    <tr>\n",
       "      <th>1</th>\n",
       "      <td>0.469497</td>\n",
       "      <td>0.530503</td>\n",
       "    </tr>\n",
       "    <tr>\n",
       "      <th>2</th>\n",
       "      <td>0.538078</td>\n",
       "      <td>0.461922</td>\n",
       "    </tr>\n",
       "    <tr>\n",
       "      <th>3</th>\n",
       "      <td>0.395916</td>\n",
       "      <td>0.604084</td>\n",
       "    </tr>\n",
       "  </tbody>\n",
       "</table>\n",
       "</div>"
      ],
      "text/plain": [
       "      RISKY      SAFE\n",
       "0  0.416423  0.583577\n",
       "1  0.469497  0.530503\n",
       "2  0.538078  0.461922\n",
       "3  0.395916  0.604084"
      ]
     },
     "execution_count": 26,
     "metadata": {},
     "output_type": "execute_result"
    }
   ],
   "source": [
    "ensemble_prob = pd.DataFrame(ensemble_classifier.predict_proba(sample_validation_features))\n",
    "ensemble_prob = ensemble_prob.rename(columns={0:'RISKY',1:'SAFE'})\n",
    "print(\"Prediction with ensemble method (max_depth = 6, estimators: 5) (Prob): \\n\")\n",
    "ensemble_prob"
   ]
  },
  {
   "cell_type": "markdown",
   "metadata": {},
   "source": [
    "## Evaluating the model on the validation data"
   ]
  },
  {
   "cell_type": "markdown",
   "metadata": {},
   "source": [
    "Recall that the accuracy is defined as follows: \n",
    "\n",
    "$$\n",
    "\\mbox{accuracy} = \\frac{\\mbox{# correctly classified examples}}{\\mbox{# total examples}}\n",
    "$$"
   ]
  },
  {
   "cell_type": "code",
   "execution_count": 27,
   "metadata": {},
   "outputs": [
    {
     "name": "stdout",
     "output_type": "stream",
     "text": [
      "Accuracy (Validation Data): 0.6612\n"
     ]
    }
   ],
   "source": [
    "# Accuracy\n",
    "print(\"Accuracy (Validation Data): %.4g\" %ensemble_classifier.score(validation_features,validation_data['safe_loans']))"
   ]
  },
  {
   "cell_type": "code",
   "execution_count": 28,
   "metadata": {},
   "outputs": [
    {
     "name": "stdout",
     "output_type": "stream",
     "text": [
      "Number of Samples:  9284\n",
      "FALSE Positive:  1654\n",
      "FALSE Negative:  1491\n"
     ]
    }
   ],
   "source": [
    "# Quantifying the cost of mistakes\n",
    "predictions = ensemble_classifier.predict(validation_features)\n",
    "print(\"Number of Samples: \", len(predictions))\n",
    "false_positives = (validation_data[validation_data['safe_loans'] != predictions]['safe_loans'] == -1).sum()\n",
    "false_negatives = (validation_data[validation_data['safe_loans'] != predictions]['safe_loans'] == +1).sum()\n",
    "print(\"FALSE Positive: \", false_positives)\n",
    "print(\"FALSE Negative: \", false_negatives)"
   ]
  },
  {
   "cell_type": "markdown",
   "metadata": {},
   "source": [
    "## Comparison with decision trees\n",
    "\n",
    "In the earlier assignment, we saw that the prediction accuracy of the decision trees was around 0.64 (rounded). In this assignment, we saw that model_5 has an accuracy of 0.67 (rounded).\n",
    "\n",
    "Here, we quantify the benefit of the extra 3% increase in accuracy of model_5 in comparison with a single decision tree from the original decision tree assignment.\n",
    "\n",
    "As we explored in the earlier assignment, we calculated the cost of the mistakes made by the model. We again consider the same costs as follows:\n",
    "\n",
    "* **False negatives**: Assume a cost of \\$10,000 per false negative.\n",
    "* **False positives**: Assume a cost of \\$20,000 per false positive.\n",
    "\n",
    "Using the costs defined above and the number of false positives and false negatives for the decision tree, we can calculate the total cost of the mistakes made by the decision tree model."
   ]
  },
  {
   "cell_type": "code",
   "execution_count": 29,
   "metadata": {},
   "outputs": [
    {
     "name": "stdout",
     "output_type": "stream",
     "text": [
      "Cost of Mistakes:  47990000\n"
     ]
    }
   ],
   "source": [
    "# Assume a cost of \\$10,000 per false negative.\n",
    "# Assume a cost of \\$20,000 per false positive.\n",
    "cost_of_mistakes = (false_negatives * 10000) + (false_positives * 20000)\n",
    "print(\"Cost of Mistakes: \", cost_of_mistakes)"
   ]
  },
  {
   "cell_type": "markdown",
   "metadata": {},
   "source": [
    "## Most positive & negative loans"
   ]
  },
  {
   "cell_type": "code",
   "execution_count": 31,
   "metadata": {},
   "outputs": [],
   "source": [
    "# Most positive & negative loans.\n",
    "prob = pd.DataFrame(ensemble_classifier.predict_proba(validation_features)[:,1],index=validation_features.index, columns=['predictions'])\n",
    "validation_data = validation_data.assign(predictions = prob)"
   ]
  },
  {
   "cell_type": "code",
   "execution_count": 32,
   "metadata": {},
   "outputs": [
    {
     "name": "stdout",
     "output_type": "stream",
     "text": [
      "Most Positive Predictions: \n",
      "\n"
     ]
    },
    {
     "data": {
      "text/html": [
       "<div>\n",
       "<table border=\"1\" class=\"dataframe\">\n",
       "  <thead>\n",
       "    <tr style=\"text-align: right;\">\n",
       "      <th></th>\n",
       "      <th>grade</th>\n",
       "      <th>predictions</th>\n",
       "    </tr>\n",
       "  </thead>\n",
       "  <tbody>\n",
       "    <tr>\n",
       "      <th>8021</th>\n",
       "      <td>A</td>\n",
       "      <td>0.673059</td>\n",
       "    </tr>\n",
       "    <tr>\n",
       "      <th>15170</th>\n",
       "      <td>A</td>\n",
       "      <td>0.661468</td>\n",
       "    </tr>\n",
       "    <tr>\n",
       "      <th>15072</th>\n",
       "      <td>A</td>\n",
       "      <td>0.661468</td>\n",
       "    </tr>\n",
       "    <tr>\n",
       "      <th>90263</th>\n",
       "      <td>A</td>\n",
       "      <td>0.661468</td>\n",
       "    </tr>\n",
       "    <tr>\n",
       "      <th>7650</th>\n",
       "      <td>A</td>\n",
       "      <td>0.661468</td>\n",
       "    </tr>\n",
       "  </tbody>\n",
       "</table>\n",
       "</div>"
      ],
      "text/plain": [
       "      grade  predictions\n",
       "8021      A     0.673059\n",
       "15170     A     0.661468\n",
       "15072     A     0.661468\n",
       "90263     A     0.661468\n",
       "7650      A     0.661468"
      ]
     },
     "execution_count": 32,
     "metadata": {},
     "output_type": "execute_result"
    }
   ],
   "source": [
    "print(\"Most Positive Predictions: \\n\")\n",
    "validation_data[['grade','predictions']].sort_values(by='predictions',ascending = False).head(5)"
   ]
  },
  {
   "cell_type": "code",
   "execution_count": 34,
   "metadata": {},
   "outputs": [
    {
     "name": "stdout",
     "output_type": "stream",
     "text": [
      "Most Negative Predictions: \n",
      "\n"
     ]
    },
    {
     "data": {
      "text/html": [
       "<div>\n",
       "<table border=\"1\" class=\"dataframe\">\n",
       "  <thead>\n",
       "    <tr style=\"text-align: right;\">\n",
       "      <th></th>\n",
       "      <th>grade</th>\n",
       "      <th>predictions</th>\n",
       "    </tr>\n",
       "  </thead>\n",
       "  <tbody>\n",
       "    <tr>\n",
       "      <th>84508</th>\n",
       "      <td>C</td>\n",
       "      <td>0.307334</td>\n",
       "    </tr>\n",
       "    <tr>\n",
       "      <th>58794</th>\n",
       "      <td>C</td>\n",
       "      <td>0.307334</td>\n",
       "    </tr>\n",
       "    <tr>\n",
       "      <th>27502</th>\n",
       "      <td>C</td>\n",
       "      <td>0.312806</td>\n",
       "    </tr>\n",
       "    <tr>\n",
       "      <th>114781</th>\n",
       "      <td>D</td>\n",
       "      <td>0.315973</td>\n",
       "    </tr>\n",
       "    <tr>\n",
       "      <th>84921</th>\n",
       "      <td>C</td>\n",
       "      <td>0.315973</td>\n",
       "    </tr>\n",
       "  </tbody>\n",
       "</table>\n",
       "</div>"
      ],
      "text/plain": [
       "       grade  predictions\n",
       "84508      C     0.307334\n",
       "58794      C     0.307334\n",
       "27502      C     0.312806\n",
       "114781     D     0.315973\n",
       "84921      C     0.315973"
      ]
     },
     "execution_count": 34,
     "metadata": {},
     "output_type": "execute_result"
    }
   ],
   "source": [
    "print(\"Most Negative Predictions: \\n\") \n",
    "validation_data[['grade','predictions']].sort_values(by='predictions',ascending = True).head(5)"
   ]
  },
  {
   "cell_type": "markdown",
   "metadata": {},
   "source": [
    "## Effect of adding more trees"
   ]
  },
  {
   "cell_type": "code",
   "execution_count": 35,
   "metadata": {
    "collapsed": true
   },
   "outputs": [],
   "source": [
    "# Effect of adding more trees\n",
    "ensemble_classifier_est_10 = GradientBoostingClassifier(max_depth=6, n_estimators=10).fit(train_features,train_target)\n",
    "ensemble_classifier_est_50 = GradientBoostingClassifier(max_depth=6, n_estimators=50).fit(train_features,train_target)\n",
    "ensemble_classifier_est_100 = GradientBoostingClassifier(max_depth=6, n_estimators=100).fit(train_features,train_target)\n",
    "ensemble_classifier_est_200 = GradientBoostingClassifier(max_depth=6, n_estimators=200).fit(train_features,train_target)\n",
    "ensemble_classifier_est_500 = GradientBoostingClassifier(max_depth=6, n_estimators=500).fit(train_features,train_target)"
   ]
  },
  {
   "cell_type": "markdown",
   "metadata": {},
   "source": [
    "## Compare accuracy on entire validation set"
   ]
  },
  {
   "cell_type": "code",
   "execution_count": 36,
   "metadata": {},
   "outputs": [
    {
     "name": "stdout",
     "output_type": "stream",
     "text": [
      "Accuracy (n_estimator = 10, Validation Data): 0.6654\n",
      "Accuracy (n_estimator = 50, Validation Data): 0.685\n",
      "Accuracy (n_estimator = 100, Validation Data): 0.6889\n",
      "Accuracy (n_estimator = 200, Validation Data): 0.6859\n",
      "Accuracy (n_estimator = 500, Validation Data): 0.6868\n"
     ]
    }
   ],
   "source": [
    "# Accuracy\n",
    "print(\"Accuracy (n_estimator = 10, Validation Data): %.4g\" %ensemble_classifier_est_10.score(validation_features,validation_data['safe_loans']))\n",
    "print(\"Accuracy (n_estimator = 50, Validation Data): %.4g\" %ensemble_classifier_est_50.score(validation_features,validation_data['safe_loans']))\n",
    "print(\"Accuracy (n_estimator = 100, Validation Data): %.4g\" %ensemble_classifier_est_100.score(validation_features,validation_data['safe_loans']))\n",
    "print(\"Accuracy (n_estimator = 200, Validation Data): %.4g\" %ensemble_classifier_est_200.score(validation_features,validation_data['safe_loans']))\n",
    "print(\"Accuracy (n_estimator = 500, Validation Data): %.4g\" %ensemble_classifier_est_500.score(validation_features,validation_data['safe_loans']))"
   ]
  },
  {
   "cell_type": "markdown",
   "metadata": {},
   "source": [
    "## Plot the training and validation error vs. number of trees"
   ]
  },
  {
   "cell_type": "markdown",
   "metadata": {},
   "source": [
    "Recall from the lecture that the classification error is defined as\n",
    "\n",
    "$$\n",
    "\\mbox{classification error} = 1 - \\mbox{accuracy} \n",
    "$$\n",
    "\n",
    "In this section, we will plot the **training and validation errors versus the number of trees** to get a sense of how these models are performing. We will compare the 10, 50, 100, 200, and 500 tree models."
   ]
  },
  {
   "cell_type": "markdown",
   "metadata": {},
   "source": [
    "Make sure this block of code runs on your computer."
   ]
  },
  {
   "cell_type": "code",
   "execution_count": 38,
   "metadata": {
    "collapsed": true
   },
   "outputs": [],
   "source": [
    "import matplotlib.pyplot as plt\n",
    "%matplotlib inline\n",
    "def make_figure(dim, title, xlabel, ylabel, legend):\n",
    "    plt.rcParams['figure.figsize'] = dim\n",
    "    plt.title(title)\n",
    "    plt.xlabel(xlabel)\n",
    "    plt.ylabel(ylabel)\n",
    "    if legend is not None:\n",
    "        plt.legend(loc=legend, prop={'size':15})\n",
    "    plt.rcParams.update({'font.size': 16})\n",
    "    plt.tight_layout()"
   ]
  },
  {
   "cell_type": "code",
   "execution_count": 39,
   "metadata": {},
   "outputs": [
    {
     "data": {
      "image/png": "[encoded data removed]",
      "text/plain": [
       "<matplotlib.figure.Figure at 0x1f533593dd8>"
      ]
     },
     "metadata": {},
     "output_type": "display_data"
    }
   ],
   "source": [
    "# Training Errors\n",
    "train_err_10 = 1 - ensemble_classifier_est_10.score(train_features,train_data['safe_loans'])\n",
    "train_err_50 = 1 - ensemble_classifier_est_50.score(train_features,train_data['safe_loans'])\n",
    "train_err_100 = 1 - ensemble_classifier_est_100.score(train_features,train_data['safe_loans'])\n",
    "train_err_200 = 1 - ensemble_classifier_est_200.score(train_features,train_data['safe_loans'])\n",
    "train_err_500 = 1 - ensemble_classifier_est_500.score(train_features,train_data['safe_loans'])\n",
    "training_errors = [train_err_10, train_err_50, train_err_100, train_err_200, train_err_500]\n",
    "\n",
    "# Validation Errors\n",
    "validation_err_10 = 1 - ensemble_classifier_est_10.score(validation_features,validation_data['safe_loans'])\n",
    "validation_err_50 = 1 - ensemble_classifier_est_50.score(validation_features,validation_data['safe_loans'])\n",
    "validation_err_100 = 1 - ensemble_classifier_est_100.score(validation_features,validation_data['safe_loans'])\n",
    "validation_err_200 = 1 - ensemble_classifier_est_200.score(validation_features,validation_data['safe_loans'])\n",
    "validation_err_500 = 1 - ensemble_classifier_est_500.score(validation_features,validation_data['safe_loans'])\n",
    "validation_errors = [validation_err_10, validation_err_50, validation_err_100, validation_err_200, validation_err_500]\n",
    "\n",
    "plt.plot([10, 50, 100, 200, 500], training_errors, linewidth=4.0, label='Training error')\n",
    "plt.plot([10, 50, 100, 200, 500], validation_errors, linewidth=4.0, label='Validation error')\n",
    "\n",
    "make_figure(dim=(10,5), title='Error vs number of trees',\n",
    "            xlabel='Number of trees',\n",
    "            ylabel='Classification error',\n",
    "            legend='best')"
   ]
  }
 ],
 "metadata": {
  "kernelspec": {
   "display_name": "Python 3",
   "language": "python",
   "name": "python3"
  },
  "language_info": {
   "codemirror_mode": {
    "name": "ipython",
    "version": 3
   },
   "file_extension": ".py",
   "mimetype": "text/x-python",
   "name": "python",
   "nbconvert_exporter": "python",
   "pygments_lexer": "ipython3",
   "version": "3.6.0"
  }
 },
 "nbformat": 4,
 "nbformat_minor": 2
}
