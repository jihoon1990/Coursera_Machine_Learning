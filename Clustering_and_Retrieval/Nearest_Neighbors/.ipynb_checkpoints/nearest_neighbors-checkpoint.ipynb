{
 "cells": [
  {
   "cell_type": "markdown",
   "metadata": {},
   "source": [
    "# Nearest Neighbors"
   ]
  },
  {
   "cell_type": "markdown",
   "metadata": {},
   "source": [
    "## Import module"
   ]
  },
  {
   "cell_type": "code",
   "execution_count": 5,
   "metadata": {
    "collapsed": true
   },
   "outputs": [],
   "source": [
    "import matplotlib.pyplot as plt\n",
    "import numpy as np\n",
    "import pandas as pd\n",
    "from sklearn.neighbors import NearestNeighbors\n",
    "from scipy.sparse import csr_matrix"
   ]
  },
  {
   "cell_type": "markdown",
   "metadata": {},
   "source": [
    "## Load Wikipedia dataset"
   ]
  },
  {
   "cell_type": "code",
   "execution_count": 3,
   "metadata": {
    "collapsed": true
   },
   "outputs": [],
   "source": [
    "wiki = pd.read_csv(\"people_wiki.csv\")"
   ]
  },
  {
   "cell_type": "markdown",
   "metadata": {},
   "source": [
    "Explore some data:"
   ]
  },
  {
   "cell_type": "code",
   "execution_count": 4,
   "metadata": {},
   "outputs": [
    {
     "data": {
      "text/html": [
       "<div>\n",
       "<table border=\"1\" class=\"dataframe\">\n",
       "  <thead>\n",
       "    <tr style=\"text-align: right;\">\n",
       "      <th></th>\n",
       "      <th>URI</th>\n",
       "      <th>name</th>\n",
       "      <th>text</th>\n",
       "    </tr>\n",
       "  </thead>\n",
       "  <tbody>\n",
       "    <tr>\n",
       "      <th>0</th>\n",
       "      <td>&lt;http://dbpedia.org/resource/Digby_Morrell&gt;</td>\n",
       "      <td>Digby Morrell</td>\n",
       "      <td>digby morrell born 10 october 1979 is a former...</td>\n",
       "    </tr>\n",
       "    <tr>\n",
       "      <th>1</th>\n",
       "      <td>&lt;http://dbpedia.org/resource/Alfred_J._Lewy&gt;</td>\n",
       "      <td>Alfred J. Lewy</td>\n",
       "      <td>alfred j lewy aka sandy lewy graduated from un...</td>\n",
       "    </tr>\n",
       "    <tr>\n",
       "      <th>2</th>\n",
       "      <td>&lt;http://dbpedia.org/resource/Harpdog_Brown&gt;</td>\n",
       "      <td>Harpdog Brown</td>\n",
       "      <td>harpdog brown is a singer and harmonica player...</td>\n",
       "    </tr>\n",
       "    <tr>\n",
       "      <th>3</th>\n",
       "      <td>&lt;http://dbpedia.org/resource/Franz_Rottensteiner&gt;</td>\n",
       "      <td>Franz Rottensteiner</td>\n",
       "      <td>franz rottensteiner born in waidmannsfeld lowe...</td>\n",
       "    </tr>\n",
       "    <tr>\n",
       "      <th>4</th>\n",
       "      <td>&lt;http://dbpedia.org/resource/G-Enka&gt;</td>\n",
       "      <td>G-Enka</td>\n",
       "      <td>henry krvits born 30 december 1974 in tallinn ...</td>\n",
       "    </tr>\n",
       "  </tbody>\n",
       "</table>\n",
       "</div>"
      ],
      "text/plain": [
       "                                                 URI                 name  \\\n",
       "0        <http://dbpedia.org/resource/Digby_Morrell>        Digby Morrell   \n",
       "1       <http://dbpedia.org/resource/Alfred_J._Lewy>       Alfred J. Lewy   \n",
       "2        <http://dbpedia.org/resource/Harpdog_Brown>        Harpdog Brown   \n",
       "3  <http://dbpedia.org/resource/Franz_Rottensteiner>  Franz Rottensteiner   \n",
       "4               <http://dbpedia.org/resource/G-Enka>               G-Enka   \n",
       "\n",
       "                                                text  \n",
       "0  digby morrell born 10 october 1979 is a former...  \n",
       "1  alfred j lewy aka sandy lewy graduated from un...  \n",
       "2  harpdog brown is a singer and harmonica player...  \n",
       "3  franz rottensteiner born in waidmannsfeld lowe...  \n",
       "4  henry krvits born 30 december 1974 in tallinn ...  "
      ]
     },
     "execution_count": 4,
     "metadata": {},
     "output_type": "execute_result"
    }
   ],
   "source": [
    "wiki.head(5)"
   ]
  },
  {
   "cell_type": "markdown",
   "metadata": {},
   "source": [
    "## Extract word count vectors"
   ]
  },
  {
   "cell_type": "markdown",
   "metadata": {},
   "source": [
    "To load in the word count vectors, define the function:"
   ]
  },
  {
   "cell_type": "code",
   "execution_count": 6,
   "metadata": {
    "collapsed": true
   },
   "outputs": [],
   "source": [
    "def load_sparse_csr(filename):\n",
    "    loader = np.load(filename)\n",
    "    data = loader['data']\n",
    "    indices = loader['indices']\n",
    "    indptr = loader['indptr']\n",
    "    shape = loader['shape']\n",
    "    \n",
    "    return csr_matrix( (data, indices, indptr), shape)"
   ]
  },
  {
   "cell_type": "code",
   "execution_count": 8,
   "metadata": {
    "collapsed": true
   },
   "outputs": [],
   "source": [
    "# word count vector\n",
    "word_count = load_sparse_csr('people_wiki_word_count.npz')"
   ]
  },
  {
   "cell_type": "markdown",
   "metadata": {},
   "source": [
    "The word-to-index mapping is given by:"
   ]
  },
  {
   "cell_type": "code",
   "execution_count": 40,
   "metadata": {
    "collapsed": true
   },
   "outputs": [],
   "source": [
    "idx_to_word = pd.read_json(\"people_wiki_map_index_to_word.json\", typ='series')\n",
    "idx_to_word = idx_to_word.sort_values()"
   ]
  },
  {
   "cell_type": "markdown",
   "metadata": {},
   "source": [
    "Let's see some of indices:"
   ]
  },
  {
   "cell_type": "code",
   "execution_count": 41,
   "metadata": {},
   "outputs": [
    {
     "data": {
      "text/plain": [
       "bioarchaeologist               0\n",
       "leaguehockey                   1\n",
       "electionruss                   2\n",
       "teramoto                       3\n",
       "trumpeterpercussionist         4\n",
       "spoofax                        5\n",
       "mendelssohni                   6\n",
       "crosswise                      7\n",
       "yec                            8\n",
       "asianthemed                    9\n",
       "masheldon                     10\n",
       "maywoods                      11\n",
       "feduring                      12\n",
       "seameo                        13\n",
       "2012green                     14\n",
       "wrighthassell                 15\n",
       "lidda                         16\n",
       "wfo                           17\n",
       "ukfang                        18\n",
       "outfitover                    19\n",
       "pagbabago                     20\n",
       "influences1                   21\n",
       "stonier                       22\n",
       "brbbarbosa                    23\n",
       "ipishuna                      24\n",
       "researchteuvo                 25\n",
       "stephensens                   26\n",
       "titheridge                    27\n",
       "dunlapi                       28\n",
       "specs                         29\n",
       "                           ...  \n",
       "been                      547949\n",
       "after                     547950\n",
       "one                       547951\n",
       "who                       547952\n",
       "new                       547953\n",
       "university                547954\n",
       "which                     547955\n",
       "first                     547956\n",
       "that                      547957\n",
       "also                      547958\n",
       "has                       547959\n",
       "by                        547960\n",
       "an                        547961\n",
       "from                      547962\n",
       "born                      547963\n",
       "his                       547964\n",
       "at                        547965\n",
       "he                        547966\n",
       "with                      547967\n",
       "on                        547968\n",
       "as                        547969\n",
       "was                       547970\n",
       "for                       547971\n",
       "to                        547972\n",
       "is                        547973\n",
       "a                         547974\n",
       "of                        547975\n",
       "in                        547976\n",
       "and                       547977\n",
       "the                       547978\n",
       "dtype: int64"
      ]
     },
     "execution_count": 41,
     "metadata": {},
     "output_type": "execute_result"
    }
   ],
   "source": [
    "idx_to_word"
   ]
  },
  {
   "cell_type": "markdown",
   "metadata": {},
   "source": [
    "## Find nearest neighbors"
   ]
  },
  {
   "cell_type": "code",
   "execution_count": 42,
   "metadata": {},
   "outputs": [
    {
     "data": {
      "text/plain": [
       "NearestNeighbors(algorithm='brute', leaf_size=30, metric='euclidean',\n",
       "         metric_params=None, n_jobs=1, n_neighbors=5, p=2, radius=1.0)"
      ]
     },
     "execution_count": 42,
     "metadata": {},
     "output_type": "execute_result"
    }
   ],
   "source": [
    "model = NearestNeighbors(metric='euclidean', algorithm = 'brute')\n",
    "model.fit(word_count)"
   ]
  },
  {
   "cell_type": "code",
   "execution_count": 45,
   "metadata": {},
   "outputs": [
    {
     "data": {
      "text/html": [
       "<div>\n",
       "<table border=\"1\" class=\"dataframe\">\n",
       "  <thead>\n",
       "    <tr style=\"text-align: right;\">\n",
       "      <th></th>\n",
       "      <th>URI</th>\n",
       "      <th>name</th>\n",
       "      <th>text</th>\n",
       "    </tr>\n",
       "  </thead>\n",
       "  <tbody>\n",
       "    <tr>\n",
       "      <th>35817</th>\n",
       "      <td>&lt;http://dbpedia.org/resource/Barack_Obama&gt;</td>\n",
       "      <td>Barack Obama</td>\n",
       "      <td>barack hussein obama ii brk husen bm born augu...</td>\n",
       "    </tr>\n",
       "  </tbody>\n",
       "</table>\n",
       "</div>"
      ],
      "text/plain": [
       "                                              URI          name  \\\n",
       "35817  <http://dbpedia.org/resource/Barack_Obama>  Barack Obama   \n",
       "\n",
       "                                                    text  \n",
       "35817  barack hussein obama ii brk husen bm born augu...  "
      ]
     },
     "execution_count": 45,
     "metadata": {},
     "output_type": "execute_result"
    }
   ],
   "source": [
    "# row number of Obama's article\n",
    "wiki[wiki['name']=='Barack Obama']"
   ]
  },
  {
   "cell_type": "markdown",
   "metadata": {},
   "source": [
    "10 nearest neighbors of Barack Obama:"
   ]
  },
  {
   "cell_type": "code",
   "execution_count": 55,
   "metadata": {},
   "outputs": [
    {
     "data": {
      "text/html": [
       "<div>\n",
       "<table border=\"1\" class=\"dataframe\">\n",
       "  <thead>\n",
       "    <tr style=\"text-align: right;\">\n",
       "      <th></th>\n",
       "      <th>name</th>\n",
       "      <th>distance</th>\n",
       "    </tr>\n",
       "  </thead>\n",
       "  <tbody>\n",
       "    <tr>\n",
       "      <th>35817</th>\n",
       "      <td>Barack Obama</td>\n",
       "      <td>0.000000</td>\n",
       "    </tr>\n",
       "    <tr>\n",
       "      <th>24478</th>\n",
       "      <td>Joe Biden</td>\n",
       "      <td>33.075671</td>\n",
       "    </tr>\n",
       "    <tr>\n",
       "      <th>28447</th>\n",
       "      <td>George W. Bush</td>\n",
       "      <td>34.394767</td>\n",
       "    </tr>\n",
       "    <tr>\n",
       "      <th>35357</th>\n",
       "      <td>Lawrence Summers</td>\n",
       "      <td>36.152455</td>\n",
       "    </tr>\n",
       "    <tr>\n",
       "      <th>14754</th>\n",
       "      <td>Mitt Romney</td>\n",
       "      <td>36.166283</td>\n",
       "    </tr>\n",
       "    <tr>\n",
       "      <th>13229</th>\n",
       "      <td>Francisco Barrio</td>\n",
       "      <td>36.331804</td>\n",
       "    </tr>\n",
       "    <tr>\n",
       "      <th>31423</th>\n",
       "      <td>Walter Mondale</td>\n",
       "      <td>36.400549</td>\n",
       "    </tr>\n",
       "    <tr>\n",
       "      <th>22745</th>\n",
       "      <td>Wynn Normington Hugh-Jones</td>\n",
       "      <td>36.496575</td>\n",
       "    </tr>\n",
       "    <tr>\n",
       "      <th>36364</th>\n",
       "      <td>Don Bonker</td>\n",
       "      <td>36.633318</td>\n",
       "    </tr>\n",
       "    <tr>\n",
       "      <th>9210</th>\n",
       "      <td>Andy Anstett</td>\n",
       "      <td>36.959437</td>\n",
       "    </tr>\n",
       "  </tbody>\n",
       "</table>\n",
       "</div>"
      ],
      "text/plain": [
       "                             name   distance\n",
       "35817                Barack Obama   0.000000\n",
       "24478                   Joe Biden  33.075671\n",
       "28447              George W. Bush  34.394767\n",
       "35357            Lawrence Summers  36.152455\n",
       "14754                 Mitt Romney  36.166283\n",
       "13229            Francisco Barrio  36.331804\n",
       "31423              Walter Mondale  36.400549\n",
       "22745  Wynn Normington Hugh-Jones  36.496575\n",
       "36364                  Don Bonker  36.633318\n",
       "9210                 Andy Anstett  36.959437"
      ]
     },
     "execution_count": 55,
     "metadata": {},
     "output_type": "execute_result"
    }
   ],
   "source": [
    "distances, indices = model.kneighbors(word_count[35817], n_neighbors=10)\n",
    "nn_obama = wiki.loc[indices[0]]\n",
    "nn_obama['distance'] = distances[0]\n",
    "nn_obama[['name','distance']]"
   ]
  },
  {
   "cell_type": "code",
   "execution_count": 62,
   "metadata": {},
   "outputs": [
    {
     "data": {
      "text/plain": [
       "the      40\n",
       "in       30\n",
       "and      21\n",
       "of       18\n",
       "to       14\n",
       "his      11\n",
       "obama     9\n",
       "act       8\n",
       "a         7\n",
       "he        7\n",
       "dtype: int64"
      ]
     },
     "execution_count": 62,
     "metadata": {},
     "output_type": "execute_result"
    }
   ],
   "source": [
    "obama_words = pd.Series(word_count[35817].toarray()[0],index=idx_to_word.index)\n",
    "obama_words = obama_words.sort_values(ascending=False)\n",
    "obama_words.head(10)"
   ]
  },
  {
   "cell_type": "markdown",
   "metadata": {},
   "source": [
    "All of the 10 people are politicians, but about half of them have rather tenuous connections with Obama, other than the fact that they are politicians.\n",
    "\n",
    "* Francisco Barrio is a Mexican politician, and a former governor of Chihuahua.\n",
    "* Walter Mondale and Don Bonker are Democrats who made their career in late 1970s.\n",
    "* Wynn Normington Hugh-Jones is a former British diplomat and Liberal Party official.\n",
    "* Andy Anstett is a former politician in Manitoba, Canada.\n",
    "\n",
    "Nearest neighbors with raw word counts got some things right, showing all politicians in the query result, but missed finer and important details.\n",
    "\n",
    "For instance, let's find out why Francisco Barrio was considered a close neighbor of Obama. To do this, let's look at the most frequently used words in each of Barack Obama and Francisco Barrio's pages:"
   ]
  },
  {
   "cell_type": "code",
   "execution_count": 56,
   "metadata": {},
   "outputs": [
    {
     "data": {
      "text/html": [
       "<div>\n",
       "<table border=\"1\" class=\"dataframe\">\n",
       "  <thead>\n",
       "    <tr style=\"text-align: right;\">\n",
       "      <th></th>\n",
       "      <th>URI</th>\n",
       "      <th>name</th>\n",
       "      <th>text</th>\n",
       "    </tr>\n",
       "  </thead>\n",
       "  <tbody>\n",
       "    <tr>\n",
       "      <th>13229</th>\n",
       "      <td>&lt;http://dbpedia.org/resource/Francisco_Barrio&gt;</td>\n",
       "      <td>Francisco Barrio</td>\n",
       "      <td>francisco javier barrio terrazas born november...</td>\n",
       "    </tr>\n",
       "  </tbody>\n",
       "</table>\n",
       "</div>"
      ],
      "text/plain": [
       "                                                  URI              name  \\\n",
       "13229  <http://dbpedia.org/resource/Francisco_Barrio>  Francisco Barrio   \n",
       "\n",
       "                                                    text  \n",
       "13229  francisco javier barrio terrazas born november...  "
      ]
     },
     "execution_count": 56,
     "metadata": {},
     "output_type": "execute_result"
    }
   ],
   "source": [
    "# row number of Francisco Barrio's article\n",
    "wiki[wiki['name']=='Francisco Barrio']"
   ]
  },
  {
   "cell_type": "code",
   "execution_count": 57,
   "metadata": {},
   "outputs": [
    {
     "data": {
      "text/html": [
       "<div>\n",
       "<table border=\"1\" class=\"dataframe\">\n",
       "  <thead>\n",
       "    <tr style=\"text-align: right;\">\n",
       "      <th></th>\n",
       "      <th>name</th>\n",
       "      <th>distance</th>\n",
       "    </tr>\n",
       "  </thead>\n",
       "  <tbody>\n",
       "    <tr>\n",
       "      <th>13229</th>\n",
       "      <td>Francisco Barrio</td>\n",
       "      <td>0.000000</td>\n",
       "    </tr>\n",
       "    <tr>\n",
       "      <th>7794</th>\n",
       "      <td>Sali Berisha</td>\n",
       "      <td>27.874720</td>\n",
       "    </tr>\n",
       "    <tr>\n",
       "      <th>26858</th>\n",
       "      <td>Ciril Zlobec</td>\n",
       "      <td>28.000000</td>\n",
       "    </tr>\n",
       "    <tr>\n",
       "      <th>29243</th>\n",
       "      <td>Jay Naidoo</td>\n",
       "      <td>28.053520</td>\n",
       "    </tr>\n",
       "    <tr>\n",
       "      <th>23880</th>\n",
       "      <td>Richard Hu</td>\n",
       "      <td>28.319605</td>\n",
       "    </tr>\n",
       "    <tr>\n",
       "      <th>27737</th>\n",
       "      <td>Fernando Canales Clariond</td>\n",
       "      <td>28.337255</td>\n",
       "    </tr>\n",
       "    <tr>\n",
       "      <th>36197</th>\n",
       "      <td>Arnd Kr%C3%BCger</td>\n",
       "      <td>28.530685</td>\n",
       "    </tr>\n",
       "    <tr>\n",
       "      <th>58686</th>\n",
       "      <td>Ramakanta Rath</td>\n",
       "      <td>28.565714</td>\n",
       "    </tr>\n",
       "    <tr>\n",
       "      <th>53529</th>\n",
       "      <td>Chris Saxman</td>\n",
       "      <td>28.653098</td>\n",
       "    </tr>\n",
       "    <tr>\n",
       "      <th>33378</th>\n",
       "      <td>Jaros%C5%82aw Lasecki</td>\n",
       "      <td>28.670542</td>\n",
       "    </tr>\n",
       "  </tbody>\n",
       "</table>\n",
       "</div>"
      ],
      "text/plain": [
       "                            name   distance\n",
       "13229           Francisco Barrio   0.000000\n",
       "7794                Sali Berisha  27.874720\n",
       "26858               Ciril Zlobec  28.000000\n",
       "29243                 Jay Naidoo  28.053520\n",
       "23880                 Richard Hu  28.319605\n",
       "27737  Fernando Canales Clariond  28.337255\n",
       "36197           Arnd Kr%C3%BCger  28.530685\n",
       "58686             Ramakanta Rath  28.565714\n",
       "53529               Chris Saxman  28.653098\n",
       "33378      Jaros%C5%82aw Lasecki  28.670542"
      ]
     },
     "execution_count": 57,
     "metadata": {},
     "output_type": "execute_result"
    }
   ],
   "source": [
    "distances, indices = model.kneighbors(word_count[13229], n_neighbors=10)\n",
    "nn_obama = wiki.loc[indices[0]]\n",
    "nn_obama['distance'] = distances[0]\n",
    "nn_obama[['name','distance']]"
   ]
  },
  {
   "cell_type": "code",
   "execution_count": 63,
   "metadata": {},
   "outputs": [
    {
     "data": {
      "text/plain": [
       "the          36\n",
       "of           24\n",
       "and          18\n",
       "in           17\n",
       "he           10\n",
       "to            9\n",
       "chihuahua     7\n",
       "a             6\n",
       "governor      6\n",
       "as            5\n",
       "dtype: int64"
      ]
     },
     "execution_count": 63,
     "metadata": {},
     "output_type": "execute_result"
    }
   ],
   "source": [
    "barrio_words = pd.Series(word_count[13229].toarray()[0],index=idx_to_word.index)\n",
    "barrio_words = barrio_words.sort_values(ascending=False)\n",
    "barrio_words.head(10)"
   ]
  },
  {
   "cell_type": "markdown",
   "metadata": {},
   "source": [
    "Let's extract the list of most frequent words that appear in both Obama's and Barrio's documents. We've so far sorted all words from Obama and Barrio's articles by their word frequencies. We will now use a dataframe operation known as join."
   ]
  },
  {
   "cell_type": "code",
   "execution_count": null,
   "metadata": {
    "collapsed": true
   },
   "outputs": [],
   "source": []
  }
 ],
 "metadata": {
  "kernelspec": {
   "display_name": "Python 3",
   "language": "python",
   "name": "python3"
  },
  "language_info": {
   "codemirror_mode": {
    "name": "ipython",
    "version": 3
   },
   "file_extension": ".py",
   "mimetype": "text/x-python",
   "name": "python",
   "nbconvert_exporter": "python",
   "pygments_lexer": "ipython3",
   "version": "3.6.0"
  }
 },
 "nbformat": 4,
 "nbformat_minor": 2
}
