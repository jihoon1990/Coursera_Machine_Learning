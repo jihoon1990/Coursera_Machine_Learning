{
 "cells": [
  {
   "cell_type": "markdown",
   "metadata": {},
   "source": [
    "# Assessing Fit (Polynomial Regression)"
   ]
  },
  {
   "cell_type": "markdown",
   "metadata": {},
   "source": [
    "## Import Module"
   ]
  },
  {
   "cell_type": "code",
   "execution_count": 1,
   "metadata": {
    "collapsed": true
   },
   "outputs": [],
   "source": [
    "import pandas as pd\n",
    "import matplotlib.pyplot as plt\n",
    "from sklearn import linear_model"
   ]
  },
  {
   "cell_type": "markdown",
   "metadata": {},
   "source": [
    "## Import Data Type"
   ]
  },
  {
   "cell_type": "code",
   "execution_count": 2,
   "metadata": {
    "collapsed": true
   },
   "outputs": [],
   "source": [
    "dtype_dict = {'bathrooms':float, 'waterfront':int, 'sqft_above':int, \n",
    "              'sqft_living15':float, 'grade':int, 'yr_renovated':int, \n",
    "              'price':float, 'bedrooms':float, 'zipcode':str, 'long':float, \n",
    "              'sqft_lot15':float, 'sqft_living':float, 'floors':str, \n",
    "              'condition':int, 'lat':float, 'date':str, 'sqft_basement':int, \n",
    "              'yr_built':int, 'id':str, 'sqft_lot':int, 'view':int}"
   ]
  },
  {
   "cell_type": "markdown",
   "metadata": {},
   "source": [
    "## Load Data from CSV files"
   ]
  },
  {
   "cell_type": "code",
   "execution_count": 3,
   "metadata": {
    "collapsed": true
   },
   "outputs": [],
   "source": [
    "sales = pd.read_csv(\"kc_house_data.csv\", dtype = dtype_dict)\n",
    "train_data = pd.read_csv(\"kc_house_train_data.csv\", dtype = dtype_dict)\n",
    "test_data = pd.read_csv(\"kc_house_test_data.csv\", dtype = dtype_dict)\n",
    "valid_data = pd.read_csv(\"kc_house_valid_data.csv\", dtype = dtype_dict)\n",
    "set1 = pd.read_csv(\"kc_house_set_1_data.csv\", dtype = dtype_dict)\n",
    "set2 = pd.read_csv(\"kc_house_set_2_data.csv\", dtype = dtype_dict)\n",
    "set3 = pd.read_csv(\"kc_house_set_3_data.csv\", dtype = dtype_dict)\n",
    "set4 = pd.read_csv(\"kc_house_set_4_data.csv\", dtype = dtype_dict)"
   ]
  },
  {
   "cell_type": "markdown",
   "metadata": {},
   "source": [
    "## Polynomial Dataframe Function"
   ]
  },
  {
   "cell_type": "code",
   "execution_count": 4,
   "metadata": {
    "collapsed": true
   },
   "outputs": [],
   "source": [
    "def polynomial_dataframe(feature, degree): # feature is pandas.Series type\n",
    "    # assume that degree >= 1\n",
    "    # initialize the dataframe:\n",
    "    poly_dataframe = pd.DataFrame()\n",
    "    # and set poly_dataframe['power_1'] equal to the passed feature\n",
    "    poly_dataframe['power_1'] = feature\n",
    "    # first check if degree > 1\n",
    "    if degree > 1:\n",
    "        # then loop over the remaining degrees:\n",
    "        for power in range(2, degree+1):\n",
    "            # first we'll give the column a name:\n",
    "            name = 'power_' + str(power)\n",
    "            # assign poly_dataframe[name] to be feature^power; use apply(*)\n",
    "            poly_dataframe[name] = feature.apply(lambda x: x ** power)\n",
    "    return poly_dataframe"
   ]
  },
  {
   "cell_type": "markdown",
   "metadata": {},
   "source": [
    "## Visualizing polynomial regression"
   ]
  },
  {
   "cell_type": "markdown",
   "metadata": {},
   "source": [
    "Let's use matplotlib to visualize what a polynomial regression looks like on some real data."
   ]
  },
  {
   "cell_type": "code",
   "execution_count": 5,
   "metadata": {
    "collapsed": true
   },
   "outputs": [],
   "source": [
    "sales = sales.sort_values(['sqft_living','price'])"
   ]
  },
  {
   "cell_type": "markdown",
   "metadata": {},
   "source": [
    "Making a 1 degree polynomial with sales[‘sqft_living’] as the the feature. Call it ‘poly1_data’."
   ]
  },
  {
   "cell_type": "code",
   "execution_count": 6,
   "metadata": {
    "collapsed": true
   },
   "outputs": [],
   "source": [
    "poly1_data = polynomial_dataframe(sales['sqft_living'], 1)\n",
    "poly1_data['price'] = sales['price']"
   ]
  },
  {
   "cell_type": "markdown",
   "metadata": {},
   "source": [
    "Now that you have plotted the results using a 1st degree polynomial, try it again using a 2nd degree and 3rd degree polynomial. "
   ]
  },
  {
   "cell_type": "markdown",
   "metadata": {},
   "source": [
    "### Linear regression model for 1st power of squarefeet:"
   ]
  },
  {
   "cell_type": "code",
   "execution_count": 7,
   "metadata": {},
   "outputs": [
    {
     "data": {
      "text/plain": [
       "LinearRegression(copy_X=True, fit_intercept=True, n_jobs=1, normalize=False)"
      ]
     },
     "execution_count": 7,
     "metadata": {},
     "output_type": "execute_result"
    }
   ],
   "source": [
    "# Linear Regression Model\n",
    "model1 = linear_model.LinearRegression(copy_X=True, fit_intercept=True, n_jobs=1, normalize=False)\n",
    "model1.fit(poly1_data.drop('price',1), poly1_data['price'])"
   ]
  },
  {
   "cell_type": "markdown",
   "metadata": {},
   "source": [
    "Intercept and coefficients of 1st power of sqft:"
   ]
  },
  {
   "cell_type": "code",
   "execution_count": 8,
   "metadata": {},
   "outputs": [
    {
     "name": "stdout",
     "output_type": "stream",
     "text": [
      "Coefficients:  -43580.7430945\n"
     ]
    },
    {
     "data": {
      "text/html": [
       "<div>\n",
       "<table border=\"1\" class=\"dataframe\">\n",
       "  <thead>\n",
       "    <tr style=\"text-align: right;\">\n",
       "      <th></th>\n",
       "      <th>features</th>\n",
       "      <th>estimated coefficients</th>\n",
       "    </tr>\n",
       "  </thead>\n",
       "  <tbody>\n",
       "    <tr>\n",
       "      <th>0</th>\n",
       "      <td>power_1</td>\n",
       "      <td>280.623568</td>\n",
       "    </tr>\n",
       "  </tbody>\n",
       "</table>\n",
       "</div>"
      ],
      "text/plain": [
       "  features  estimated coefficients\n",
       "0  power_1              280.623568"
      ]
     },
     "execution_count": 8,
     "metadata": {},
     "output_type": "execute_result"
    }
   ],
   "source": [
    "print(\"Coefficients: \", model1.intercept_)\n",
    "coeffs = pd.DataFrame(list(zip(poly1_data.drop('price',1).columns,model1.coef_)), columns = ['features', 'estimated coefficients'])\n",
    "coeffs"
   ]
  },
  {
   "cell_type": "markdown",
   "metadata": {},
   "source": [
    "Let's visualize this linear model in scatter plot:"
   ]
  },
  {
   "cell_type": "code",
   "execution_count": 9,
   "metadata": {},
   "outputs": [
    {
     "data": {
      "image/png": "[encoded data removed]",
      "text/plain": [
       "<matplotlib.figure.Figure at 0x1465ebf1550>"
      ]
     },
     "metadata": {},
     "output_type": "display_data"
    }
   ],
   "source": [
    "# Scatter plot of data (1st power of sqft)\n",
    "plt.figure(0)\n",
    "plt.plot(poly1_data[['power_1']], poly1_data[['price']],'.',\n",
    "         poly1_data[['power_1']], model1.predict(poly1_data.drop('price',1)),'-')\n",
    "plt.xlabel('Squarefeet')\n",
    "plt.ylabel('Price')\n",
    "plt.show()"
   ]
  },
  {
   "cell_type": "markdown",
   "metadata": {},
   "source": [
    "### Linear regression model for 2nd degree of polynomial:"
   ]
  },
  {
   "cell_type": "code",
   "execution_count": 10,
   "metadata": {},
   "outputs": [
    {
     "data": {
      "text/plain": [
       "LinearRegression(copy_X=True, fit_intercept=True, n_jobs=1, normalize=False)"
      ]
     },
     "execution_count": 10,
     "metadata": {},
     "output_type": "execute_result"
    }
   ],
   "source": [
    "poly2_data = polynomial_dataframe(sales['sqft_living'], 2)\n",
    "poly2_data['price'] = sales['price']\n",
    "model2 = linear_model.LinearRegression(copy_X=True, fit_intercept=True, n_jobs=1, normalize=False)\n",
    "model2.fit(poly2_data.drop('price',1), poly2_data['price'])"
   ]
  },
  {
   "cell_type": "markdown",
   "metadata": {},
   "source": [
    "Intercept and coefficients of 2nd degree of polynomial model:"
   ]
  },
  {
   "cell_type": "code",
   "execution_count": 11,
   "metadata": {},
   "outputs": [
    {
     "name": "stdout",
     "output_type": "stream",
     "text": [
      "Coefficients:  199222.279305\n"
     ]
    },
    {
     "data": {
      "text/html": [
       "<div>\n",
       "<table border=\"1\" class=\"dataframe\">\n",
       "  <thead>\n",
       "    <tr style=\"text-align: right;\">\n",
       "      <th></th>\n",
       "      <th>features</th>\n",
       "      <th>estimated coefficients</th>\n",
       "    </tr>\n",
       "  </thead>\n",
       "  <tbody>\n",
       "    <tr>\n",
       "      <th>0</th>\n",
       "      <td>power_1</td>\n",
       "      <td>67.994095</td>\n",
       "    </tr>\n",
       "    <tr>\n",
       "      <th>1</th>\n",
       "      <td>power_2</td>\n",
       "      <td>0.038581</td>\n",
       "    </tr>\n",
       "  </tbody>\n",
       "</table>\n",
       "</div>"
      ],
      "text/plain": [
       "  features  estimated coefficients\n",
       "0  power_1               67.994095\n",
       "1  power_2                0.038581"
      ]
     },
     "execution_count": 11,
     "metadata": {},
     "output_type": "execute_result"
    }
   ],
   "source": [
    "print(\"Coefficients: \", model2.intercept_)\n",
    "coeffs = pd.DataFrame(list(zip(poly2_data.drop('price',1).columns,model2.coef_)), columns = ['features', 'estimated coefficients'])\n",
    "coeffs"
   ]
  },
  {
   "cell_type": "code",
   "execution_count": 12,
   "metadata": {},
   "outputs": [
    {
     "data": {
      "image/png": "[encoded data removed]",
      "text/plain": [
       "<matplotlib.figure.Figure at 0x1465e6159e8>"
      ]
     },
     "metadata": {},
     "output_type": "display_data"
    }
   ],
   "source": [
    "# Scatter plot of data (2nd power of sqft)\n",
    "plt.figure(1)\n",
    "plt.plot(poly2_data[['power_1']], poly2_data[['price']],'.',\n",
    "         poly2_data[['power_1']], model2.predict(poly2_data.drop('price',1)),'-')\n",
    "plt.xlabel('Squarefeet')\n",
    "plt.ylabel('Price')\n",
    "plt.show()"
   ]
  },
  {
   "cell_type": "markdown",
   "metadata": {},
   "source": [
    "### Linear regression model for 3rd degree of polynomial:"
   ]
  },
  {
   "cell_type": "code",
   "execution_count": 13,
   "metadata": {},
   "outputs": [
    {
     "data": {
      "text/plain": [
       "LinearRegression(copy_X=True, fit_intercept=True, n_jobs=1, normalize=False)"
      ]
     },
     "execution_count": 13,
     "metadata": {},
     "output_type": "execute_result"
    }
   ],
   "source": [
    "poly3_data = polynomial_dataframe(sales['sqft_living'], 3)\n",
    "poly3_data['price'] = sales['price']\n",
    "model3 = linear_model.LinearRegression(copy_X=True, fit_intercept=True, n_jobs=1, normalize=False)\n",
    "model3.fit(poly3_data.drop('price',1), poly3_data['price'])"
   ]
  },
  {
   "cell_type": "markdown",
   "metadata": {},
   "source": [
    "Intercept and coefficients of 3rd degree of polynomial model:"
   ]
  },
  {
   "cell_type": "code",
   "execution_count": 14,
   "metadata": {},
   "outputs": [
    {
     "name": "stdout",
     "output_type": "stream",
     "text": [
      "Coefficients:  336819.748221\n"
     ]
    },
    {
     "data": {
      "text/html": [
       "<div>\n",
       "<table border=\"1\" class=\"dataframe\">\n",
       "  <thead>\n",
       "    <tr style=\"text-align: right;\">\n",
       "      <th></th>\n",
       "      <th>features</th>\n",
       "      <th>estimated coefficients</th>\n",
       "    </tr>\n",
       "  </thead>\n",
       "  <tbody>\n",
       "    <tr>\n",
       "      <th>0</th>\n",
       "      <td>power_1</td>\n",
       "      <td>-90.181986</td>\n",
       "    </tr>\n",
       "    <tr>\n",
       "      <th>1</th>\n",
       "      <td>power_2</td>\n",
       "      <td>0.087047</td>\n",
       "    </tr>\n",
       "    <tr>\n",
       "      <th>2</th>\n",
       "      <td>power_3</td>\n",
       "      <td>-0.000004</td>\n",
       "    </tr>\n",
       "  </tbody>\n",
       "</table>\n",
       "</div>"
      ],
      "text/plain": [
       "  features  estimated coefficients\n",
       "0  power_1              -90.181986\n",
       "1  power_2                0.087047\n",
       "2  power_3               -0.000004"
      ]
     },
     "execution_count": 14,
     "metadata": {},
     "output_type": "execute_result"
    }
   ],
   "source": [
    "print(\"Coefficients: \", model3.intercept_)\n",
    "coeffs = pd.DataFrame(list(zip(poly3_data.drop('price',1).columns,model3.coef_)), columns = ['features', 'estimated coefficients'])\n",
    "coeffs"
   ]
  },
  {
   "cell_type": "code",
   "execution_count": 15,
   "metadata": {},
   "outputs": [
    {
     "data": {
      "image/png": "[encoded data removed]",
      "text/plain": [
       "<matplotlib.figure.Figure at 0x1465e6cb278>"
      ]
     },
     "metadata": {},
     "output_type": "display_data"
    }
   ],
   "source": [
    "# Scatter plot of data (3rd power of sqft)\n",
    "plt.figure(2)\n",
    "plt.plot(poly3_data[['power_1']], poly3_data[['price']],'.',\n",
    "         poly3_data[['power_1']], model3.predict(poly3_data.drop('price',1)),'-')\n",
    "plt.xlabel('Squarefeet')\n",
    "plt.ylabel('Price')\n",
    "plt.show()"
   ]
  },
  {
   "cell_type": "markdown",
   "metadata": {},
   "source": [
    "Linear regression model for 15th degree of polynomial:"
   ]
  },
  {
   "cell_type": "code",
   "execution_count": 16,
   "metadata": {},
   "outputs": [
    {
     "data": {
      "text/plain": [
       "LinearRegression(copy_X=True, fit_intercept=True, n_jobs=1, normalize=False)"
      ]
     },
     "execution_count": 16,
     "metadata": {},
     "output_type": "execute_result"
    }
   ],
   "source": [
    "poly15_data = polynomial_dataframe(sales['sqft_living'], 15)\n",
    "poly15_data['price'] = sales['price']\n",
    "model15 = linear_model.LinearRegression(copy_X=True, fit_intercept=True, n_jobs=1, normalize=False)\n",
    "model15.fit(poly15_data.drop('price',1), poly15_data['price'])"
   ]
  },
  {
   "cell_type": "markdown",
   "metadata": {},
   "source": [
    "Intercept and coefficients of 15th degree of polynomial model:"
   ]
  },
  {
   "cell_type": "code",
   "execution_count": 17,
   "metadata": {},
   "outputs": [
    {
     "name": "stdout",
     "output_type": "stream",
     "text": [
      "Coefficients:  537116.329638\n"
     ]
    },
    {
     "data": {
      "text/html": [
       "<div>\n",
       "<table border=\"1\" class=\"dataframe\">\n",
       "  <thead>\n",
       "    <tr style=\"text-align: right;\">\n",
       "      <th></th>\n",
       "      <th>features</th>\n",
       "      <th>estimated coefficients</th>\n",
       "    </tr>\n",
       "  </thead>\n",
       "  <tbody>\n",
       "    <tr>\n",
       "      <th>0</th>\n",
       "      <td>power_1</td>\n",
       "      <td>4.564042e-91</td>\n",
       "    </tr>\n",
       "    <tr>\n",
       "      <th>1</th>\n",
       "      <td>power_2</td>\n",
       "      <td>6.917135e-51</td>\n",
       "    </tr>\n",
       "    <tr>\n",
       "      <th>2</th>\n",
       "      <td>power_3</td>\n",
       "      <td>-5.846688e-56</td>\n",
       "    </tr>\n",
       "    <tr>\n",
       "      <th>3</th>\n",
       "      <td>power_4</td>\n",
       "      <td>0.000000e+00</td>\n",
       "    </tr>\n",
       "    <tr>\n",
       "      <th>4</th>\n",
       "      <td>power_5</td>\n",
       "      <td>0.000000e+00</td>\n",
       "    </tr>\n",
       "    <tr>\n",
       "      <th>5</th>\n",
       "      <td>power_6</td>\n",
       "      <td>2.685752e-71</td>\n",
       "    </tr>\n",
       "    <tr>\n",
       "      <th>6</th>\n",
       "      <td>power_7</td>\n",
       "      <td>2.261476e-67</td>\n",
       "    </tr>\n",
       "    <tr>\n",
       "      <th>7</th>\n",
       "      <td>power_8</td>\n",
       "      <td>1.859003e-63</td>\n",
       "    </tr>\n",
       "    <tr>\n",
       "      <th>8</th>\n",
       "      <td>power_9</td>\n",
       "      <td>1.471441e-59</td>\n",
       "    </tr>\n",
       "    <tr>\n",
       "      <th>9</th>\n",
       "      <td>power_10</td>\n",
       "      <td>1.097710e-55</td>\n",
       "    </tr>\n",
       "    <tr>\n",
       "      <th>10</th>\n",
       "      <td>power_11</td>\n",
       "      <td>7.435090e-52</td>\n",
       "    </tr>\n",
       "    <tr>\n",
       "      <th>11</th>\n",
       "      <td>power_12</td>\n",
       "      <td>4.230156e-48</td>\n",
       "    </tr>\n",
       "    <tr>\n",
       "      <th>12</th>\n",
       "      <td>power_13</td>\n",
       "      <td>1.616186e-44</td>\n",
       "    </tr>\n",
       "    <tr>\n",
       "      <th>13</th>\n",
       "      <td>power_14</td>\n",
       "      <td>-2.492838e-48</td>\n",
       "    </tr>\n",
       "    <tr>\n",
       "      <th>14</th>\n",
       "      <td>power_15</td>\n",
       "      <td>9.597183e-53</td>\n",
       "    </tr>\n",
       "  </tbody>\n",
       "</table>\n",
       "</div>"
      ],
      "text/plain": [
       "    features  estimated coefficients\n",
       "0    power_1            4.564042e-91\n",
       "1    power_2            6.917135e-51\n",
       "2    power_3           -5.846688e-56\n",
       "3    power_4            0.000000e+00\n",
       "4    power_5            0.000000e+00\n",
       "5    power_6            2.685752e-71\n",
       "6    power_7            2.261476e-67\n",
       "7    power_8            1.859003e-63\n",
       "8    power_9            1.471441e-59\n",
       "9   power_10            1.097710e-55\n",
       "10  power_11            7.435090e-52\n",
       "11  power_12            4.230156e-48\n",
       "12  power_13            1.616186e-44\n",
       "13  power_14           -2.492838e-48\n",
       "14  power_15            9.597183e-53"
      ]
     },
     "execution_count": 17,
     "metadata": {},
     "output_type": "execute_result"
    }
   ],
   "source": [
    "print(\"Coefficients: \", model15.intercept_)\n",
    "coeffs = pd.DataFrame(list(zip(poly15_data.drop('price',1).columns,model15.coef_)), columns = ['features', 'estimated coefficients'])\n",
    "coeffs"
   ]
  },
  {
   "cell_type": "code",
   "execution_count": 18,
   "metadata": {},
   "outputs": [
    {
     "data": {
      "image/png": "[encoded data removed]",
      "text/plain": [
       "<matplotlib.figure.Figure at 0x1465e74f470>"
      ]
     },
     "metadata": {},
     "output_type": "display_data"
    }
   ],
   "source": [
    "plt.figure(3)\n",
    "plt.plot(poly15_data[['power_1']], poly15_data[['price']],'.',\n",
    "         poly15_data[['power_1']], model15.predict(poly15_data.drop('price',1)),'-')\n",
    "plt.xlabel('Squarefeet')\n",
    "plt.ylabel('Price')\n",
    "plt.show()"
   ]
  },
  {
   "cell_type": "markdown",
   "metadata": {},
   "source": [
    "## Linear Regression Model for subset data"
   ]
  },
  {
   "cell_type": "markdown",
   "metadata": {},
   "source": [
    "We're going to split the sales data into four subsets of roughly equal size. Then you will estimate a 15th degree polynomial model on all four subsets of the data. Print the coefficients (you should use .print_rows(num_rows = 16) to view all of them) and plot the resulting fit (as we did above).\n",
    "\n",
    "Fit a 15th degree polynomial on set_1, set_2, set_3, and set_4 using sqft_living to predict prices. Print the coefficients and make a plot of the resulting model."
   ]
  },
  {
   "cell_type": "markdown",
   "metadata": {},
   "source": [
    "### Set 1"
   ]
  },
  {
   "cell_type": "code",
   "execution_count": 19,
   "metadata": {},
   "outputs": [
    {
     "name": "stdout",
     "output_type": "stream",
     "text": [
      "Coefficients:  539058.818668\n"
     ]
    },
    {
     "data": {
      "text/html": [
       "<div>\n",
       "<table border=\"1\" class=\"dataframe\">\n",
       "  <thead>\n",
       "    <tr style=\"text-align: right;\">\n",
       "      <th></th>\n",
       "      <th>features</th>\n",
       "      <th>estimated coefficients</th>\n",
       "    </tr>\n",
       "  </thead>\n",
       "  <tbody>\n",
       "    <tr>\n",
       "      <th>0</th>\n",
       "      <td>power_1</td>\n",
       "      <td>3.057942e-90</td>\n",
       "    </tr>\n",
       "    <tr>\n",
       "      <th>1</th>\n",
       "      <td>power_2</td>\n",
       "      <td>-1.693949e-49</td>\n",
       "    </tr>\n",
       "    <tr>\n",
       "      <th>2</th>\n",
       "      <td>power_3</td>\n",
       "      <td>-5.617676e-55</td>\n",
       "    </tr>\n",
       "    <tr>\n",
       "      <th>3</th>\n",
       "      <td>power_4</td>\n",
       "      <td>-4.978412e-60</td>\n",
       "    </tr>\n",
       "    <tr>\n",
       "      <th>4</th>\n",
       "      <td>power_5</td>\n",
       "      <td>0.000000e+00</td>\n",
       "    </tr>\n",
       "    <tr>\n",
       "      <th>5</th>\n",
       "      <td>power_6</td>\n",
       "      <td>1.103584e-70</td>\n",
       "    </tr>\n",
       "    <tr>\n",
       "      <th>6</th>\n",
       "      <td>power_7</td>\n",
       "      <td>8.377240e-67</td>\n",
       "    </tr>\n",
       "    <tr>\n",
       "      <th>7</th>\n",
       "      <td>power_8</td>\n",
       "      <td>6.234120e-63</td>\n",
       "    </tr>\n",
       "    <tr>\n",
       "      <th>8</th>\n",
       "      <td>power_9</td>\n",
       "      <td>4.491564e-59</td>\n",
       "    </tr>\n",
       "    <tr>\n",
       "      <th>9</th>\n",
       "      <td>power_10</td>\n",
       "      <td>3.069388e-55</td>\n",
       "    </tr>\n",
       "    <tr>\n",
       "      <th>10</th>\n",
       "      <td>power_11</td>\n",
       "      <td>1.917493e-51</td>\n",
       "    </tr>\n",
       "    <tr>\n",
       "      <th>11</th>\n",
       "      <td>power_12</td>\n",
       "      <td>1.013352e-47</td>\n",
       "    </tr>\n",
       "    <tr>\n",
       "      <th>12</th>\n",
       "      <td>power_13</td>\n",
       "      <td>3.621770e-44</td>\n",
       "    </tr>\n",
       "    <tr>\n",
       "      <th>13</th>\n",
       "      <td>power_14</td>\n",
       "      <td>-5.635017e-48</td>\n",
       "    </tr>\n",
       "    <tr>\n",
       "      <th>14</th>\n",
       "      <td>power_15</td>\n",
       "      <td>2.186411e-52</td>\n",
       "    </tr>\n",
       "  </tbody>\n",
       "</table>\n",
       "</div>"
      ],
      "text/plain": [
       "    features  estimated coefficients\n",
       "0    power_1            3.057942e-90\n",
       "1    power_2           -1.693949e-49\n",
       "2    power_3           -5.617676e-55\n",
       "3    power_4           -4.978412e-60\n",
       "4    power_5            0.000000e+00\n",
       "5    power_6            1.103584e-70\n",
       "6    power_7            8.377240e-67\n",
       "7    power_8            6.234120e-63\n",
       "8    power_9            4.491564e-59\n",
       "9   power_10            3.069388e-55\n",
       "10  power_11            1.917493e-51\n",
       "11  power_12            1.013352e-47\n",
       "12  power_13            3.621770e-44\n",
       "13  power_14           -5.635017e-48\n",
       "14  power_15            2.186411e-52"
      ]
     },
     "execution_count": 19,
     "metadata": {},
     "output_type": "execute_result"
    }
   ],
   "source": [
    "poly_set1 = polynomial_dataframe(set1['sqft_living'], 15)\n",
    "poly_set1['price'] = set1['price']\n",
    "model_set1 = linear_model.LinearRegression(copy_X=True, fit_intercept=True, n_jobs=1, normalize=False)\n",
    "model_set1.fit(poly_set1.drop('price',1), poly_set1['price'])\n",
    "print(\"Coefficients: \", model_set1.intercept_)\n",
    "coeffs = pd.DataFrame(list(zip(poly_set1.drop('price',1).columns,model_set1.coef_)), columns = ['features', 'estimated coefficients'])\n",
    "coeffs"
   ]
  },
  {
   "cell_type": "code",
   "execution_count": 20,
   "metadata": {},
   "outputs": [
    {
     "data": {
      "image/png": "[encoded data removed]",
      "text/plain": [
       "<matplotlib.figure.Figure at 0x1465e820710>"
      ]
     },
     "metadata": {},
     "output_type": "display_data"
    }
   ],
   "source": [
    "# Scatter plot of set1 data\n",
    "plt.figure(4)\n",
    "plt.plot(poly_set1[['power_1']], poly_set1[['price']],'.',\n",
    "         poly_set1[['power_1']], model_set1.predict(poly_set1.drop('price',1)),'-')\n",
    "plt.xlabel('Squarefeet')\n",
    "plt.ylabel('Price')\n",
    "plt.title('Set 1')\n",
    "plt.show()"
   ]
  },
  {
   "cell_type": "markdown",
   "metadata": {},
   "source": [
    "### Set 2"
   ]
  },
  {
   "cell_type": "code",
   "execution_count": 21,
   "metadata": {},
   "outputs": [
    {
     "name": "stdout",
     "output_type": "stream",
     "text": [
      "Coefficients:  506737.756227\n"
     ]
    },
    {
     "data": {
      "text/html": [
       "<div>\n",
       "<table border=\"1\" class=\"dataframe\">\n",
       "  <thead>\n",
       "    <tr style=\"text-align: right;\">\n",
       "      <th></th>\n",
       "      <th>features</th>\n",
       "      <th>estimated coefficients</th>\n",
       "    </tr>\n",
       "  </thead>\n",
       "  <tbody>\n",
       "    <tr>\n",
       "      <th>0</th>\n",
       "      <td>power_1</td>\n",
       "      <td>2.713359e-77</td>\n",
       "    </tr>\n",
       "    <tr>\n",
       "      <th>1</th>\n",
       "      <td>power_2</td>\n",
       "      <td>7.335411e-39</td>\n",
       "    </tr>\n",
       "    <tr>\n",
       "      <th>2</th>\n",
       "      <td>power_3</td>\n",
       "      <td>-1.850149e-44</td>\n",
       "    </tr>\n",
       "    <tr>\n",
       "      <th>3</th>\n",
       "      <td>power_4</td>\n",
       "      <td>8.437424e-50</td>\n",
       "    </tr>\n",
       "    <tr>\n",
       "      <th>4</th>\n",
       "      <td>power_5</td>\n",
       "      <td>0.000000e+00</td>\n",
       "    </tr>\n",
       "    <tr>\n",
       "      <th>5</th>\n",
       "      <td>power_6</td>\n",
       "      <td>0.000000e+00</td>\n",
       "    </tr>\n",
       "    <tr>\n",
       "      <th>6</th>\n",
       "      <td>power_7</td>\n",
       "      <td>3.645492e-55</td>\n",
       "    </tr>\n",
       "    <tr>\n",
       "      <th>7</th>\n",
       "      <td>power_8</td>\n",
       "      <td>1.504163e-51</td>\n",
       "    </tr>\n",
       "    <tr>\n",
       "      <th>8</th>\n",
       "      <td>power_9</td>\n",
       "      <td>5.760157e-48</td>\n",
       "    </tr>\n",
       "    <tr>\n",
       "      <th>9</th>\n",
       "      <td>power_10</td>\n",
       "      <td>1.957705e-44</td>\n",
       "    </tr>\n",
       "    <tr>\n",
       "      <th>10</th>\n",
       "      <td>power_11</td>\n",
       "      <td>5.393965e-41</td>\n",
       "    </tr>\n",
       "    <tr>\n",
       "      <th>11</th>\n",
       "      <td>power_12</td>\n",
       "      <td>9.403764e-38</td>\n",
       "    </tr>\n",
       "    <tr>\n",
       "      <th>12</th>\n",
       "      <td>power_13</td>\n",
       "      <td>-3.635291e-41</td>\n",
       "    </tr>\n",
       "    <tr>\n",
       "      <th>13</th>\n",
       "      <td>power_14</td>\n",
       "      <td>4.654765e-45</td>\n",
       "    </tr>\n",
       "    <tr>\n",
       "      <th>14</th>\n",
       "      <td>power_15</td>\n",
       "      <td>-1.971973e-49</td>\n",
       "    </tr>\n",
       "  </tbody>\n",
       "</table>\n",
       "</div>"
      ],
      "text/plain": [
       "    features  estimated coefficients\n",
       "0    power_1            2.713359e-77\n",
       "1    power_2            7.335411e-39\n",
       "2    power_3           -1.850149e-44\n",
       "3    power_4            8.437424e-50\n",
       "4    power_5            0.000000e+00\n",
       "5    power_6            0.000000e+00\n",
       "6    power_7            3.645492e-55\n",
       "7    power_8            1.504163e-51\n",
       "8    power_9            5.760157e-48\n",
       "9   power_10            1.957705e-44\n",
       "10  power_11            5.393965e-41\n",
       "11  power_12            9.403764e-38\n",
       "12  power_13           -3.635291e-41\n",
       "13  power_14            4.654765e-45\n",
       "14  power_15           -1.971973e-49"
      ]
     },
     "execution_count": 21,
     "metadata": {},
     "output_type": "execute_result"
    }
   ],
   "source": [
    "poly_set2 = polynomial_dataframe(set2['sqft_living'], 15)\n",
    "poly_set2['price'] = set2['price']\n",
    "model_set2 = linear_model.LinearRegression(copy_X=True, fit_intercept=True, n_jobs=1, normalize=False)\n",
    "model_set2.fit(poly_set2.drop('price',1), poly_set2['price'])\n",
    "print(\"Coefficients: \", model_set2.intercept_)\n",
    "coeffs = pd.DataFrame(list(zip(poly_set2.drop('price',1).columns,model_set2.coef_)), columns = ['features', 'estimated coefficients'])\n",
    "coeffs"
   ]
  },
  {
   "cell_type": "code",
   "execution_count": 22,
   "metadata": {},
   "outputs": [
    {
     "data": {
      "image/png": "[encoded data removed]",
      "text/plain": [
       "<matplotlib.figure.Figure at 0x1465e9043c8>"
      ]
     },
     "metadata": {},
     "output_type": "display_data"
    }
   ],
   "source": [
    "# Scatter plot of set 2 data\n",
    "plt.figure(5)\n",
    "plt.plot(poly_set2[['power_1']], poly_set2[['price']],'.',\n",
    "         poly_set2[['power_1']], model_set2.predict(poly_set2.drop('price',1)),'-')\n",
    "plt.xlabel('Squarefeet')\n",
    "plt.ylabel('Price')\n",
    "plt.title('Set 2')\n",
    "plt.show()"
   ]
  },
  {
   "cell_type": "markdown",
   "metadata": {},
   "source": [
    "### Set 3"
   ]
  },
  {
   "cell_type": "code",
   "execution_count": 23,
   "metadata": {},
   "outputs": [
    {
     "name": "stdout",
     "output_type": "stream",
     "text": [
      "Coefficients:  530874.316653\n"
     ]
    },
    {
     "data": {
      "text/html": [
       "<div>\n",
       "<table border=\"1\" class=\"dataframe\">\n",
       "  <thead>\n",
       "    <tr style=\"text-align: right;\">\n",
       "      <th></th>\n",
       "      <th>features</th>\n",
       "      <th>estimated coefficients</th>\n",
       "    </tr>\n",
       "  </thead>\n",
       "  <tbody>\n",
       "    <tr>\n",
       "      <th>0</th>\n",
       "      <td>power_1</td>\n",
       "      <td>2.837519e-88</td>\n",
       "    </tr>\n",
       "    <tr>\n",
       "      <th>1</th>\n",
       "      <td>power_2</td>\n",
       "      <td>-7.802241e-49</td>\n",
       "    </tr>\n",
       "    <tr>\n",
       "      <th>2</th>\n",
       "      <td>power_3</td>\n",
       "      <td>-1.387672e-55</td>\n",
       "    </tr>\n",
       "    <tr>\n",
       "      <th>3</th>\n",
       "      <td>power_4</td>\n",
       "      <td>3.982730e-59</td>\n",
       "    </tr>\n",
       "    <tr>\n",
       "      <th>4</th>\n",
       "      <td>power_5</td>\n",
       "      <td>0.000000e+00</td>\n",
       "    </tr>\n",
       "    <tr>\n",
       "      <th>5</th>\n",
       "      <td>power_6</td>\n",
       "      <td>4.278950e-69</td>\n",
       "    </tr>\n",
       "    <tr>\n",
       "      <th>6</th>\n",
       "      <td>power_7</td>\n",
       "      <td>2.680096e-65</td>\n",
       "    </tr>\n",
       "    <tr>\n",
       "      <th>7</th>\n",
       "      <td>power_8</td>\n",
       "      <td>1.639114e-61</td>\n",
       "    </tr>\n",
       "    <tr>\n",
       "      <th>8</th>\n",
       "      <td>power_9</td>\n",
       "      <td>9.664350e-58</td>\n",
       "    </tr>\n",
       "    <tr>\n",
       "      <th>9</th>\n",
       "      <td>power_10</td>\n",
       "      <td>5.380447e-54</td>\n",
       "    </tr>\n",
       "    <tr>\n",
       "      <th>10</th>\n",
       "      <td>power_11</td>\n",
       "      <td>2.725636e-50</td>\n",
       "    </tr>\n",
       "    <tr>\n",
       "      <th>11</th>\n",
       "      <td>power_12</td>\n",
       "      <td>1.162532e-46</td>\n",
       "    </tr>\n",
       "    <tr>\n",
       "      <th>12</th>\n",
       "      <td>power_13</td>\n",
       "      <td>3.337561e-43</td>\n",
       "    </tr>\n",
       "    <tr>\n",
       "      <th>13</th>\n",
       "      <td>power_14</td>\n",
       "      <td>-6.762388e-47</td>\n",
       "    </tr>\n",
       "    <tr>\n",
       "      <th>14</th>\n",
       "      <td>power_15</td>\n",
       "      <td>3.431329e-51</td>\n",
       "    </tr>\n",
       "  </tbody>\n",
       "</table>\n",
       "</div>"
      ],
      "text/plain": [
       "    features  estimated coefficients\n",
       "0    power_1            2.837519e-88\n",
       "1    power_2           -7.802241e-49\n",
       "2    power_3           -1.387672e-55\n",
       "3    power_4            3.982730e-59\n",
       "4    power_5            0.000000e+00\n",
       "5    power_6            4.278950e-69\n",
       "6    power_7            2.680096e-65\n",
       "7    power_8            1.639114e-61\n",
       "8    power_9            9.664350e-58\n",
       "9   power_10            5.380447e-54\n",
       "10  power_11            2.725636e-50\n",
       "11  power_12            1.162532e-46\n",
       "12  power_13            3.337561e-43\n",
       "13  power_14           -6.762388e-47\n",
       "14  power_15            3.431329e-51"
      ]
     },
     "execution_count": 23,
     "metadata": {},
     "output_type": "execute_result"
    }
   ],
   "source": [
    "poly_set3 = polynomial_dataframe(set3['sqft_living'], 15)\n",
    "poly_set3['price'] = set3['price']\n",
    "model_set3 = linear_model.LinearRegression(copy_X=True, fit_intercept=True, n_jobs=1, normalize=False)\n",
    "model_set3.fit(poly_set3.drop('price',1), poly_set3['price'])\n",
    "print(\"Coefficients: \", model_set3.intercept_)\n",
    "coeffs = pd.DataFrame(list(zip(poly_set3.drop('price',1).columns,model_set3.coef_)), columns = ['features', 'estimated coefficients'])\n",
    "coeffs"
   ]
  },
  {
   "cell_type": "code",
   "execution_count": 24,
   "metadata": {},
   "outputs": [
    {
     "data": {
      "image/png": "[encoded data removed]",
      "text/plain": [
       "<matplotlib.figure.Figure at 0x1465e9493c8>"
      ]
     },
     "metadata": {},
     "output_type": "display_data"
    }
   ],
   "source": [
    "# Scatter plot of set 3 data\n",
    "plt.figure(6)\n",
    "plt.plot(poly_set3[['power_1']], poly_set3[['price']],'.',\n",
    "         poly_set3[['power_1']], model_set3.predict(poly_set3.drop('price',1)),'-')\n",
    "plt.xlabel('Squarefeet')\n",
    "plt.ylabel('Price')\n",
    "plt.title('Set 3')\n",
    "plt.show()"
   ]
  },
  {
   "cell_type": "markdown",
   "metadata": {},
   "source": [
    "### Set 4"
   ]
  },
  {
   "cell_type": "code",
   "execution_count": 25,
   "metadata": {},
   "outputs": [
    {
     "name": "stdout",
     "output_type": "stream",
     "text": [
      "Coefficients:  500603.525195\n"
     ]
    },
    {
     "data": {
      "text/html": [
       "<div>\n",
       "<table border=\"1\" class=\"dataframe\">\n",
       "  <thead>\n",
       "    <tr style=\"text-align: right;\">\n",
       "      <th></th>\n",
       "      <th>features</th>\n",
       "      <th>estimated coefficients</th>\n",
       "    </tr>\n",
       "  </thead>\n",
       "  <tbody>\n",
       "    <tr>\n",
       "      <th>0</th>\n",
       "      <td>power_1</td>\n",
       "      <td>2.813243e-77</td>\n",
       "    </tr>\n",
       "    <tr>\n",
       "      <th>1</th>\n",
       "      <td>power_2</td>\n",
       "      <td>7.605441e-39</td>\n",
       "    </tr>\n",
       "    <tr>\n",
       "      <th>2</th>\n",
       "      <td>power_3</td>\n",
       "      <td>-1.918256e-44</td>\n",
       "    </tr>\n",
       "    <tr>\n",
       "      <th>3</th>\n",
       "      <td>power_4</td>\n",
       "      <td>8.748021e-50</td>\n",
       "    </tr>\n",
       "    <tr>\n",
       "      <th>4</th>\n",
       "      <td>power_5</td>\n",
       "      <td>0.000000e+00</td>\n",
       "    </tr>\n",
       "    <tr>\n",
       "      <th>5</th>\n",
       "      <td>power_6</td>\n",
       "      <td>0.000000e+00</td>\n",
       "    </tr>\n",
       "    <tr>\n",
       "      <th>6</th>\n",
       "      <td>power_7</td>\n",
       "      <td>3.779698e-55</td>\n",
       "    </tr>\n",
       "    <tr>\n",
       "      <th>7</th>\n",
       "      <td>power_8</td>\n",
       "      <td>1.559534e-51</td>\n",
       "    </tr>\n",
       "    <tr>\n",
       "      <th>8</th>\n",
       "      <td>power_9</td>\n",
       "      <td>5.972199e-48</td>\n",
       "    </tr>\n",
       "    <tr>\n",
       "      <th>9</th>\n",
       "      <td>power_10</td>\n",
       "      <td>2.029772e-44</td>\n",
       "    </tr>\n",
       "    <tr>\n",
       "      <th>10</th>\n",
       "      <td>power_11</td>\n",
       "      <td>5.592527e-41</td>\n",
       "    </tr>\n",
       "    <tr>\n",
       "      <th>11</th>\n",
       "      <td>power_12</td>\n",
       "      <td>9.749933e-38</td>\n",
       "    </tr>\n",
       "    <tr>\n",
       "      <th>12</th>\n",
       "      <td>power_13</td>\n",
       "      <td>-3.784887e-41</td>\n",
       "    </tr>\n",
       "    <tr>\n",
       "      <th>13</th>\n",
       "      <td>power_14</td>\n",
       "      <td>4.863386e-45</td>\n",
       "    </tr>\n",
       "    <tr>\n",
       "      <th>14</th>\n",
       "      <td>power_15</td>\n",
       "      <td>-2.066564e-49</td>\n",
       "    </tr>\n",
       "  </tbody>\n",
       "</table>\n",
       "</div>"
      ],
      "text/plain": [
       "    features  estimated coefficients\n",
       "0    power_1            2.813243e-77\n",
       "1    power_2            7.605441e-39\n",
       "2    power_3           -1.918256e-44\n",
       "3    power_4            8.748021e-50\n",
       "4    power_5            0.000000e+00\n",
       "5    power_6            0.000000e+00\n",
       "6    power_7            3.779698e-55\n",
       "7    power_8            1.559534e-51\n",
       "8    power_9            5.972199e-48\n",
       "9   power_10            2.029772e-44\n",
       "10  power_11            5.592527e-41\n",
       "11  power_12            9.749933e-38\n",
       "12  power_13           -3.784887e-41\n",
       "13  power_14            4.863386e-45\n",
       "14  power_15           -2.066564e-49"
      ]
     },
     "execution_count": 25,
     "metadata": {},
     "output_type": "execute_result"
    }
   ],
   "source": [
    "poly_set4 = polynomial_dataframe(set2['sqft_living'], 15)\n",
    "poly_set4['price'] = set4['price']\n",
    "model_set4 = linear_model.LinearRegression(copy_X=True, fit_intercept=True, n_jobs=1, normalize=False)\n",
    "model_set4.fit(poly_set4.drop('price',1), poly_set4['price'])\n",
    "print(\"Coefficients: \", model_set4.intercept_)\n",
    "coeffs = pd.DataFrame(list(zip(poly_set4.drop('price',1).columns,model_set4.coef_)), columns = ['features', 'estimated coefficients'])\n",
    "coeffs"
   ]
  },
  {
   "cell_type": "code",
   "execution_count": 26,
   "metadata": {},
   "outputs": [
    {
     "data": {
      "image/png": "[encoded data removed]",
      "text/plain": [
       "<matplotlib.figure.Figure at 0x1465ea429b0>"
      ]
     },
     "metadata": {},
     "output_type": "display_data"
    }
   ],
   "source": [
    "# Scatter plot of set 4 data\n",
    "plt.figure(7)\n",
    "plt.plot(poly_set4[['power_1']], poly_set4[['price']],'.',\n",
    "         poly_set4[['power_1']], model_set4.predict(poly_set4.drop('price',1)),'-')\n",
    "plt.xlabel('Squarefeet')\n",
    "plt.ylabel('Price')\n",
    "plt.title('Set 4')\n",
    "plt.show()"
   ]
  },
  {
   "cell_type": "markdown",
   "metadata": {},
   "source": [
    "## Selecting a Polynomial Degree"
   ]
  },
  {
   "cell_type": "markdown",
   "metadata": {},
   "source": [
    "We will find optimum degree of polynomial by following process:"
   ]
  },
  {
   "cell_type": "markdown",
   "metadata": {},
   "source": [
    "* For degree in [1, 2, 3, 4, 5, 6, 7, 8, 9, 10, 11, 12, 13, 14, 15] (to get this in python type range(1, 15+1))\n",
    "* Build an SFrame of polynomial data of train_data['sqft_living'] at the current degree\n",
    "* hint: my_features = poly_data.column_names() gives you a list e.g. ['power_1', 'power_2', 'power_3'] which you might find useful for graphlab.linear_regression.create( features = my_features)\n",
    "* Add train_data['price'] to the polynomial SFrame\n",
    "* Learn a polynomial regression model to sqft vs price with that degree on TRAIN data\n",
    "* Compute the RSS on VALIDATION data (here you will want to use .predict()) for that degree and you will need to make a polynmial SFrame using validation data.\n",
    "* Report which degree had the lowest RSS on validation data (remember python indexes from 0)"
   ]
  },
  {
   "cell_type": "code",
   "execution_count": 27,
   "metadata": {},
   "outputs": [
    {
     "name": "stdout",
     "output_type": "stream",
     "text": [
      "Degree: 1 / RSS: 7.07e+14\n",
      "Degree: 2 / RSS: 6.177e+14\n",
      "Degree: 3 / RSS: 6.177e+14\n",
      "Degree: 4 / RSS: 6.176e+14\n",
      "Degree: 5 / RSS: 6.176e+14\n",
      "Degree: 6 / RSS: 6.162e+14\n",
      "Degree: 7 / RSS: 6.176e+14\n",
      "Degree: 8 / RSS: 6.378e+14\n",
      "Degree: 9 / RSS: 6.848e+14\n",
      "Degree: 10 / RSS: 7.52e+14\n",
      "Degree: 11 / RSS: 8.261e+14\n",
      "Degree: 12 / RSS: 8.972e+14\n",
      "Degree: 13 / RSS: 1.143e+15\n",
      "Degree: 14 / RSS: 1.166e+15\n",
      "Degree: 15 / RSS: 1.183e+15\n"
     ]
    }
   ],
   "source": [
    "degree_rss_table =[]\n",
    "\n",
    "for degree in range(1,16):\n",
    "    data = polynomial_dataframe(train_data['sqft_living'], degree)\n",
    "    data['price'] = train_data['price']\n",
    "    model = linear_model.LinearRegression(copy_X=True, fit_intercept=True, n_jobs=1, normalize=False)\n",
    "    model.fit(data.drop('price',1), data['price'])\n",
    "    validation_data = polynomial_dataframe(valid_data['sqft_living'], degree)\n",
    "    val_pred = model.predict(data.drop('price',1))\n",
    "    residuals = val_pred - data['price']\n",
    "    RSS = (residuals**2).sum()\n",
    "    \n",
    "    print('Degree: %d / RSS: %.4g' % (degree, RSS))\n",
    "    degree_rss_table.append((degree,RSS))"
   ]
  },
  {
   "cell_type": "code",
   "execution_count": 28,
   "metadata": {},
   "outputs": [
    {
     "data": {
      "text/plain": [
       "[(6, 616209024361706.6),\n",
       " (7, 617631990814180.2),\n",
       " (4, 617637641573564.9),\n",
       " (5, 617649098972755.6),\n",
       " (3, 617670141211076.2),\n",
       " (2, 617681432824606.1),\n",
       " (8, 637786818418123.5),\n",
       " (9, 684830990648390.0),\n",
       " (1, 706999812596192.9),\n",
       " (10, 751989230809203.4),\n",
       " (11, 826146225747868.2),\n",
       " (12, 897225852501941.9),\n",
       " (13, 1143335158761442.2),\n",
       " (14, 1166042749408685.8),\n",
       " (15, 1183400438743908.2)]"
      ]
     },
     "execution_count": 28,
     "metadata": {},
     "output_type": "execute_result"
    }
   ],
   "source": [
    "# Choosing the best model\n",
    "sorted(degree_rss_table, key = lambda RSS: RSS[1])"
   ]
  },
  {
   "cell_type": "markdown",
   "metadata": {},
   "source": [
    "Apply optimum model to Test set:"
   ]
  },
  {
   "cell_type": "code",
   "execution_count": 29,
   "metadata": {},
   "outputs": [
    {
     "name": "stdout",
     "output_type": "stream",
     "text": [
      "RSS on Test data for the model of degree 6: 1.762e+14\n"
     ]
    }
   ],
   "source": [
    "# Apply the model to Test Set\n",
    "low_RSS_data = polynomial_dataframe(test_data['sqft_living'], degree)\n",
    "low_RSS_data['price'] = test_data['price']\n",
    "model = linear_model.LinearRegression(copy_X=True, fit_intercept=True, n_jobs=1, normalize=False)\n",
    "model.fit(low_RSS_data.drop('price',1), low_RSS_data['price'])\n",
    "test_pred = model.predict(low_RSS_data.drop('price',1))\n",
    "residuals = test_pred - low_RSS_data['price']\n",
    "RSS = (residuals**2).sum()\n",
    "print('RSS on Test data for the model of degree 6: %.4g' % RSS)"
   ]
  }
 ],
 "metadata": {
  "kernelspec": {
   "display_name": "Python 3",
   "language": "python",
   "name": "python3"
  },
  "language_info": {
   "codemirror_mode": {
    "name": "ipython",
    "version": 3
   },
   "file_extension": ".py",
   "mimetype": "text/x-python",
   "name": "python",
   "nbconvert_exporter": "python",
   "pygments_lexer": "ipython3",
   "version": "3.6.0"
  }
 },
 "nbformat": 4,
 "nbformat_minor": 2
}
